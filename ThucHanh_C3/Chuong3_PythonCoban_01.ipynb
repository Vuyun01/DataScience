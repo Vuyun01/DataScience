{
 "cells": [
  {
   "cell_type": "markdown",
   "id": "a3148f3b",
   "metadata": {},
   "source": [
    "# Chương 3: Lập trình Python cơ bản - Phần 1\n",
    "\n",
    "---\n",
    "* Sinh viên: Trần Bá Vũ \n",
    "* MSSV: 1921050698 \n",
    "\n",
    "---\n",
    "**Nội Dung bài 1**\n",
    "1. Biến và khai báo biến trong Python\n",
    "2. Các kiểu dũ liệu cơ bản\n",
    "    - Kiểu dữ liệu int, float\n",
    "    - Kiểu dữ liệu List\n",
    "    - Kiểu dữ liệu Boolean\n"
   ]
  },
  {
   "cell_type": "code",
   "execution_count": 4,
   "id": "54314e81",
   "metadata": {},
   "outputs": [
    {
     "name": "stdout",
     "output_type": "stream",
     "text": [
      "1.0\n"
     ]
    }
   ],
   "source": [
    "#khai báo biến <tên biên> = Giá trị\n",
    "a = 10\n",
    "b = 8.0\n",
    "\n",
    "chia_nguyen = a // b   # //: chia lấy phần nguyên\n",
    "mu = a ** b            # **: mũ\n",
    "print(mu)"
   ]
  },
  {
   "cell_type": "code",
   "execution_count": null,
   "id": "72978ec6",
   "metadata": {},
   "outputs": [],
   "source": []
  }
 ],
 "metadata": {
  "kernelspec": {
   "display_name": "Python 3",
   "language": "python",
   "name": "python3"
  },
  "language_info": {
   "codemirror_mode": {
    "name": "ipython",
    "version": 3
   },
   "file_extension": ".py",
   "mimetype": "text/x-python",
   "name": "python",
   "nbconvert_exporter": "python",
   "pygments_lexer": "ipython3",
   "version": "3.8.8"
  }
 },
 "nbformat": 4,
 "nbformat_minor": 5
}
