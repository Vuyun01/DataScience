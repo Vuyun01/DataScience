{
 "cells": [
  {
   "cell_type": "markdown",
   "metadata": {},
   "source": [
    "## CHƯƠNG 3: LẬP TRÌNH PYTHON CƠ BẢN - PHẦN BÀI TẬP 02\n",
    "---\n",
    "\n",
    "1. Họ tên Sinh viên: Trần Bá Vũ\n",
    "2. Mã Sinh viên: 1921050698\n",
    "3. Email: vu12401it@gmail.com"
   ]
  },
  {
   "cell_type": "code",
   "execution_count": null,
   "metadata": {},
   "outputs": [],
   "source": [
    "## Bài 6: Xác định nguyên âm|phụ âm\n",
    "---\n",
    "Nhập vào một ký tự chữ cái bất kỳ(không phân biệt chữ hoa-chữ thường), cho biết nó là nguyên âm hay phụ âm trong tiếng anh. \n",
    "* 5 chữ cái nguyên âm: **U, E, O, A, I**\n",
    "* 21 Chữ cái phụ âm: **B, C, D, F, G, H, J K, L, M, N, P, Q, R, S, T, V, W, X, Y, Z**\n"
   ]
  },
  {
   "cell_type": "code",
   "execution_count": null,
   "metadata": {},
   "outputs": [],
   "source": [
    "#{HỌC VIÊN VIẾT CODE Ở ĐÂY}\n",
    "#------------------------------------------------\n",
    "nguyen_am = ['U','E','O','A','I']\n",
    "char = input('Nhập chữ cái bất kì: ').upper()\n",
    "if char in nguyen_am: print(f'{char} là chữ cái nguyên âm!')\n",
    "else: print(f'{char} là chữ cái phụ âm!')\n",
    "\n",
    "\n",
    "\n"
   ]
  },
  {
   "cell_type": "code",
   "execution_count": null,
   "metadata": {},
   "outputs": [],
   "source": []
  },
  {
   "cell_type": "code",
   "execution_count": null,
   "metadata": {},
   "outputs": [],
   "source": []
  },
  {
   "cell_type": "markdown",
   "metadata": {},
   "source": [
    "## Bài 7: Tính chỉ số BMI\n",
    "---\n",
    "Nhập vào chiều cao (m) và cân nặng (kg) rồi tính chỉ số BMI của người đó theo công thức:\n",
    "\n",
    "* BMI = Weight(Kg) / Height(m) ^2 \n",
    "\n",
    "Dựa vào chỉ số BMI tính được đưa ra nhận xét về cơ thể của người đó theo các mức:\n",
    "* Underweight: BMI<18.5\n",
    "* NormalWeight: 18.5 <= BMI <= 24.9\n",
    "* Overweight: 25 <= BMI <=29.9\n",
    "* Obese: BMI>=30\n"
   ]
  },
  {
   "cell_type": "code",
   "execution_count": null,
   "metadata": {},
   "outputs": [],
   "source": [
    "#{HỌC VIÊN VIẾT CODE Ở ĐÂY}\n",
    "#-------------------------------------------\n",
    "weight = float(input('Nhập cân nặng <KG>: ')) \n",
    "height = float(input('Nhập chiều cao <m>: '))\n",
    "\n",
    "BMI = weight / (height ** 2)\n",
    "\n",
    "if BMI < 18.5: print(f'{BMI} - UnderWeight!')\n",
    "elif BMI >= 18.5 and BMI <= 24.9: print(f'{BMI} - NormalWeight!')\n",
    "elif BMI >= 25 and BMI <= 29.9: print(f'{BMI} - OverWeight!')\n",
    "elif BMI >= 30: print(f'{BMI} - Obese!')\n",
    "    \n",
    "               \n",
    "\n",
    "\n",
    "\n",
    "\n",
    "\n",
    "\n"
   ]
  },
  {
   "cell_type": "code",
   "execution_count": null,
   "metadata": {},
   "outputs": [],
   "source": []
  },
  {
   "cell_type": "markdown",
   "metadata": {},
   "source": [
    "## Bài 8: Xác định mùa trong năm!\n",
    "---\n",
    "Nhập vào tháng sinh của bạn và cho biết bạn sinh vào mùa nào?\n",
    "\n",
    "**Yêu cầu:**\n",
    "* Nếu 1, 2, 3: Bạn sinh vào Mùa xuân\n",
    "* Nếu 4, 5, 6: Bạn sinh vào Mùa hạ\n",
    "* Nếu 7, 8, 9: Bạn sinh vào Mùa thu\n",
    "* Nếu 10, 11, 12: Bạn sinh vào Mùa đông\n",
    "* <1 hoặc >12: Tháng sinh nhập vào không đúng\n"
   ]
  },
  {
   "cell_type": "code",
   "execution_count": null,
   "metadata": {},
   "outputs": [],
   "source": [
    "#{HỌC VIÊN VIẾT CODE Ở ĐÂY!}\n",
    "#------------------------------------------\n",
    "birth = int(input('Nhập vào tháng sinh của bạn: '))\n",
    "\n",
    "if birth == 1 or birth == 2 or birth == 3: print('Bạn sinh vào mùa Xuân')\n",
    "elif birth == 4 or birth == 5 or birth == 6: print('Bạn sinh vào mùa Hạ')\n",
    "elif birth == 7 or birth == 8 or birth == 9: print('Bạn sinh vào mùa Thu')\n",
    "elif birth == 10 or birth == 11 or birth == 12: print('Bạn sinh vào mùa Đông')\n",
    "else:print('Tháng sinh nhập vào không đúng')\n",
    "\n",
    "\n",
    "\n"
   ]
  },
  {
   "cell_type": "markdown",
   "metadata": {},
   "source": [
    "## Bài 9: Hiển thị bảng cửu chương!\n",
    "---\n",
    "Nhập vào bảng cửu chương muốn in (1 – 10), hiển thị bảng cửu chương tương ứng với số vừa nhập. (Lưu ý: Thực hiện kiểm tra giá trị nhập, chỉ thỏa mãn khi giá trị nhập vào trong khoảng [1,10] \n",
    "\n",
    "*Xem minh họa bài tập trong file bài giảng!*"
   ]
  },
  {
   "cell_type": "code",
   "execution_count": 1,
   "metadata": {},
   "outputs": [
    {
     "name": "stdout",
     "output_type": "stream",
     "text": [
      "===============Bảng cửu chương====================\n",
      "Nhập vào bảng cửu chương muốn hiển thị [1 - 10]: 5\n",
      "----------------BẢNG CỬU CHƯƠNG 5---------------------\n",
      "5  x  1  =  5\n",
      "5  x  2  =  10\n",
      "5  x  3  =  15\n",
      "5  x  4  =  20\n",
      "5  x  5  =  25\n",
      "5  x  6  =  30\n",
      "5  x  7  =  35\n",
      "5  x  8  =  40\n",
      "5  x  9  =  45\n",
      "5  x  10  =  50\n"
     ]
    }
   ],
   "source": [
    "#{HỌC VIÊN VIẾT CODE Ở ĐÂY!}\n",
    "#-----------------------------------------\n",
    "print('===============Bảng cửu chương====================')\n",
    "\n",
    "bcc = int(input('Nhập vào bảng cửu chương muốn hiển thị [1 - 10]: '))\n",
    "while bcc < 1 or bcc > 10:\n",
    "    bcc = int(input('Nhập sai, vui lòng nhập lại [1 - 10]: '))\n",
    "\n",
    "print(f'----------------BẢNG CỬU CHƯƠNG {bcc}---------------------')\n",
    "for j in range(1,11):\n",
    "    print(bcc,' x ',j,' = ',bcc*j)\n"
   ]
  },
  {
   "cell_type": "markdown",
   "metadata": {},
   "source": [
    "## Bài 10: Tính điểm học tập của bạn!\n",
    "---\n",
    "Khởi tạo một danh sách bao gồm các phần tử là điểm của bạn (hệ 10). Hãy thực hiện:\n",
    "1. Tạo một danh sách là các điểm chữ tương ứng với điểm hệ 10 ở trên.\n",
    "2. Tính điểm trung bình Hệ 10 và Hệ 4\n",
    "\n",
    "*Tham khảo minh họa trong slide bài giảng bảng chuyển đổi từ điểm số (Hệ 10) sang điểm số (hệ 4) và điểm chữ*  \n"
   ]
  },
  {
   "cell_type": "code",
   "execution_count": 1,
   "metadata": {},
   "outputs": [
    {
     "name": "stdout",
     "output_type": "stream",
     "text": [
      "ĐIỂM HỆ 10:  [8.4, 9.6, 2.4, 5.6, 7.2, 8.6, 5.4, 3.5, 9.2, 6.7]\n",
      "ĐIỂM HỆ 4:  [3.5, 4.0, 0.0, 2.0, 3.0, 3.7, 1.5, 0.0, 4.0, 2.5]\n",
      "ĐIỂM HỆ CHỮ:  ['B+', 'A+', 'F', 'C', 'B', 'A', 'D+', 'F', 'A+', 'C+']\n",
      "ĐIỂM TRUNG BÌNH HỆ 10:  6.660000000000001\n",
      "ĐIỂM TRUNG BÌNH HỆ 4:  2.42\n"
     ]
    }
   ],
   "source": [
    "#{HỌC VIÊN VIẾT CODE Ở ĐÂY!}\n",
    "#-------------------------------------------\n",
    "#1---------------------------\n",
    "he_10 = [8.4 , 9.6, 2.4 ,\n",
    "         5.6 , 7.2 , 8.6, \n",
    "         5.4 , 3.5 , 9.2 , 6.7]\n",
    "\n",
    "he_4 = [3.5 , 4.0 , 0.0 ,\n",
    "        2.0 , 3.0 , 3.7 ,\n",
    "       1.5 , 0.0 , 4.0 ,2.5]\n",
    "\n",
    "he_chu = ['B+' , 'A+', 'F' ,\n",
    "          'C' , 'B' , 'A' , \n",
    "         'D+' , 'F' , 'A+' , 'C+']\n",
    "#biến tính toán\n",
    "sum_he10 = 0\n",
    "tb_he10 = 0\n",
    "\n",
    "sum_he4 = 0\n",
    "tb_he4 = 0\n",
    "\n",
    "for i in he_10:\n",
    "    sum_he10 += i\n",
    "for j in he_4:\n",
    "    sum_he4 += j\n",
    "#tính điểm tb\n",
    "tb_he10 = sum_he10 / len(he_10)\n",
    "tb_he4 = sum_he4 / len(he_4)\n",
    "#in điểm\n",
    "print('ĐIỂM HỆ 10: ',he_10)\n",
    "print('ĐIỂM HỆ 4: ',he_4)\n",
    "print('ĐIỂM HỆ CHỮ: ',he_chu)\n",
    "\n",
    "print('ĐIỂM TRUNG BÌNH HỆ 10: ', tb_he10)\n",
    "print('ĐIỂM TRUNG BÌNH HỆ 4: ', tb_he4)\n",
    "\n",
    "\n",
    "\n",
    "\n"
   ]
  },
  {
   "cell_type": "markdown",
   "metadata": {},
   "source": [
    "## Bài 11: Kiểm tra N có là số nguyên tố?\n",
    "---\n",
    "Nhập vào số tự nhiên N, cho biết N có phải là số nguyên tố hay không? (Số nguyên tố là số lớn hơn 1, chỉ chia hết cho 1 và chính nó)\n"
   ]
  },
  {
   "cell_type": "code",
   "execution_count": 1,
   "metadata": {},
   "outputs": [
    {
     "name": "stdout",
     "output_type": "stream",
     "text": [
      "Nhập vào 1 số: 100\n",
      "100 không phải là số nguyên tố!\n"
     ]
    }
   ],
   "source": [
    "#{HỌC VIÊN VIẾT CODE Ở ĐÂY!}\n",
    "#------------------------------\n",
    "# N0 = 2, 4        --> ???\n",
    "# N1 = 98711653011 --> ??\n",
    "# N2 = 87178291199 --> ??\n",
    "#------------------------------\n",
    "#Nhập số bất kì\n",
    "snt = int(input('Nhập vào 1 số: '))\n",
    "while snt < 2:\n",
    "    snt = int(input('Nhập lại: '))\n",
    "\n",
    "#tìm số nguyên tố\n",
    "count = 0\n",
    "\n",
    "for i in range(1,snt+1):\n",
    "    if snt % i == 0:\n",
    "        count += 1\n",
    "\n",
    "if count == 2:\n",
    "    print(f'{snt} là số nguyên tố!')\n",
    "else:\n",
    "    print(f'{snt} không phải là số nguyên tố!')\n"
   ]
  },
  {
   "cell_type": "code",
   "execution_count": null,
   "metadata": {},
   "outputs": [],
   "source": []
  },
  {
   "cell_type": "markdown",
   "metadata": {},
   "source": [
    "## Bài 12: dãy số nguyên tố\n",
    "---\n",
    "Nhập vào một số N, hiển thị các số nguyên tố từ 2 tới N:\n"
   ]
  },
  {
   "cell_type": "code",
   "execution_count": 2,
   "metadata": {},
   "outputs": [
    {
     "name": "stdout",
     "output_type": "stream",
     "text": [
      "Nhập vào 1 số: 100\n",
      "Các số nguyên tố từ 2 -> 100 là: [2, 3, 5, 7, 11, 13, 17, 19, 23, 29, 31, 37, 41, 43, 47, 53, 59, 61, 67, 71, 73, 79, 83, 89, 97]\n"
     ]
    }
   ],
   "source": [
    "#{HỌC VIÊN VIẾT CODE Ở ĐÂY!}\n",
    "#--------------------------------\n",
    "#Nhập số bất kì\n",
    "n = int(input('Nhập vào 1 số: '))\n",
    "while n < 2:\n",
    "    n = int(input('Nhập lại: '))\n",
    "\n",
    "#tìm số nguyên tố\n",
    "\n",
    "list_snt = []\n",
    "for i in range (2, n+1):\n",
    "    count = 0\n",
    "    for j in range(2,i+1):\n",
    "        if i % j== 0:\n",
    "            count += 1\n",
    "    if count == 1:\n",
    "        list_snt.append(i)\n",
    "print(f'Các số nguyên tố từ 2 -> {n} là: {list_snt}')\n",
    "\n",
    "\n"
   ]
  },
  {
   "cell_type": "markdown",
   "metadata": {},
   "source": [
    "## Bài 13: Đổi số từ thập phân sang nhị phân\n",
    "---\n",
    "Nhập vào một số tự nhiên N (N>0), chuyển đổi số N sang hệ nhị phân.\n"
   ]
  },
  {
   "cell_type": "code",
   "execution_count": 12,
   "metadata": {},
   "outputs": [
    {
     "name": "stdout",
     "output_type": "stream",
     "text": [
      "Nhập vào 1 số tự nhiên: 10\n",
      "Số 10 -> hệ nhị phân: 1 0 1 0 "
     ]
    }
   ],
   "source": [
    "#{HỌC VIÊN VIẾT CODE Ở ĐÂY!}\n",
    "#-------------------------------\n",
    "num = int(input('Nhập vào 1 số tự nhiên: '))\n",
    "while num < 1:\n",
    "    num = int(input('Nhập lại: '))\n",
    "    \n",
    "#chuyển đổi số -> hệ nhị phân\n",
    "he_nhiphan = []\n",
    "\n",
    "count = 0\n",
    "n = num\n",
    "while n != 0:\n",
    "    if n % 2 == 0:\n",
    "        count = 0\n",
    "    else:\n",
    "        count = 1\n",
    "    n //= 2\n",
    "    he_nhiphan.append(count)\n",
    "reverse_list = he_nhiphan[::-1]\n",
    "print(f'Số {num} -> hệ nhị phân: ', end ='')\n",
    "for i in reverse_list:\n",
    "    print(i,end=' ')\n",
    "# print(f'Số {num} -> hệ nhị phân: {reverse_list}')"
   ]
  },
  {
   "cell_type": "markdown",
   "metadata": {},
   "source": [
    "## Bài 14: Tìm số Max – Min - Mean\n",
    "---\n",
    "Khởi tạo một dãy số là chiều cao của sinh viên trong một lớp (m). Thực hiện:\n",
    "1. Hiển thị chiều cao của sinh viên cao nhất – thấp nhất trong lớp\n",
    "2. Tính chiều cao trung bình của sinh viên trong lớp.\n",
    "3. Số lượng sinh viên trong lớp có chiều cao lớn hơn hoặc bằng chiều cao trung bình của lớp\n"
   ]
  },
  {
   "cell_type": "code",
   "execution_count": 2,
   "metadata": {},
   "outputs": [
    {
     "name": "stdout",
     "output_type": "stream",
     "text": [
      "Sinh viên có chiều cao lớn nhất là 1.82\n",
      "Sinh viên có chiều cao thấp nhất là 1.55\n",
      "Chiều cao trung bình của sinh viên trong lớp là: 1.6688888888888889\n",
      "Số lượng sinh viên có chiều cao >= chiều cao trung bình của lớp là: 4 sinh viên\n"
     ]
    }
   ],
   "source": [
    "#{HỌC VIÊN VIẾT CODE Ở ĐÂY!}\n",
    "#--------------------------------------\n",
    "list_height = [1.75, 1.60, 1.55,\n",
    "              1.82, 1.65, 1.58, \n",
    "              1.77, 1.62, 1.68]\n",
    "\n",
    "#1------------------------------------\n",
    "max = 0\n",
    "min = 999\n",
    "for i in list_height:\n",
    "    if max < i:\n",
    "        max = i\n",
    "    if min > i:\n",
    "        min = i\n",
    "print(f'Sinh viên có chiều cao lớn nhất là {max}')\n",
    "print(f'Sinh viên có chiều cao thấp nhất là {min}')\n",
    "\n",
    "#2-------------------------------------\n",
    "average_height = 0\n",
    "s = 0\n",
    "for i in list_height:\n",
    "    s += i\n",
    "    \n",
    "average_height = s / len(list_height)\n",
    "print(f'Chiều cao trung bình của sinh viên trong lớp là: {average_height}')\n",
    "\n",
    "#3-------------------------------------\n",
    "count = 0\n",
    "for i in list_height:\n",
    "    if i >= average_height:\n",
    "        count +=1\n",
    "print(f'Số lượng sinh viên có chiều cao >= chiều cao trung bình của lớp là: {count} sinh viên')"
   ]
  },
  {
   "cell_type": "code",
   "execution_count": null,
   "metadata": {},
   "outputs": [],
   "source": []
  }
 ],
 "metadata": {
  "kernelspec": {
   "display_name": "Python 3",
   "language": "python",
   "name": "python3"
  },
  "language_info": {
   "codemirror_mode": {
    "name": "ipython",
    "version": 3
   },
   "file_extension": ".py",
   "mimetype": "text/x-python",
   "name": "python",
   "nbconvert_exporter": "python",
   "pygments_lexer": "ipython3",
   "version": "3.8.8"
  }
 },
 "nbformat": 4,
 "nbformat_minor": 2
}
