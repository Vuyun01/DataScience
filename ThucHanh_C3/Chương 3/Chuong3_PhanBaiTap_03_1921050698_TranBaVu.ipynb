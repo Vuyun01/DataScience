{
 "cells": [
  {
   "cell_type": "markdown",
   "metadata": {},
   "source": [
    "## CHƯƠNG 3: LẬP TRÌNH PYTHON CƠ BẢN - PHẦN BÀI TẬP - 03\n",
    "---\n",
    "\n",
    "1. Họ tên Sinh viên: Trần Bá Vũ\n",
    "2. Mã Sinh viên: 1921050698\n",
    "3. Email: vu12401it@gmail.com"
   ]
  },
  {
   "cell_type": "markdown",
   "metadata": {},
   "source": [
    "## BÀI 15: Viết hàm cho các bài đã thực hiện\n",
    "---\n",
    "1. Viết hàm greeting(): Trả về câu chào với tham số truyền vào là chuỗi họ tên và năm sinh (Xem lại bài tập số 2)\n",
    "2. Viết hàm rabbit_count(): tính số thỏ trong rừng khi truyền vào số tháng (Xem lại bài tập số 3)\n",
    "3. Viết hàm count_mark(): trả về số sinh viên học lại và tổng số sinh viên trong lớp với tham số truyền vào là một danh sách bảng điểm (Xem lại bài tập số 5 ý 1, 2)\n",
    "4. Viết hàm bmi_show(): Trả về nhận xét dựa vào chỉ số BMI đã tính với 2 tham số truyền vào là chiều cao, cân nặng (Xem lại bài tập số 7)\n",
    "5. Viết hàm cal_point(): Trả về điểm trung bình hệ 10 và hệ 4 của một học sinh khi truyền vào danh sách điểm (Xem lại bài tập số 10 ý 2)\n",
    "6. Viết hàm list_prime(): trả danh sách các số nguyên tố trong khoảng tử 1 đến n với tham số truyền vào là n (Xem lại bài tập số 12)\n"
   ]
  },
  {
   "cell_type": "code",
   "execution_count": 7,
   "metadata": {},
   "outputs": [
    {
     "name": "stdout",
     "output_type": "stream",
     "text": [
      "Name? : vũ\n",
      "Age? : -1\n",
      "Re-enter your age, please: 20\n",
      "Hello vũ - 20 years old\n"
     ]
    }
   ],
   "source": [
    "#{HỌC VIÊN VIẾT CODE Ở ĐÂY}\n",
    "#1:\n",
    "\n",
    "def greeting(name = 'nope' , age = 2001):\n",
    "    print(f'Hello {name} - {age} years old')\n",
    "name = input('Name? : ')\n",
    "age = int(input('Age? : '))\n",
    "while age < 1: age = int(input('Re-enter your age, please: '))\n",
    "greeting(name, age)\n",
    "    "
   ]
  },
  {
   "cell_type": "code",
   "execution_count": 8,
   "metadata": {},
   "outputs": [
    {
     "data": {
      "text/plain": [
       "16384"
      ]
     },
     "execution_count": 8,
     "metadata": {},
     "output_type": "execute_result"
    }
   ],
   "source": [
    "#2:\n",
    "\n",
    "def rabbit_count(month=3):\n",
    "    return 2**(month+1)\n",
    "rabbit_count(13)"
   ]
  },
  {
   "cell_type": "code",
   "execution_count": 11,
   "metadata": {},
   "outputs": [
    {
     "name": "stdout",
     "output_type": "stream",
     "text": [
      "Số sinh viên phải học lại: 3\n",
      "Tổng số sinh viên: 15\n"
     ]
    }
   ],
   "source": [
    "#3:\n",
    "diem_sv = ['C','B','D','A','F','A','B','F','B','B','C','A','D','F','B']\n",
    "\n",
    "def count_mark(diem):\n",
    "    count_sv = 0\n",
    "    for i in diem:\n",
    "        if i == 'F': count_sv += 1\n",
    "    return count_sv, len(diem)\n",
    "\n",
    "print(f'Số sinh viên phải học lại: {count_mark(diem_sv)[0]}') #[0] lấy số sv bị học lại\n",
    "print(f'Tổng số sinh viên: {count_mark(diem_sv)[1]}') #[1] lấy tổng số sv\n",
    "\n",
    "    "
   ]
  },
  {
   "cell_type": "code",
   "execution_count": 14,
   "metadata": {},
   "outputs": [
    {
     "name": "stdout",
     "output_type": "stream",
     "text": [
      "Your height?: 1.75\n",
      "Your weight?: 60\n",
      "Your BMI: 19.59  -> NormalWeight\n"
     ]
    }
   ],
   "source": [
    "#4:\n",
    "def bmi_show(height=1.75, weight=60): \n",
    "    list_form = ['UnderWeight', 'NormalWeight', 'OverWeight', 'Obese']\n",
    "    BMI = weight / (height ** 2)\n",
    "    round_BMI = round(BMI,2)\n",
    "    \n",
    "    if BMI < 18.5: return round_BMI, list_form[0]\n",
    "    elif BMI >= 18.5 and BMI <= 24.9: return round_BMI, list_form[1]\n",
    "    elif BMI >= 25 and BMI <= 29.9: return round_BMI, list_form[2]\n",
    "    elif BMI >= 30: return round_BMI, list_form[3]\n",
    "\n",
    "height = float(input('Your height?: '))\n",
    "weight = float(input('Your weight?: '))\n",
    "\n",
    "print(f'Your BMI: {bmi_show(height, weight)[0]}  -> {bmi_show(height, weight)[1]}')\n",
    "\n"
   ]
  },
  {
   "cell_type": "code",
   "execution_count": 12,
   "metadata": {},
   "outputs": [
    {
     "name": "stdout",
     "output_type": "stream",
     "text": [
      "Điểm trung bình hệ 10:  6.660000000000001\n",
      "Điểm trung bình hệ 4:  2.42\n"
     ]
    }
   ],
   "source": [
    "#5:\n",
    "def cal_point(he_4,he_10):\n",
    "    sum_he10 = 0\n",
    "    tb_he10 = 0\n",
    "\n",
    "    sum_he4 = 0\n",
    "    tb_he4 = 0\n",
    "\n",
    "    for i in he_10:\n",
    "        sum_he10 += i\n",
    "    for j in he_4:\n",
    "        sum_he4 += j\n",
    "    #tính điểm tb\n",
    "    tb_he10 = sum_he10 / len(he_10)\n",
    "    tb_he4 = sum_he4 / len(he_4)\n",
    "    \n",
    "    return tb_he10, tb_he4\n",
    "\n",
    "\n",
    "he_10 = [8.4 , 9.6, 2.4 ,\n",
    "         5.6 , 7.2 , 8.6, \n",
    "         5.4 , 3.5 , 9.2 , 6.7]\n",
    "\n",
    "he_4 = [3.5 , 4.0 , 0.0 ,\n",
    "        2.0 , 3.0 , 3.7 ,\n",
    "       1.5 , 0.0 , 4.0 ,2.5]\n",
    "\n",
    "print('Điểm trung bình hệ 10: ', cal_point(he_4, he_10)[0])\n",
    "print('Điểm trung bình hệ 4: ', cal_point(he_4,he_10)[1])\n"
   ]
  },
  {
   "cell_type": "code",
   "execution_count": 20,
   "metadata": {},
   "outputs": [
    {
     "name": "stdout",
     "output_type": "stream",
     "text": [
      "Nhập số bất kì: 99\n",
      "Danh sách số nguyên tố [1 -> 99]: [2, 3, 5, 7, 11, 13, 17, 19, 23, 29, 31, 37, 41, 43, 47, 53, 59, 61, 67, 71, 73, 79, 83, 89, 97]\n"
     ]
    }
   ],
   "source": [
    "#6:\n",
    "def list_prime(n):\n",
    "    snt = []\n",
    "    for i in range (1, n+1):\n",
    "        count = 0\n",
    "        for j in range (1, i+1):\n",
    "            if i % j == 0: count += 1\n",
    "        if count == 2: snt.append(i)\n",
    "    return snt\n",
    "\n",
    "n = int(input('Nhập số bất kì: '))\n",
    "while n < 1: n = int(input('Nhập lại!: '))\n",
    "print(f'Danh sách số nguyên tố [1 -> {n}]: {list_prime(n)}')"
   ]
  },
  {
   "cell_type": "code",
   "execution_count": null,
   "metadata": {},
   "outputs": [],
   "source": []
  },
  {
   "cell_type": "code",
   "execution_count": null,
   "metadata": {},
   "outputs": [],
   "source": []
  },
  {
   "cell_type": "markdown",
   "metadata": {},
   "source": [
    "## BÀI 16: Xây dựng lớp Person:\n",
    "---\n",
    "1. Gồm các Thuộc tính: \n",
    "họ tên (name), năm sinh (year), chiều cao height), cân nặng (weight)\n",
    "2. Gồm các Phương thức: \n",
    "    * Geeting(): Hiển thị thông tin của Person\n",
    "    * BMI(): Tính toán theo chỉ số BMI của Person\n"
   ]
  },
  {
   "cell_type": "code",
   "execution_count": null,
   "metadata": {},
   "outputs": [],
   "source": [
    "#{HỌC VIÊN VIẾT CODE Ở ĐÂY}\n"
   ]
  },
  {
   "cell_type": "code",
   "execution_count": 4,
   "metadata": {},
   "outputs": [
    {
     "name": "stdout",
     "output_type": "stream",
     "text": [
      "Hello Ao ma canada, was born in 2001. You are tall 175 cm and weight 65 kg\n"
     ]
    },
    {
     "data": {
      "text/plain": [
       "'=> You are UnderWeight'"
      ]
     },
     "execution_count": 4,
     "metadata": {},
     "output_type": "execute_result"
    }
   ],
   "source": [
    "class Person:\n",
    "    def __init__(self, name = 'Vu', year = 2001, height = 175, weight = 65):\n",
    "        self.name = name\n",
    "        self.year = year\n",
    "        self.height = height\n",
    "        self.weight = weight\n",
    "    def greeting(self):\n",
    "        print(f'Hello {self.name}, was born in {self.year}. You are tall {self.height} cm and weight {self.weight} kg' )\n",
    "    def BMI(self):\n",
    "        BMI = self.weight / (self.height ** 2)\n",
    "\n",
    "        if BMI < 18.5: return '=> You are UnderWeight'\n",
    "        elif BMI >= 18.5 and BMI <= 24.9: return '=> You are NormalWeight'\n",
    "        elif BMI >= 25 and BMI <= 29.9: return '=> You are OverWeight'\n",
    "        elif BMI >= 30: return '=> You are Obese'\n",
    "        \n",
    "person1 = Person('Ao ma canada', 2001)\n",
    "person1.greeting()\n",
    "person1.BMI()\n",
    "        "
   ]
  },
  {
   "cell_type": "code",
   "execution_count": null,
   "metadata": {},
   "outputs": [],
   "source": []
  },
  {
   "cell_type": "code",
   "execution_count": null,
   "metadata": {},
   "outputs": [],
   "source": []
  },
  {
   "cell_type": "markdown",
   "metadata": {},
   "source": [
    "## BÀI 17: Đọc/ghi file\n",
    "---\n",
    "Đọc dữ liệu trong file dayso1_bai17.txt:\n",
    "1. Tìm phần tử lớn nhất và nhỏ nhất trong dãy, sau đó thực hiện đổi chỗ phần tử lớn nhất xuất hiện đầu tiên trong dãy cho phần tử nhỏ nhất xuất hiện đầu tiên trong dãy.\n",
    "2. Lưu dãy mới đã đổi chỗ sang file dayso2_bai17.txt\n",
    "\n",
    "*Xem hình minh họa trong file slide bài giảng*"
   ]
  },
  {
   "cell_type": "code",
   "execution_count": 3,
   "metadata": {},
   "outputs": [
    {
     "name": "stdout",
     "output_type": "stream",
     "text": [
      "Ds TRƯỚC khi hoán đổi vị trí min, max: [5, 9, 8, 14, 6, 18, 21, 2, 19, 26, -1, 17, 8, 25, 0, 14, -1, 1, 30, 11, 5, 30, -1]\n",
      "Ds SAU khi hoán đổi vị trí min, max: [5, 9, 8, 14, 6, 18, 21, 2, 19, 26, 30, 17, 8, 25, 0, 14, -1, 1, -1, 11, 5, 30, -1]\n"
     ]
    }
   ],
   "source": [
    "#{HỌC VIÊN VIẾT CODE Ở ĐÂY}\n",
    "#open file to read\n",
    "file1 = open('dayso1_bai17.txt','r')\n",
    "file_text = file1.read()\n",
    "new_list = file_text.split(' ')\n",
    "new_list1 = [int(i) for i in new_list]\n",
    "# new_list1 = []\n",
    "# for i in range(0, len(new_list)):\n",
    "#     new_list1.append(int(new_list[i]))\n",
    "\n",
    "# #min, max value\n",
    "# max_value = max(new_list1)\n",
    "# min_value = min(new_list1)\n",
    "\n",
    "#swap min,max value\n",
    "temp = 0\n",
    "max_index = 0\n",
    "min_index = 0\n",
    "\n",
    "# for i in range(len(new_list1)): \n",
    "#     if new_list1[i] == max_value:\n",
    "#         max_index = i \n",
    "#         break\n",
    "# for i in range(len(new_list1)): \n",
    "#     if new_list1[i] == min_value: \n",
    "#         min_index = i\n",
    "#         break\n",
    "max_value = new_list1[0]\n",
    "min_value = new_list1[0]\n",
    "\n",
    "for i in new_list1:\n",
    "    if i > max_value: max_value = i\n",
    "    if i < min_value: min_value = i\n",
    "        \n",
    "max_index = new_list1.index(max_value)\n",
    "min_index = new_list1.index(min_value)\n",
    "\n",
    "print(f'Ds TRƯỚC khi hoán đổi vị trí min, max: {new_list1}')\n",
    "temp = new_list1[max_index]\n",
    "new_list1[max_index] = new_list1[min_index]\n",
    "new_list1[min_index] = temp\n",
    "\n",
    "print(f'Ds SAU khi hoán đổi vị trí min, max: {new_list1}')\n",
    "\n",
    "#Ghi file\n",
    "file2 = open('dayso2_bai17.txt', 'w')\n",
    "write_file = file2.write(str(new_list1))\n",
    "\n",
    "file1.close()\n",
    "file2.close()"
   ]
  },
  {
   "cell_type": "code",
   "execution_count": 20,
   "metadata": {},
   "outputs": [
    {
     "name": "stdout",
     "output_type": "stream",
     "text": [
      "[5, 9, 8, 14, 6, 18, 21, 2, 19, 26, 30, 17, 8, 25, 0, 14, -1, 1, -1, 11, 5, 30, -1]\n"
     ]
    }
   ],
   "source": [
    "#Mo file moi ghi\n",
    "file3 = open('dayso2_bai17.txt','r')\n",
    "read_file3 = file3.read()\n",
    "print(read_file3)\n",
    "file3.close()"
   ]
  },
  {
   "cell_type": "code",
   "execution_count": null,
   "metadata": {},
   "outputs": [],
   "source": []
  }
 ],
 "metadata": {
  "kernelspec": {
   "display_name": "Python 3",
   "language": "python",
   "name": "python3"
  },
  "language_info": {
   "codemirror_mode": {
    "name": "ipython",
    "version": 3
   },
   "file_extension": ".py",
   "mimetype": "text/x-python",
   "name": "python",
   "nbconvert_exporter": "python",
   "pygments_lexer": "ipython3",
   "version": "3.8.8"
  }
 },
 "nbformat": 4,
 "nbformat_minor": 2
}
