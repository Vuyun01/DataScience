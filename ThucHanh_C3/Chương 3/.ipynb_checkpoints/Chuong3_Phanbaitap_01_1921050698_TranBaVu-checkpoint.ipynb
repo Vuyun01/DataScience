{
 "cells": [
  {
   "cell_type": "markdown",
   "metadata": {},
   "source": [
    "## CHƯƠNG 3: LẬP TRÌNH PYTHON CƠ BẢN - PHẦN BÀI TẬP - 01\n",
    "---\n",
    "\n",
    "1. Họ tên Sinh viên: Trần Bá Vũ\n",
    "2. Mã Sinh viên: 1921050698\n",
    "3. Email: vu12401it@gmail.com"
   ]
  },
  {
   "cell_type": "markdown",
   "metadata": {},
   "source": [
    "## Bài 1: Chia kẹo cho học sinh lớp 1\n",
    "----\n",
    "Cô có n cái kẹo, có m học sinh trong lớp. Hãy giúp cô chia đều số kẹo cho tất cả học sinh.\n",
    "\n",
    "**Yêu cầu:**\n",
    "* Nhập vào số kẹo của cô – N\n",
    "* Nhập vào số học sinh trong lớp – M\n",
    "\n",
    "\n",
    "Cho biết:\n",
    "1. Mỗi học sinh được nhận bao nhiêu cái kẹo?\n",
    "2. Cô còn lại bao nhiêu cái kẹo?"
   ]
  },
  {
   "cell_type": "code",
   "execution_count": 13,
   "metadata": {
    "scrolled": true
   },
   "outputs": [
    {
     "name": "stdout",
     "output_type": "stream",
     "text": [
      "Nhập số kẹo cô có: 20\n",
      "Nhập số học sinh: 12\n",
      "Mỗi học sinh nhận được 1 cái kẹo\n"
     ]
    }
   ],
   "source": [
    "#{học viên viết code ở đây!}\n",
    "\n",
    "#---------------------------------------------------------\n",
    "\n",
    "so_keo = int(input(\"Nhập số kẹo cô có: \"))\n",
    "so_hs = int(input(\"Nhập số học sinh: \"))\n",
    "while so_hs > so_keo:\n",
    "    so_hs = int(input(\"Nhập lại học sinh: \"))\n",
    "\n",
    "#1:\n",
    "chia_keo = so_keo // so_hs\n",
    "print(f'Mỗi học sinh nhận được {chia_keo} cái kẹo')\n",
    "\n",
    "\n"
   ]
  },
  {
   "cell_type": "code",
   "execution_count": 14,
   "metadata": {},
   "outputs": [
    {
     "name": "stdout",
     "output_type": "stream",
     "text": [
      "Số kẹo cô giáo còn sau khi chia kẹo là 8 cái\n"
     ]
    }
   ],
   "source": [
    "#2\n",
    "chia_keo = so_keo % so_hs\n",
    "print(f'Số kẹo cô giáo còn sau khi chia kẹo là {chia_keo} cái')"
   ]
  },
  {
   "cell_type": "code",
   "execution_count": null,
   "metadata": {},
   "outputs": [],
   "source": []
  },
  {
   "cell_type": "code",
   "execution_count": null,
   "metadata": {},
   "outputs": [],
   "source": []
  },
  {
   "cell_type": "markdown",
   "metadata": {},
   "source": [
    "# Bài 2: Tính tuổi\n",
    "---\n",
    "Nhập vào tên và năm sinh của một người, tính tuổi của người đó và hiển thị ra màn hình thông báo \n",
    "\n",
    "Yêu cầu:\n",
    "\n",
    "* Nhập vào họ tên: mai phương thúy\n",
    "* Nhập vào năm sinh: 2000\n",
    "\n",
    "Hiển thị thông báo kết quả:\n",
    "\t **Bạn “MAI PHƯƠNG THÚY” năm nay 19 tuổi!**"
   ]
  },
  {
   "cell_type": "code",
   "execution_count": 25,
   "metadata": {},
   "outputs": [
    {
     "name": "stdout",
     "output_type": "stream",
     "text": [
      "Nhập vào họ tên: Trần Bá Vũ\n",
      "Nhập vào năm sinh: 2001\n",
      "Bạn TRẦN BÁ VŨ năm nay 20 tuổi!\n"
     ]
    }
   ],
   "source": [
    "#{học viên viết code ở đây!}\n",
    "\n",
    "#------------------------------------------------------\n",
    "\n",
    "name = input('Nhập vào họ tên: ').upper()\n",
    "date = int(input('Nhập vào năm sinh: '))\n",
    "\n",
    "age = 2021 - date\n",
    "\n",
    "print(f'Bạn {name} năm nay {age} tuổi!')\n",
    "\n",
    "\n"
   ]
  },
  {
   "cell_type": "code",
   "execution_count": null,
   "metadata": {},
   "outputs": [],
   "source": []
  },
  {
   "cell_type": "code",
   "execution_count": null,
   "metadata": {},
   "outputs": [],
   "source": []
  },
  {
   "cell_type": "markdown",
   "metadata": {},
   "source": [
    "# Bài 3: Cho biết số thỏ trong rừng!\n",
    "---\n",
    "Ban đầu trong rừng có một cặp thỏ, biết rằng cứ sau 1 tháng thì số lượng thỏ trong rừng tăng lên gấp đôi. Hỏi sau x tháng thì trong rừng có bao nhiêu con thỏ (Giả thiết các con thỏ không chết)\n",
    "\n",
    "Yêu cầu: \n",
    "* Nhập vào số tháng x: 3\n",
    "* Hiển thị thông báo kết quả:\n",
    "\t **Trong rừng có: 16 con thỏ**"
   ]
  },
  {
   "cell_type": "code",
   "execution_count": 28,
   "metadata": {},
   "outputs": [
    {
     "name": "stdout",
     "output_type": "stream",
     "text": [
      "Nhập số tháng: 3\n",
      "Trong rừng có: 16 con thỏ\n"
     ]
    }
   ],
   "source": [
    "#{học viên viết code ở đây!}\n",
    "\n",
    "#------------------------------------------\n",
    "month = int(input('Nhập số tháng: '))\n",
    "sl_tho_sau_n_thang = 2 * 2 ** month\n",
    "print(f'Trong rừng có: {sl_tho_sau_n_thang} con thỏ')\n",
    "\n",
    "\n"
   ]
  },
  {
   "cell_type": "code",
   "execution_count": null,
   "metadata": {},
   "outputs": [],
   "source": []
  },
  {
   "cell_type": "code",
   "execution_count": null,
   "metadata": {},
   "outputs": [],
   "source": []
  },
  {
   "cell_type": "markdown",
   "metadata": {},
   "source": [
    "# Bài 4: Chuỗi văn bản\n",
    "---\n",
    "\n",
    "“Nước Việt Nam là một, dân tộc Việt Nam là một. Sông có thể cạn núi có thể mòn, song chân lý ấy không bao giờ thay đổi. (HỒ CHÍ MINH, 1890 – 1969)”\n",
    "\n",
    "Yêu cầu: \n",
    "1. Cho biết số ký tự có trong đoạn văn trên.\n",
    "2. Cho biết trong đoạn có chứa từ nào sau đây không (Không phân biệt chữ hoa, chữ thường)?\n",
    "    * “hồ chí minh”\n",
    "    * “non sông”\n",
    "3. Tách đoạn văn thành các câu bởi dấu .\n",
    "4. Cho biết trong đoạn văn trên có ký tự nào khác ký tự chữ và số hay không?\n",
    "5. Thay thế các các từ ‘Việt Nam’ bằng ‘VIỆT NAM’ trong đoạn văn trên."
   ]
  },
  {
   "cell_type": "code",
   "execution_count": 57,
   "metadata": {},
   "outputs": [
    {
     "name": "stdout",
     "output_type": "stream",
     "text": [
      "Số lượng kí tự trong đoạn văn là 144\n",
      "Kết quả kiểm tra <hồ chí minh>:  True\n",
      "Kết quả kiểm tra <non sông>:  False\n"
     ]
    }
   ],
   "source": [
    "#{học viên viết code ở đây!}\n",
    "\n",
    "#1:-------------------------------------\n",
    "string_text = 'Nước Việt Nam là một, dân tộc Việt Nam là một. Sông có thể cạn núi có thể mòn,song chân lý ấy không bao giờ thay đổi. (HỒ CHÍ MINH, 1890 – 1969)'\n",
    "len_string = len(string_text)\n",
    "print(f'Số lượng kí tự trong đoạn văn là {len_string}')\n",
    "\n",
    "#2----------------------------------\n",
    "text1 = 'hồ chí minh' in string_text.lower()\n",
    "print('Kết quả kiểm tra <hồ chí minh>: ',text1)\n",
    "\n",
    "text2 = 'non sông' in string_text.lower()\n",
    "print('Kết quả kiểm tra <non sông>: ',text2)\n"
   ]
  },
  {
   "cell_type": "code",
   "execution_count": 58,
   "metadata": {},
   "outputs": [
    {
     "name": "stdout",
     "output_type": "stream",
     "text": [
      "Chuỗi sau khi tách: ['Nước Việt Nam là một, dân tộc Việt Nam là một', ' Sông có thể cạn núi có thể mòn,song chân lý ấy không bao giờ thay đổi', ' (HỒ CHÍ MINH, 1890 – 1969)']\n"
     ]
    }
   ],
   "source": [
    "#3-----------------------------------\n",
    "new_string = string_text.split('.')\n",
    "print(f'Chuỗi sau khi tách: {new_string}')"
   ]
  },
  {
   "cell_type": "code",
   "execution_count": 59,
   "metadata": {},
   "outputs": [
    {
     "name": "stdout",
     "output_type": "stream",
     "text": [
      "Đoạn văn có chứa kí tự khác chữ và số!\n"
     ]
    }
   ],
   "source": [
    "#4------------------------------------------\n",
    "check_string = string_text.isalnum()\n",
    "if check_string == True:\n",
    "    print(f'Đoạn văn chỉ chứa kí tự chữ và số!')\n",
    "else:\n",
    "    print(f'Đoạn văn có chứa kí tự khác chữ và số!')"
   ]
  },
  {
   "cell_type": "code",
   "execution_count": 46,
   "metadata": {},
   "outputs": [
    {
     "name": "stdout",
     "output_type": "stream",
     "text": [
      "Nước VIỆT NAM là một, dân tộc VIỆT NAM là một. Sông có thể cạn núi có thể mòn,song chân lý ấy không bao giờ thay đổi. (HỒ CHÍ MINH, 1890 – 1969)\n"
     ]
    }
   ],
   "source": [
    "#5-----------------------------------------\n",
    "replace_string = string_text.replace('Việt Nam', 'VIỆT NAM')\n",
    "print(replace_string)\n"
   ]
  },
  {
   "cell_type": "markdown",
   "metadata": {},
   "source": [
    "## Bài 5: Thống kê điểm Học viên\n",
    "---\n",
    "\n",
    "Khởi tạo một danh sách gồm các điểm thi môn “Python for Analysis” của lớp AIV_EVNICT (Điểm chữ: A, B, C, D, F)\n",
    "\n",
    "**Yêu cầu:** \n",
    "1. Cho biết số sinh viên trong lớp\n",
    "2. Có bao nhiêu sinh viên phải học lại môn này (điểm F).\n",
    "3. Có bao nhiêu sinh viên có điểm từ B trở lên.\n",
    "4. Sinh viên đầu tiên và cuối cùng trong lớp đã nghỉ học, tạo một bảng điểm mới và loại bỏ điểm của các sinh viên này ra "
   ]
  },
  {
   "cell_type": "code",
   "execution_count": 47,
   "metadata": {},
   "outputs": [
    {
     "name": "stdout",
     "output_type": "stream",
     "text": [
      "Số học sinh bị điểm F: 2\n"
     ]
    }
   ],
   "source": [
    "#{học viên viết code ở đây!}\n",
    "#1---------------------------------\n",
    "diem_sv = ['C','B','D','A','F','A','B','F','B','B','C','A','D','F','B']\n",
    "so_sv = len(diem_sv)\n",
    "print(f'Tổng số sinh viên là {so_sv}')"
   ]
  },
  {
   "cell_type": "code",
   "execution_count": 53,
   "metadata": {},
   "outputs": [
    {
     "name": "stdout",
     "output_type": "stream",
     "text": [
      "Số sinh viên bị điểm F là 3\n"
     ]
    }
   ],
   "source": [
    "#2---------------------------------------\n",
    "count_diem = diem_sv.count('F')\n",
    "print(f'Số sinh viên bị điểm F là {count_diem}')"
   ]
  },
  {
   "cell_type": "code",
   "execution_count": 60,
   "metadata": {},
   "outputs": [
    {
     "name": "stdout",
     "output_type": "stream",
     "text": [
      "Số lượng sinh viên có điểm >= B là  8\n"
     ]
    }
   ],
   "source": [
    "#3---------------------------------------\n",
    "count_diemB = diem_sv.count('B')\n",
    "count_diemA = diem_sv.count('A')\n",
    "sum_diem = count_diemB + count_diemA\n",
    "print('Số lượng sinh viên có điểm >= B là ', sum_diem)"
   ]
  },
  {
   "cell_type": "code",
   "execution_count": 64,
   "metadata": {},
   "outputs": [
    {
     "name": "stdout",
     "output_type": "stream",
     "text": [
      "Bảng điểm cũ: ['C', 'B', 'D', 'A', 'F', 'A', 'B', 'F', 'B', 'B', 'C', 'A', 'D', 'F', 'B']\n",
      "Bảng điểm mới ['B', 'D', 'A', 'F', 'A', 'B', 'F', 'B', 'B', 'C', 'A', 'D', 'F']\n"
     ]
    }
   ],
   "source": [
    "#4----------------------------------------\n",
    "copy_diemsv = diem_sv.copy()\n",
    "copy_diemsv.pop() # xóa cuối\n",
    "copy_diemsv.remove('C') # xóa 1 phần tử đầu tiên\n",
    "\n",
    "print('Bảng điểm cũ:', diem_sv)\n",
    "print('Bảng điểm mới', copy_diemsv)"
   ]
  },
  {
   "cell_type": "code",
   "execution_count": null,
   "metadata": {},
   "outputs": [],
   "source": []
  }
 ],
 "metadata": {
  "kernelspec": {
   "display_name": "Python 3",
   "language": "python",
   "name": "python3"
  },
  "language_info": {
   "codemirror_mode": {
    "name": "ipython",
    "version": 3
   },
   "file_extension": ".py",
   "mimetype": "text/x-python",
   "name": "python",
   "nbconvert_exporter": "python",
   "pygments_lexer": "ipython3",
   "version": "3.8.8"
  }
 },
 "nbformat": 4,
 "nbformat_minor": 2
}
