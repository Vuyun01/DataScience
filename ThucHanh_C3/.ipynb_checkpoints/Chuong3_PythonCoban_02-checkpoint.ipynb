{
 "cells": [
  {
   "cell_type": "markdown",
   "id": "4ab2c143",
   "metadata": {},
   "source": [
    "# Lập trình python cơ bản phần 2\n",
    "\n",
    "**Nội dung**\n",
    "\n",
    "1. Các toán từ cơ bản\n",
    "    * Toán tử số học\n",
    "    * Toán tử so sánh\n",
    "    * Toán tử logic\n",
    "    * Toán tử membership\n",
    "\n",
    "2. Vòng lặp trong python\n",
    "    * vòng lặp While\n",
    "    * vòng lặp For\n",
    "\n",
    "    \n",
    "    "
   ]
  },
  {
   "cell_type": "markdown",
   "id": "b6e11164",
   "metadata": {},
   "source": [
    "# Vòng lặp trong python\n",
    "---\n",
    "## Vòng lặp While\n",
    "---"
   ]
  },
  {
   "cell_type": "code",
   "execution_count": 1,
   "id": "014c2b87",
   "metadata": {},
   "outputs": [
    {
     "name": "stdout",
     "output_type": "stream",
     "text": [
      "inside loop 1\n",
      "inside loop 2\n",
      "inside loop 3\n",
      "inside loop 4\n",
      "inside loop 5\n",
      "inside else 6\n",
      "Bên ngoài vòng lặp\n"
     ]
    }
   ],
   "source": [
    "#while- else\n",
    "\n",
    "count = 1\n",
    "while( count <= 5):\n",
    "    print('inside loop',count)\n",
    "    count = count + 1\n",
    "else:\n",
    "    print('inside else', count)\n",
    "###############3333333\n",
    "print('Bên ngoài vòng lặp')"
   ]
  },
  {
   "cell_type": "code",
   "execution_count": 10,
   "id": "f1da8a59",
   "metadata": {},
   "outputs": [
    {
     "name": "stdout",
     "output_type": "stream",
     "text": [
      "10\n",
      "5\n"
     ]
    }
   ],
   "source": [
    "#for range\n",
    "\n",
    "for i in range(10,0,-5):\n",
    "    print(i)\n",
    "#bắt đầu: m = 2\n",
    "#kết thúc: n = 11\n",
    "#step: x = 5"
   ]
  },
  {
   "cell_type": "markdown",
   "id": "243b5dc1",
   "metadata": {},
   "source": [
    "# Bài tập 18:\n",
    "---\n",
    "**YÊU CẦU 1: Học viên tạo một ma trận vuông cấp n, bao gồm các phần tử là những số nguyên ngẫu nhiên trong khoảng [0-100]**\n",
    "        \n"
   ]
  },
  {
   "cell_type": "code",
   "execution_count": 17,
   "id": "0efc9b00",
   "metadata": {},
   "outputs": [
    {
     "name": "stdout",
     "output_type": "stream",
     "text": [
      "Nhap gia tri: 8\n",
      "[[33 42 14 24 13 43 69 56]\n",
      " [ 7 35 40 28 74 16 43  3]\n",
      " [17 37 69  3  1 25 93 58]\n",
      " [94 61 84 81 36 18 86 39]\n",
      " [68 97 85 73 30 37 84 96]\n",
      " [34 21 87 18 45 82 22 99]\n",
      " [83 48 50 99 76 93 77 41]\n",
      " [96  3 50 36 99 51 78 59]]\n"
     ]
    }
   ],
   "source": [
    "import numpy as np\n",
    "num = int(input('Nhap gia tri: '))\n",
    "while num < 0 or num > 100:\n",
    "    num = int(input('Nhap lai: '))\n",
    "arr_test = np.random.randint(1,100,(num,num))\n",
    "print(arr_test)\n"
   ]
  },
  {
   "cell_type": "markdown",
   "id": "d1da2bd3",
   "metadata": {},
   "source": [
    "**YÊU CẦU 2: Sử dụng ma trận tạo được trong yêu cầu 1, Học viên tạo 2 vector như sau:**\n",
    "\n",
    "**V_chinh:** bao gồm các phần tử nằm trên đường chéo chính của ma trận.\n",
    "\n",
    "**V_phu:** bao gồm các phần tử nằm trên đường chéo phụ của ma trận"
   ]
  },
  {
   "cell_type": "code",
   "execution_count": 25,
   "id": "605684e1",
   "metadata": {},
   "outputs": [
    {
     "name": "stdout",
     "output_type": "stream",
     "text": [
      "[[33 42 14 24 13 43 69 56]\n",
      " [ 7 35 40 28 74 16 43  3]\n",
      " [17 37 69  3  1 25 93 58]\n",
      " [94 61 84 81 36 18 86 39]\n",
      " [68 97 85 73 30 37 84 96]\n",
      " [34 21 87 18 45 82 22 99]\n",
      " [83 48 50 99 76 93 77 41]\n",
      " [96  3 50 36 99 51 78 59]]\n",
      "Duong cheo chinh:  [33 35 69 81 30 82 77 59]\n",
      "Duong cheo phu:  [56 43 25 36 73 87 48 96]\n"
     ]
    }
   ],
   "source": [
    "cheo_chinh = []\n",
    "cheo_phu = []\n",
    "\n",
    "print(arr_test)\n",
    "for i in range(0,num):\n",
    "    for j in range (0, num):\n",
    "        if i == j:\n",
    "            cheo_chinh.append(arr_test[i,j])\n",
    "    cheo_phu.append(arr_test[i,num-1 - i])\n",
    "            \n",
    "V_chinh = np.array(cheo_chinh)\n",
    "V_phu = np.array(cheo_phu)\n",
    "print('Duong cheo chinh: ',V_chinh)\n",
    "print('Duong cheo phu: ',V_phu)"
   ]
  },
  {
   "cell_type": "markdown",
   "id": "766b1fba",
   "metadata": {},
   "source": [
    "**YÊU CẦU 3: Nhập vào số nguyên x bất kỳ trong khoảng (0-100), đếm xem có bao nhiêu phần tử trong ma trận sinh ra ở yêu cầu 1 có giá trị bằng x, lớn hơn x, nhỏ hơn x và hiển thị kết quả:**"
   ]
  },
  {
   "cell_type": "code",
   "execution_count": 32,
   "id": "96ab8d20",
   "metadata": {},
   "outputs": [
    {
     "name": "stdout",
     "output_type": "stream",
     "text": [
      "[[33 42 14 24 13 43 69 56]\n",
      " [ 7 35 40 28 74 16 43  3]\n",
      " [17 37 69  3  1 25 93 58]\n",
      " [94 61 84 81 36 18 86 39]\n",
      " [68 97 85 73 30 37 84 96]\n",
      " [34 21 87 18 45 82 22 99]\n",
      " [83 48 50 99 76 93 77 41]\n",
      " [96  3 50 36 99 51 78 59]]\n",
      "Nhap gia tri: 68\n",
      "So phan tu:  64\n",
      "Co 1 so bang 68\n",
      "Co 24 so lon hon 68\n",
      "Co 39 so nho hon 68\n"
     ]
    }
   ],
   "source": [
    "print(arr_test)\n",
    "\n",
    "number = int(input('Nhap gia tri: '))\n",
    "while number < 0 or number > 100:\n",
    "    number = int(input('Nhap lai: '))\n",
    "\n",
    "count1, count2, count3 = 0 ,0 ,0 \n",
    "\n",
    "# for i in range(0,num):\n",
    "#     for j in range (0, num):\n",
    "#         if number == arr_test[i,j]: count1 += 1\n",
    "#         elif number < arr_test[i,j]: count2 += 1\n",
    "#         else: count3 += 1\n",
    "# print(f'Co {count1} so bang {number}')\n",
    "# print(f'Co {count2} so lon hon {number}')\n",
    "# print(f'Co {count3} so nho hon {number}')\n",
    "\n",
    "\n",
    "# equ_value = []\n",
    "# min_value = []\n",
    "# max_value = []\n",
    "j, i = 0, 0\n",
    "while i < num:\n",
    "    if number == arr_test[i,j]: \n",
    "#       equ_value.append(arr_test[i,j])\n",
    "        count1 += 1\n",
    "        j += 1\n",
    "    elif number < arr_test[i,j]: \n",
    "#       max_value.append(arr_test[i,j])\n",
    "        count2 += 1\n",
    "        j += 1\n",
    "    else: \n",
    "#       min_value.append(arr_test[i,j])\n",
    "        count3 += 1\n",
    "        j += 1\n",
    "    if j == num:\n",
    "        i += 1\n",
    "        j = 0\n",
    "print('So phan tu: ', arr_test.size)\n",
    "print(f'Co {count1} so bang {number}')\n",
    "print(f'Co {count2} so lon hon {number}')\n",
    "print(f'Co {count3} so nho hon {number}')"
   ]
  },
  {
   "cell_type": "code",
   "execution_count": 15,
   "id": "3e924542",
   "metadata": {},
   "outputs": [
    {
     "name": "stdout",
     "output_type": "stream",
     "text": [
      "Nhap gia tri bat ki: 12\n",
      "223"
     ]
    }
   ],
   "source": [
    "#phan tich thua so nguyen to\n",
    "#vd: 8 = 2^3\n",
    "\n",
    "n = int(input('Nhap gia tri bat ki: '))\n",
    "while n < 1:\n",
    "    n = int(input('Nhap lai!: '))\n",
    "num = n\n",
    "\n",
    "for i in range(2, num):\n",
    "    while num % i == 0:\n",
    "        print(i,end='')\n",
    "        num /= i\n",
    "    \n",
    "    \n",
    "        \n",
    "    \n",
    "    \n"
   ]
  },
  {
   "cell_type": "code",
   "execution_count": null,
   "id": "bbe05312",
   "metadata": {},
   "outputs": [],
   "source": []
  },
  {
   "cell_type": "code",
   "execution_count": null,
   "id": "dfd036ef",
   "metadata": {},
   "outputs": [],
   "source": []
  }
 ],
 "metadata": {
  "kernelspec": {
   "display_name": "Python 3",
   "language": "python",
   "name": "python3"
  },
  "language_info": {
   "codemirror_mode": {
    "name": "ipython",
    "version": 3
   },
   "file_extension": ".py",
   "mimetype": "text/x-python",
   "name": "python",
   "nbconvert_exporter": "python",
   "pygments_lexer": "ipython3",
   "version": "3.8.8"
  }
 },
 "nbformat": 4,
 "nbformat_minor": 5
}
