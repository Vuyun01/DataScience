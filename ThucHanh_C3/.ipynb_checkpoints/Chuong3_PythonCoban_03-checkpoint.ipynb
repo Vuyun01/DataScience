{
 "cells": [
  {
   "cell_type": "markdown",
   "id": "60cd0d00",
   "metadata": {},
   "source": [
    "# CHUONG 3: LAP TRINH PYTHON CO BAN - PHAN 3\n",
    "---\n",
    "\n",
    "## NỘI DUNG BÀI HỌC\n",
    "---\n",
    "1. Hàm trong Python\n",
    "    - Giới thiệu hàm\n",
    "    - Xây dựng hàm trong Python\n",
    "    - Return\n",
    "    - Tham số của hàm\n",
    "    - Phạm vi của biến\n",
    "    - Hàm ẩn danh Lambda\n",
    "2. Lớp và đối tượng trong module\n",
    "3. Module và Package\n",
    "4. Đọc và ghi file với Python"
   ]
  },
  {
   "cell_type": "code",
   "execution_count": 5,
   "id": "0527b006",
   "metadata": {},
   "outputs": [
    {
     "data": {
      "text/plain": [
       "14"
      ]
     },
     "execution_count": 5,
     "metadata": {},
     "output_type": "execute_result"
    }
   ],
   "source": [
    "# lấy 1 phần tử\n",
    "def tinh(a, b):\n",
    "    sum = 0\n",
    "    sub = 0\n",
    "    sum = a + b\n",
    "    sub = a - b\n",
    "    return sum, sub\n",
    "tinh(6,8)[0]  #lấy 1 giá trị"
   ]
  },
  {
   "cell_type": "markdown",
   "id": "0ca7d648",
   "metadata": {},
   "source": [
    "# 2.Lớp và đối tượng trong module"
   ]
  },
  {
   "cell_type": "code",
   "execution_count": 11,
   "id": "cfd77871",
   "metadata": {},
   "outputs": [
    {
     "data": {
      "text/plain": [
       "24"
      ]
     },
     "execution_count": 11,
     "metadata": {},
     "output_type": "execute_result"
    }
   ],
   "source": [
    "# tính chu vi diện tích hcn\n",
    "\n",
    "class Retangle:\n",
    "    def __init__(self, width=10, height=2):\n",
    "        self.width = width\n",
    "        self.height = height\n",
    "    def getArea(self):\n",
    "        return self.width * self.height\n",
    "    def getParameter(self):\n",
    "        return (self.width + self.height)*2\n",
    "\n",
    "r1 = Retangle()\n",
    "r1.getParameter()\n"
   ]
  },
  {
   "cell_type": "code",
   "execution_count": 21,
   "id": "829d0f91",
   "metadata": {},
   "outputs": [
    {
     "name": "stdout",
     "output_type": "stream",
     "text": [
      "Numpy 1.20.1\n",
      "Pandas 1.2.4\n",
      "Matplotlib 3.3.4\n"
     ]
    }
   ],
   "source": [
    "import numpy as np\n",
    "import pandas as pd\n",
    "import matplotlib as mat\n",
    "\n",
    "\n",
    "print('Numpy', np.__version__)\n",
    "\n",
    "print('Pandas', pd.__version__)\n",
    "\n",
    "print('Matplotlib', mat.__version__)"
   ]
  },
  {
   "cell_type": "markdown",
   "id": "36949918",
   "metadata": {},
   "source": [
    "# On Tap Kiem Tra\n",
    "\n",
    "### Bài 1: \n",
    "    Tạo lớp SanPham gồm 3 thuộc tính là tên, giá và giảm giá. Lớp cũng gồm 2 phương thức là tính thuế nhập khẩu (10% giá sản phẩm) và xuất thông tin ra màn hình. Thông tin xuất ra màn hình gồm:\n",
    "     - Tên sản phẩm\n",
    "     - Đơn giá\n",
    "     - Giảm giá\n",
    "     - Thuế nhập khẩu\n",
    "### Bài 2:\n",
    "    Viết chương trình tạo ra 3 sản phẩm từ lớp SanPham đã tạo ở bài 1, thông tin các sản phẩm được nhập từ bàn phím sau đó gọi phương thức xuất để xuất thông tin của 3 đối tượng sản phẩm đã tạo.\n",
    "### Bài 3: \n",
    "    Nâng cấp lớp SanPham (đã tạo bài 1) bằng cách bổ sung public cho phương thức xuat() và private cho getThueThuNhap(). Đồng thời bổ sung 2 hàm tạo, hàm tạo thứ nhất gồm 3 tham số là tên, giá và giảm giá, hàm tạo thứ 2 gồm 2 tham số là tên và giá (ngầm hiểu không giảm giá). Viết chương trình tạo 2 sản phẩm có giảm giá và không giảm giá sau đó xuất thông tin 2 sản phẩm ra màn hình.\n",
    "### Bài 4: \n",
    "    Xây dựng lớp HoaDon (hoá đơn bán sản phẩm) kế thừa từ lớp sản phẩm (bài 1) có thêm:\n",
    "    - Thuộc tính: Số lượng bán\n",
    "    - Phương thức: Nhập, xuất thông tin, tính thành tiền (=số lượng * đơn giá)\n",
    "    Sau đó viết chương trình nhập danh sách N hoá đơn bán sản phẩm và in thông tin của các hóa đơn, thông tin bao gồm: tên sản phẩm, đơn giá, số lượng bán, thành tiền."
   ]
  },
  {
   "cell_type": "code",
   "execution_count": 29,
   "id": "e8d81ae8",
   "metadata": {},
   "outputs": [
    {
     "name": "stdout",
     "output_type": "stream",
     "text": [
      "Nhap ten san pham: Milk\n",
      "Gia san pham: 24\n",
      "Muc giam gia (%): 12\n",
      "Nhap so luong: 5\n",
      "\n",
      "Name:  Milk\n",
      "Cost:  24.0\n",
      "Discount (%):  12.0\n",
      "Thue nhap khau:  2.4\n",
      "Quantity:  5\n",
      "Total cost:  108.0\n"
     ]
    }
   ],
   "source": [
    "#1\n",
    "class Sanpham:\n",
    "    def __init__(self):\n",
    "        self.name = input('Nhap ten san pham: ')\n",
    "        self.cost = float(input('Gia san pham: '))\n",
    "        self.discount = float(input('Muc giam gia (%): '))\n",
    "    def thuethunhap(self):\n",
    "        return (self.cost*10)/100\n",
    "    def display(self):\n",
    "        print('Name: ',self.name)\n",
    "        print('Cost: ',self.cost)\n",
    "        print('Discount (%): ',self.discount)\n",
    "        print('Thue nhap khau: ',self.thuethunhap())\n",
    "        \n",
    "class Sanpham2:\n",
    "    pass\n",
    "\n",
    "# sp1 = Sanpham()\n",
    "# # sp1.thuenhapkhau()\n",
    "# print()\n",
    "# sp1.display()\n",
    "\n",
    "#4\n",
    "class Hoadon(Sanpham,Sanpham2):\n",
    "    def __init__(self):\n",
    "        super().__init__()\n",
    "        self.quantity = int(input('Nhap so luong: '))\n",
    "    def discount_cost(self):\n",
    "        return ((self.quantity*self.cost)*(self.discount/100))\n",
    "    def total_cost(self):\n",
    "        return ((self.quantity*self.cost) - self.discount_cost()) + self.thuethunhap()\n",
    "    def display(self):\n",
    "        super().display()\n",
    "        print('Quantity: ',self.quantity)\n",
    "        print('Total cost: ', self.total_cost())\n",
    "        \n",
    "hd1 = Hoadon()\n",
    "print()\n",
    "hd1.display()"
   ]
  },
  {
   "cell_type": "markdown",
   "id": "e4758063",
   "metadata": {},
   "source": [
    "### BÀI 1: \n",
    "\n",
    "\n",
    "    Tạo lớp SinhVienPoly gồm 2 thuộc tính họ tên và ngành cùng với phương thức trừu tượng là getDiem(). Thêm phương thức getHocLuc() để xếp loại học lực. Lớp cũng bao gồm một phương thức xuat() để xuất họ tên, ngành, điểm và học lực ra màn hình. Học lực được tính như sau:\n",
    "    - Yếu: điểm < 5\n",
    "    - Trung bình: 5 <= điểm < 6.5\n",
    "    - Khá: 6.5 <= điểm < 7\n",
    "    - Giỏi: 7.5 <= điểm < 9\n",
    "    - Xuất sắc: điểm >= 9\n",
    "### BÀI 2:\n",
    "\n",
    "    Tạo lớp SinhVienIT và SinhVienBiz kế thừa từ lớp SinhVienPoly.\n",
    "        - SinhVienIT gồm các thuộc tính điểm java, điểm html, điểm css.Ghi đè phương thức getDiem() để tính điểm cho sinh viên IT theo công thức (2*java+ html + css)/4\n",
    "        - SinhVienBiz gồm các thuộc tính điểm marketing, điểm sales. Ghi đè phươngthức getDiem() để tính điểm cho sinh viên Biz theo côngthức (2*marketting + sales)/3\n",
    "### BÀI 3:\n",
    "\n",
    "    Viết chương trình quản lý sinh viên gồm các chức năng sau:\n",
    "\n",
    "        - Nhập danh sách n sinh viên IT và n sinh viên Biz\n",
    "        - Xuất thông tin danh sách sinh viên vừa nhập ra màn hình\n",
    "        - Xuất danh sách sinh viên có học lực xuất sắc của 2 danh sách sinh viên IT và sinh viên Biz đã nhập."
   ]
  },
  {
   "cell_type": "code",
   "execution_count": 15,
   "id": "ac5a2e17",
   "metadata": {},
   "outputs": [
    {
     "name": "stdout",
     "output_type": "stream",
     "text": [
      "Enter your name: Vu\n",
      "What your major is: acb\n",
      "Enter Javascript score: 8.9\n",
      "Enter HTML score: 8.7\n",
      "Enter CSS score: 9.3\n",
      "Name:  Vu\n",
      "Major:  acb\n",
      "Total score:  8.95\n",
      "Study degree:  Gioi\n"
     ]
    }
   ],
   "source": [
    "#1\n",
    "\n",
    "class Sinhvien:\n",
    "    name = input('Enter your name: ')\n",
    "    major = input('What your major is: ')\n",
    "    def __init__(self):\n",
    "        self.nm = self.name\n",
    "        self.mj = self.major\n",
    "        \n",
    "    def getScore(self):\n",
    "        pass\n",
    "    \n",
    "    def Hocluc(self):\n",
    "        if self.getScore() < 5: return 'Yeu'\n",
    "        elif 5 <= self.getScore() < 6.5: return 'TB'\n",
    "        elif 6.5 <= self.getScore() < 7: return 'Kha'\n",
    "        elif 7.5 <= self.getScore() < 9: return 'Gioi'\n",
    "        else: return 'Xuat Xac'\n",
    "        \n",
    "    def displayInfo(self):\n",
    "        print('Name: ',self.name)\n",
    "        print('Major: ',self.major)\n",
    "        print('Total score: ', self.getScore())\n",
    "        print('Study degree: ', self.Hocluc())\n",
    "   \n",
    "        \n",
    "class SvIT(Sinhvien):\n",
    "    def __init__(self):\n",
    "        super().__init__\n",
    "        self.js = float(input('Enter Javascript score: '))\n",
    "        self.html = float(input('Enter HTML score: '))\n",
    "        self.css = float(input('Enter CSS score: '))\n",
    "        \n",
    "    def getScore(self):\n",
    "        return round(((self.js * 2)+self.html + self.css)/4,2)\n",
    "\n",
    "class SvMark(Sinhvien):\n",
    "    def __init__(self):\n",
    "        super().__init__\n",
    "        self.marketting = float(input('Enter Marketting score: '))\n",
    "        self.sales = float(input('Enter Sales score: '))\n",
    "    def getScore(self):\n",
    "        return round(((self.marketting * 2) + self.sales)/3,2)\n",
    "\n",
    "\n",
    "svit1 = SvIT()\n",
    "svit1.displayInfo()\n"
   ]
  },
  {
   "cell_type": "code",
   "execution_count": null,
   "id": "576dcdc7",
   "metadata": {},
   "outputs": [],
   "source": []
  }
 ],
 "metadata": {
  "kernelspec": {
   "display_name": "Python 3",
   "language": "python",
   "name": "python3"
  },
  "language_info": {
   "codemirror_mode": {
    "name": "ipython",
    "version": 3
   },
   "file_extension": ".py",
   "mimetype": "text/x-python",
   "name": "python",
   "nbconvert_exporter": "python",
   "pygments_lexer": "ipython3",
   "version": "3.8.8"
  }
 },
 "nbformat": 4,
 "nbformat_minor": 5
}
