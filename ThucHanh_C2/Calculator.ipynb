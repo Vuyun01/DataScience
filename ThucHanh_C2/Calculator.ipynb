{
 "cells": [
  {
   "cell_type": "code",
   "execution_count": 2,
   "id": "0ae50cab",
   "metadata": {},
   "outputs": [
    {
     "name": "stdout",
     "output_type": "stream",
     "text": [
      "Nhập số a: 7\n",
      "Nhập số b: 5\n",
      "----------------------------\n",
      "Tổng a + b: 12\n",
      "Hiệu a - b: 2\n",
      "Tích a * b: 35\n",
      "Thương a / b: 1.4\n"
     ]
    }
   ],
   "source": [
    "so_a = int(input('Nhập số a: '))\n",
    "so_b = int(input('Nhập số b: '))\n",
    "\n",
    "#tính toán\n",
    "print('----------------------------')\n",
    "print('Tổng a + b: '+str(so_a + so_b))\n",
    "print('Hiệu a - b: '+str(so_a - so_b))\n",
    "print('Tích a * b: '+str(so_a * so_b))\n",
    "print('Thương a / b: '+str(so_a / so_b))"
   ]
  }
 ],
 "metadata": {
  "kernelspec": {
   "display_name": "Python 3",
   "language": "python",
   "name": "python3"
  },
  "language_info": {
   "codemirror_mode": {
    "name": "ipython",
    "version": 3
   },
   "file_extension": ".py",
   "mimetype": "text/x-python",
   "name": "python",
   "nbconvert_exporter": "python",
   "pygments_lexer": "ipython3",
   "version": "3.8.8"
  }
 },
 "nbformat": 4,
 "nbformat_minor": 5
}
