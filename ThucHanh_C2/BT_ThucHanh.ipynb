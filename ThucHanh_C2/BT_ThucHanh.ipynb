{
 "cells": [
  {
   "cell_type": "markdown",
   "id": "21196773",
   "metadata": {},
   "source": [
    "# Bài 1:\n",
    "<hr>\n",
    "\n"
   ]
  },
  {
   "cell_type": "code",
   "execution_count": 4,
   "id": "9a267b59",
   "metadata": {},
   "outputs": [
    {
     "name": "stdout",
     "output_type": "stream",
     "text": [
      "0\n",
      "1\n",
      "2\n",
      "3\n",
      "4\n",
      "5\n",
      "Giá trị của biến a:  15\n",
      "---------------------------------\n",
      "1\n",
      "3\n",
      "5\n",
      "Giá trị của biến A:  9\n"
     ]
    }
   ],
   "source": [
    "#khoi tao gia tri cho bien a, A\n",
    "a = 0\n",
    "A = 0\n",
    "for i in range (0,6):\n",
    "    print(i)\n",
    "    a += i\n",
    "#hien thi ket qua bien a\n",
    "print('Giá trị của biến a: ',a)\n",
    "print('---------------------------------')\n",
    "\n",
    "for i in range (1,6,2):\n",
    "    print(i)\n",
    "    A += i\n",
    "#hien thi ket qua bien A\n",
    "print('Giá trị của biến A: ',A)"
   ]
  },
  {
   "cell_type": "code",
   "execution_count": null,
   "id": "e6a6f15f",
   "metadata": {},
   "outputs": [],
   "source": []
  }
 ],
 "metadata": {
  "kernelspec": {
   "display_name": "Python 3",
   "language": "python",
   "name": "python3"
  },
  "language_info": {
   "codemirror_mode": {
    "name": "ipython",
    "version": 3
   },
   "file_extension": ".py",
   "mimetype": "text/x-python",
   "name": "python",
   "nbconvert_exporter": "python",
   "pygments_lexer": "ipython3",
   "version": "3.8.8"
  }
 },
 "nbformat": 4,
 "nbformat_minor": 5
}
