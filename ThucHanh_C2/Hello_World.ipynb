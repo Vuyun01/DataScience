{
 "cells": [
  {
   "cell_type": "code",
   "execution_count": 1,
   "id": "eb54f5b1",
   "metadata": {},
   "outputs": [
    {
     "name": "stdout",
     "output_type": "stream",
     "text": [
      "Hello world\n"
     ]
    }
   ],
   "source": [
    "print(\"Hello world\")"
   ]
  },
  {
   "cell_type": "markdown",
   "id": "378736f7",
   "metadata": {},
   "source": [
    "<img src=\"assets/Flappy_Bird_icon.png\" width='50px' height='50px'>\n",
    "\n",
    "# Bài Thực Hành 1\n",
    "---\n",
    "\n",
    "**Nội dung**\n",
    "\n",
    "1. Làm quen với công cụ jupyter notebook\n",
    "2. Viết những dòng code đầu tiên\n",
    "\n",
    "    - lệnh Input()\n",
    "    - lệnh print()\n",
    "    \n",
    "---\n"
   ]
  },
  {
   "cell_type": "markdown",
   "id": "e77e6f19",
   "metadata": {},
   "source": [
    "<!-- # Markdown tag you should know -->\n",
    "<h1>Markdown tag you should know</h1>\n",
    "\n",
    "---\n",
    "---\n",
    "## you can use html tag in jupyter notebook\n",
    "\n",
    "**Order List**\n",
    "1. this is a first line test of ol\n",
    "2. this is a second line test of ol\n",
    "**Unorder List**\n",
    "* this is a first line test of ul\n",
    "* this is a second line test of ul\n",
    "<hr>\n",
    "<img src=\"./assets/yourname.png\" width=\"500px\" height=\"200px\" >\n",
    "\n",
    "<a href=\"https://vi.wikipedia.org/wiki/Your_Name_%E2%80%93_T%C3%AAn_c%E1%BA%ADu_l%C3%A0_g%C3%AC%3F\">Click here to see info of image above</a>"
   ]
  },
  {
   "cell_type": "code",
   "execution_count": null,
   "id": "2b1c6ca0",
   "metadata": {},
   "outputs": [],
   "source": [
    "name = input(\"Enter your name: \")\n",
    "print(\"Hi {} Welcome to Data Science (7080509)\".format(name))"
   ]
  },
  {
   "cell_type": "code",
   "execution_count": 5,
   "id": "3c876b4e",
   "metadata": {},
   "outputs": [
    {
     "name": "stdout",
     "output_type": "stream",
     "text": [
      "Enter your age: 20\n",
      "Your age is 20\n"
     ]
    }
   ],
   "source": [
    "age = input(\"Enter your age: \")\n",
    "print(\"Your age is {tuoi}\".format(tuoi=age))"
   ]
  }
 ],
 "metadata": {
  "kernelspec": {
   "display_name": "Python 3",
   "language": "python",
   "name": "python3"
  },
  "language_info": {
   "codemirror_mode": {
    "name": "ipython",
    "version": 3
   },
   "file_extension": ".py",
   "mimetype": "text/x-python",
   "name": "python",
   "nbconvert_exporter": "python",
   "pygments_lexer": "ipython3",
   "version": "3.8.8"
  }
 },
 "nbformat": 4,
 "nbformat_minor": 5
}
