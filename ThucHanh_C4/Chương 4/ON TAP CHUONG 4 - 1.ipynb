{
 "cells": [
  {
   "cell_type": "markdown",
   "id": "7db51477",
   "metadata": {},
   "source": [
    "# BAI 18\n",
    "\n",
    "#### YÊU CẦU 1: Học viên tạo một ma trận vuông cấp n, bao gồm các phần tử là những số nguyên ngẫu nhiên trong khoảng [0-100]"
   ]
  },
  {
   "cell_type": "code",
   "execution_count": 3,
   "id": "631ce488",
   "metadata": {},
   "outputs": [
    {
     "data": {
      "text/plain": [
       "array([ 3, 15])"
      ]
     },
     "execution_count": 3,
     "metadata": {},
     "output_type": "execute_result"
    }
   ],
   "source": [
    "import numpy as np\n",
    "arr = ([0,1,2],[3,5,7])\n",
    "data_test = np.array(arr)\n",
    "data_test.sum(axis = 1)"
   ]
  },
  {
   "cell_type": "code",
   "execution_count": 2,
   "id": "b47fb9d0",
   "metadata": {},
   "outputs": [
    {
     "name": "stdout",
     "output_type": "stream",
     "text": [
      "Enter a random value: 5\n"
     ]
    },
    {
     "data": {
      "text/plain": [
       "array([[48, 43, 31, 25, 77],\n",
       "       [ 3, 27, 86, 82, 61],\n",
       "       [20, 83, 78, 68, 60],\n",
       "       [69, 57, 47, 94, 75],\n",
       "       [10, 74, 40, 56, 29]])"
      ]
     },
     "execution_count": 2,
     "metadata": {},
     "output_type": "execute_result"
    }
   ],
   "source": [
    "import numpy as np\n",
    "\n",
    "n = int(input('Enter a random value: '))\n",
    "while n < 1:\n",
    "    n = int(input('Retry: '))\n",
    "    \n",
    "matrix_s = np.random.randint(1,100,(n,n))\n",
    "# matrix_s = np.zeros((3,5))\n",
    "# matrix_s = np.ones((n,n))\n",
    "# matrix_s = np.eye(5,4)\n",
    "# matrix_s = np.full((3,4),2001)\n",
    "# matrix_s = np.random.random((3,4))\n",
    "\n",
    "matrix_s\n"
   ]
  },
  {
   "cell_type": "markdown",
   "id": "0f837e33",
   "metadata": {},
   "source": [
    "#### YÊU CẦU 2: Sử dụng ma trận tạo được trong yêu cầu 1, Học viên tạo 2 vector như sau:\n",
    "\n",
    "**v_chinh:** bao gồm các phần tử nằm trên đường chéo chính của ma trận.\n",
    "\n",
    "**V_phu:** bao gồm các phần tử nằm trên đường chéo phụ của ma trận"
   ]
  },
  {
   "cell_type": "code",
   "execution_count": 38,
   "id": "b350c434",
   "metadata": {},
   "outputs": [
    {
     "name": "stdout",
     "output_type": "stream",
     "text": [
      "Duong cheo chinh:  [88 86 62 68  4]\n",
      "Duong cheo phu:  [51  9 62 37 13]\n"
     ]
    }
   ],
   "source": [
    "# matrix_s\n",
    "\n",
    "cheo_chinh = []\n",
    "cheo_phu = []\n",
    "for i in range(0,len(matrix_s)):\n",
    "    for j in range(0,len(matrix_s)):\n",
    "        if i == j: cheo_chinh.append(matrix_s[i,j])\n",
    "    cheo_phu.append(matrix_s[i,(len(matrix_s)-1) - i])\n",
    "V_chinh  = np.array(cheo_chinh)\n",
    "V_phu = np.array(cheo_phu)\n",
    "print('Duong cheo chinh: ',V_chinh)\n",
    "print('Duong cheo phu: ',V_phu)"
   ]
  },
  {
   "cell_type": "code",
   "execution_count": null,
   "id": "d957a1e6",
   "metadata": {},
   "outputs": [],
   "source": []
  },
  {
   "cell_type": "markdown",
   "id": "1d4ac59e",
   "metadata": {},
   "source": [
    "#### YÊU CẦU 3: Nhập vào số nguyên x bất kỳ trong khoảng (0-100), đếm xem có bao nhiêu phần tử trong ma trận sinh ra ở yêu cầu 1 có giá trị bằng x, lớn hơn x, nhỏ hơn x và hiển thị kết quả:"
   ]
  },
  {
   "cell_type": "code",
   "execution_count": 41,
   "id": "be6b86ef",
   "metadata": {},
   "outputs": [
    {
     "name": "stdout",
     "output_type": "stream",
     "text": [
      "Enter a random value: 24\n",
      "So gia tri = so 24 la 1\n",
      "So gia tri > so 24 la 18\n",
      "So gia tri < so 24 la 6\n"
     ]
    }
   ],
   "source": [
    "num = int(input('Enter a random value: '))\n",
    "while num < 1:\n",
    "    num = int(input('Retry: '))\n",
    "i,j = 0,0\n",
    "count1, count2, count3 = 0,0,0\n",
    "while i < len(matrix_s):\n",
    "    if num == matrix_s[i,j]: #equal\n",
    "        count1 += 1\n",
    "        j += 1\n",
    "    elif num < matrix_s[i,j]: #greater\n",
    "        count2 += 1\n",
    "        j += 1\n",
    "    else: #lower\n",
    "        count3 += 1\n",
    "        j += 1\n",
    "    if j == len(matrix_s):\n",
    "        j = 0\n",
    "        i += 1\n",
    "print(f'So gia tri = so {num} la {count1}')\n",
    "print(f'So gia tri > so {num} la {count2}')\n",
    "print(f'So gia tri < so {num} la {count3}')"
   ]
  },
  {
   "cell_type": "markdown",
   "id": "a3460b0d",
   "metadata": {},
   "source": [
    "# BAI 19:\n",
    "#### YÊU CẦU 1: Sử dụng dữ liệu bảng điểm của lớp 2A. Cho biết:\n",
    "\n",
    "1. ĐTB của từng học sinh trong lớp.\n",
    "2. Học sinh có điểm TB cao nhất.\n",
    "3. Học sinh có điểm trung bình thấp nhất"
   ]
  },
  {
   "cell_type": "code",
   "execution_count": 54,
   "id": "e0ae7da5",
   "metadata": {},
   "outputs": [
    {
     "name": "stdout",
     "output_type": "stream",
     "text": [
      "[[ 2  4  3  7  5  6  5  6  8  9  3  6  1  9  8  7  3  3  9  5  1  6  5  1\n",
      "   4  6  7  1  1  1]\n",
      " [ 3  5  3 10  9  1  9  8  3  1  6  0  7 10  8  5  2  7  7  1  1  6  1  6\n",
      "   3  0  2  2  1  6]\n",
      " [ 1 10  4  9  6  9  0  2  3  1  8  6  8  4  2  9  2  9  5  0  4  1  7  3\n",
      "   8  9  8  9  9  9]\n",
      " [ 6  3  0  8  3  7  7  2  6  8  7  3  4  1  5  9  1  0  2 10  4  6  8  6\n",
      "   6 10  3  1  4  5]\n",
      " [ 4  3  6  7  4  5  2  6  9  4  3  9  9  4  5  7  2 10  9  4  0  5  3  1\n",
      "   4  5  6  8  2  3]\n",
      " [ 2  3  8 10  4  5  9  5  4  7 10  1  8  4  3  9  6  3  6  7  4  7  3  5\n",
      "   9  5  7  5  8  1]\n",
      " [ 9  9  1 10  9  9  5  9  6  3  9  5  1 10  7 10  2  8  8  1  8  4  5  4\n",
      "   9  6  7  2  9  2]\n",
      " [ 8  8  7  8  6  7  7  8  6  7  8  6  7  6  8  8  7  6  8  8  8  7  8  8\n",
      "   8  6  8  7  7  8]\n",
      " [ 6  7  8  9 10  9  2  2  6  1 10  9  6  3  9  5  9  8  1  1  8  8  8  6\n",
      "   6  8  7  3  8  1]\n",
      " [ 7  8  7  8  6 10 10  6  8 10  8  9  8  8  5 10  8  7  8  7  9  9  8  7\n",
      "   7  7 10  8  9  7]]\n"
     ]
    }
   ],
   "source": [
    "data_diem = np.loadtxt('Data_Excercise\\Diem_2A.txt', delimiter =',', dtype = np.int32)\n",
    "print(data_diem)\n"
   ]
  },
  {
   "cell_type": "code",
   "execution_count": 64,
   "id": "fba447cc",
   "metadata": {},
   "outputs": [
    {
     "name": "stdout",
     "output_type": "stream",
     "text": [
      "SV co diem cao nhat la:  8.6\n",
      "SV co diem thap nhat la:  4.2\n"
     ]
    }
   ],
   "source": [
    "#1: ĐTB của từng học sinh trong lớp\n",
    "# for i in range (0, data_diem.shape[1]):\n",
    "#     print('DTB cua sv ',i+1,' la: ',data_diem[:,i].mean())\n",
    "\n",
    "#2: Học sinh có điểm TB cao nhất.\n",
    "print('SV co diem cao nhat la: ', data_diem.mean(axis = 0).max())\n",
    "\n",
    "#3:Học sinh có điểm trung bình thấp nhất\n",
    "print('SV co diem thap nhat la: ', data_diem.mean(axis = 0).min())"
   ]
  },
  {
   "cell_type": "markdown",
   "id": "313565c8",
   "metadata": {},
   "source": [
    "#### YÊU CẦU 2: Sử dụng dữ liệu bảng điểm của lớp 2A. Cho biết:\n",
    "\n",
    "1. ĐTB của từng môn học.\n",
    "2. Môn học có điểm TB cao nhất.\n",
    "3. Môn học có điểm trung bình thấp nhất"
   ]
  },
  {
   "cell_type": "code",
   "execution_count": 70,
   "id": "0420bdc3",
   "metadata": {},
   "outputs": [
    {
     "name": "stdout",
     "output_type": "stream",
     "text": [
      "Mon co DTB cao nhat:  7.966666666666667\n",
      "Mon co DTB thap nhat:  4.433333333333334\n"
     ]
    }
   ],
   "source": [
    "#1: ĐTB của từng môn học.\n",
    "    \n",
    "# for i in range (0 , data_diem.shape[0]):\n",
    "#     print('DTB mon thu ',i+1, ' la: ',round(data_diem[i,:].mean(),2))\n",
    "    \n",
    "#2: Môn học có điểm TB cao nhất\n",
    "print('Mon co DTB cao nhat: ', data_diem.mean(axis = 1).max())\n",
    "\n",
    "#3: Môn học có điểm trung bình thấp nhất\n",
    "print('Mon co DTB thap nhat: ', data_diem.mean(axis = 1).min())"
   ]
  },
  {
   "cell_type": "markdown",
   "id": "bc223e24",
   "metadata": {},
   "source": [
    "#### YÊU CẦU 3: Sử dụng dữ liệu bảng điểm của lớp 2A. Cho biết:\n",
    "\n",
    "1. Sinh viên có điểm đồng đều nhất tất cả các môn. Sinh viên có điểm các môn lệch nhất trong lớp.\n",
    "2. Môn học có điểm đồng đều nhất. Môn học có điểm chênh lệch nhất."
   ]
  },
  {
   "cell_type": "code",
   "execution_count": 78,
   "id": "09fa710a",
   "metadata": {},
   "outputs": [
    {
     "name": "stdout",
     "output_type": "stream",
     "text": [
      "Do lech chuan cua sinh vien thu  1  :  2.64\n",
      "Do lech chuan cua sinh vien thu  2  :  2.57\n",
      "Do lech chuan cua sinh vien thu  3  :  2.76\n",
      "Do lech chuan cua sinh vien thu  4  :  1.11\n",
      "Do lech chuan cua sinh vien thu  5  :  2.27\n",
      "Do lech chuan cua sinh vien thu  6  :  2.56\n",
      "Do lech chuan cua sinh vien thu  7  :  3.23\n",
      "Do lech chuan cua sinh vien thu  8  :  2.5\n",
      "Do lech chuan cua sinh vien thu  9  :  1.97\n",
      "Do lech chuan cua sinh vien thu  10  :  3.33\n",
      "Do lech chuan cua sinh vien thu  11  :  2.4\n",
      "Do lech chuan cua sinh vien thu  12  :  3.07\n",
      "Do lech chuan cua sinh vien thu  13  :  2.77\n",
      "Do lech chuan cua sinh vien thu  14  :  3.01\n",
      "Do lech chuan cua sinh vien thu  15  :  2.24\n",
      "Do lech chuan cua sinh vien thu  16  :  1.76\n",
      "Do lech chuan cua sinh vien thu  17  :  2.82\n",
      "Do lech chuan cua sinh vien thu  18  :  2.98\n",
      "Do lech chuan cua sinh vien thu  19  :  2.69\n",
      "Do lech chuan cua sinh vien thu  20  :  3.35\n",
      "Do lech chuan cua sinh vien thu  21  :  3.2\n",
      "Do lech chuan cua sinh vien thu  22  :  2.12\n",
      "Do lech chuan cua sinh vien thu  23  :  2.46\n",
      "Do lech chuan cua sinh vien thu  24  :  2.28\n",
      "Do lech chuan cua sinh vien thu  25  :  2.06\n",
      "Do lech chuan cua sinh vien thu  26  :  2.6\n",
      "Do lech chuan cua sinh vien thu  27  :  2.25\n",
      "Do lech chuan cua sinh vien thu  28  :  3.01\n",
      "Do lech chuan cua sinh vien thu  29  :  3.25\n",
      "Do lech chuan cua sinh vien thu  30  :  2.93\n",
      "Sinh vien  4  co diem dong deu nhat:  1.11\n",
      "Bang diem cua sinh vien  4  :  [ 7 10  9  8  7 10 10  8  9  8]\n",
      "Sinh vien  20  co diem lech nhat:  3.35\n",
      "Bang diem cua sinh vien  20  :  [ 5  1  0 10  4  7  1  8  1  7]\n"
     ]
    }
   ],
   "source": [
    "#1: Sinh viên có điểm đồng đều nhất tất cả các môn. Sinh viên có điểm các môn lệch nhất trong lớp.\n",
    "for i in range(0, data_diem.shape[1]):\n",
    "    print('Do lech chuan cua sinh vien thu ',i+1,' : ', round(data_diem[:,i].std(), 2))\n",
    "\n",
    "#1.1: Sinh viên có điểm đồng đều nhất tất cả các môn\n",
    "min_std = data_diem.std(axis = 0).min()\n",
    "index = 0\n",
    "for i in range(0 , data_diem.shape[1]):\n",
    "    if data_diem[:,i].std() == min_std:\n",
    "        print('Sinh vien ',i+1,' co diem dong deu nhat: ',round(min_std,2))\n",
    "        print('Bang diem cua sinh vien ', i+1, ' : ',data_diem[:,i])\n",
    "\n",
    "#1.2: Sinh viên có điểm các môn lệch nhất trong lớp.\n",
    "max_std = data_diem.std(axis = 0).max()\n",
    "index = 0\n",
    "for i in range(0 , data_diem.shape[1]):\n",
    "    if data_diem[:,i].std() == max_std:\n",
    "        print('Sinh vien ',i+1,' co diem lech nhat: ',round(max_std,2))\n",
    "        print('Bang diem cua sinh vien ', i+1, ' : ',data_diem[:,i])\n"
   ]
  },
  {
   "cell_type": "code",
   "execution_count": null,
   "id": "be589c2c",
   "metadata": {},
   "outputs": [],
   "source": []
  },
  {
   "cell_type": "markdown",
   "id": "3e6650dc",
   "metadata": {},
   "source": [
    "# BAI 20:\n",
    "#### Mô tả file dữ liệu: Temp.txt (có trong thư mục Data_Excercise)\n",
    "\n",
    "* File dữ liệu lưu trữ nhiệt độ (oC) của 6 thành phố lớn dọc theo nước Việt Nam là: Hà Nội, Vinh, Đà Nẵng, Nha trang, Hồ Chính Minh và Cà Mau\n",
    "* Thời gian từ 0h ngày 15/09/2019 tới 23h ngày 22/09/2019\n"
   ]
  },
  {
   "cell_type": "markdown",
   "id": "0aae395a",
   "metadata": {},
   "source": [
    "**Yêu cầu 1:** Đọc dữ liệu lưu trữ trong file Temp.txt vào biến mảng data_temp, cho biết kích thước, số chiều, kiểu dữ liệu và số phần tử của biến data_temp."
   ]
  },
  {
   "cell_type": "code",
   "execution_count": 82,
   "id": "4f0fbcb3",
   "metadata": {},
   "outputs": [
    {
     "name": "stdout",
     "output_type": "stream",
     "text": [
      "[[25.65 24.79 24.01 25.06 25.48 24.97]\n",
      " [25.31 24.21 24.02 24.93 25.16 24.83]\n",
      " [25.05 23.73 23.89 24.79 24.8  24.55]\n",
      " ...\n",
      " [24.81 24.47 23.4  25.86 25.05 25.29]\n",
      " [23.97 24.22 22.95 25.74 24.92 24.87]\n",
      " [22.84 23.99 22.59 25.5  24.77 24.57]]\n",
      "Kich thuoc:  (192, 6)\n",
      "So chieu:  2\n",
      "Kieu du lieu:  float64\n",
      "So phan tu:  1152\n"
     ]
    }
   ],
   "source": [
    "data_temp = np.loadtxt('Data_Excercise\\Temp.txt')\n",
    "print(data_temp)\n",
    "print('Kich thuoc: ',data_temp.shape)\n",
    "print('So chieu: ',data_temp.ndim)\n",
    "print('Kieu du lieu: ',data_temp.dtype)\n",
    "print('So phan tu: ',data_temp.size)"
   ]
  },
  {
   "cell_type": "markdown",
   "id": "c3420cc0",
   "metadata": {},
   "source": [
    "**Yêu cầu 2:** Tìm nhiệt độ cao nhất (Max) – Thấp nhất (Min) – Nhiệt độ trung bình của cả tập dữ liệu.\n",
    "\n",
    "**Yêu cầu 3:** Tìm nhiệt độ cao nhất (Max) – Thấp nhất (Min) – Nhiệt độ trung bình của từng thành phố và hiển thị kết quả."
   ]
  },
  {
   "cell_type": "code",
   "execution_count": 83,
   "id": "e8ccc24a",
   "metadata": {},
   "outputs": [
    {
     "name": "stdout",
     "output_type": "stream",
     "text": [
      "Nhiet do cao nhat:  33.45\n",
      "Nhiet do thap nhat:  20.93\n",
      "Nhiet do trung binh:  26.50222222222222\n"
     ]
    }
   ],
   "source": [
    "#2: Tìm nhiệt độ cao nhất (Max) – Thấp nhất (Min) – Nhiệt độ trung bình của cả tập dữ liệu.\n",
    "print('Nhiet do cao nhat: ', data_temp.max())\n",
    "print('Nhiet do thap nhat: ', data_temp.min())\n",
    "print('Nhiet do trung binh: ', data_temp.mean())"
   ]
  },
  {
   "cell_type": "code",
   "execution_count": 86,
   "id": "66f6fa05",
   "metadata": {},
   "outputs": [
    {
     "name": "stdout",
     "output_type": "stream",
     "text": [
      "______Nhiet do cua 6 Thanh Pho_______\n",
      "1 :  Ha Noi\n",
      "Max nhiet do:  33.45\n",
      "Min nhiet do:  21.68\n",
      "Mean nhiet do:  27.71\n",
      "2 :  Vinh\n",
      "Max nhiet do:  32.57\n",
      "Min nhiet do:  22.6\n",
      "Mean nhiet do:  26.72\n",
      "3 :  Da Nang\n",
      "Max nhiet do:  29.88\n",
      "Min nhiet do:  20.93\n",
      "Mean nhiet do:  25.52\n",
      "4 :  Nha Trang\n",
      "Max nhiet do:  28.68\n",
      "Min nhiet do:  24.5\n",
      "Mean nhiet do:  26.17\n",
      "5 :  Tp.HCM\n",
      "Max nhiet do:  31.06\n",
      "Min nhiet do:  23.22\n",
      "Mean nhiet do:  26.16\n",
      "6 :  Ca Mau\n",
      "Max nhiet do:  31.37\n",
      "Min nhiet do:  23.99\n",
      "Mean nhiet do:  26.73\n"
     ]
    }
   ],
   "source": [
    "#3: Tìm nhiệt độ cao nhất (Max) – Thấp nhất (Min) – Nhiệt độ trung bình của từng thành phố và hiển thị kết quả.\n",
    "\n",
    "print('______Nhiet do cua 6 Thanh Pho_______')\n",
    "city = ['Ha Noi', 'Vinh','Da Nang', 'Nha Trang','Tp.HCM','Ca Mau']\n",
    "for i in range(0, data_temp.shape[1]):\n",
    "    print(i+1,': ',city[i])\n",
    "    print('Max nhiet do: ', data_temp[:,i].max())\n",
    "    print('Min nhiet do: ', data_temp[:,i].min())\n",
    "    print('Mean nhiet do: ', round(data_temp[:,i].mean(),2))"
   ]
  },
  {
   "cell_type": "markdown",
   "id": "bca02f37",
   "metadata": {},
   "source": [
    "**Yêu cầu 4:** Tạo một ma trận data_thongke gồm 3 hàng x 7 cột; các hàng lần lượt lưu trữ dữ liệu như sau:\n",
    "\n",
    "1. Hàng 0: Nhiệt độ cao nhất (Max)\n",
    "2. Hàng 1: Nhiệt độ trung bình (Mean), làm tròn đến 2 số sau dấu phẩy\n",
    "3. Hàng 2: Nhiệt độ nhỏ nhất (Min) Các cột lần lượt theo thứ tự của 6 thành phố và cột cuối cùng là cột thống kê chung cho cả 6 thành phố. Lưu ra file thongke.txt"
   ]
  },
  {
   "cell_type": "code",
   "execution_count": 97,
   "id": "71ed5e86",
   "metadata": {},
   "outputs": [],
   "source": [
    "data_thongke = np.full((3,7),0,dtype = 'float')\n",
    "#max\n",
    "max_value = data_temp.max(axis = 0)\n",
    "max_new_value = max_value.max()\n",
    "\n",
    "#min\n",
    "min_value = data_temp.min(axis = 0)\n",
    "min_new_value = min_value.min()\n",
    "\n",
    "#mean\n",
    "mean_value = data_temp.mean(axis = 0)\n",
    "mean_new_value = mean_value.mean()\n",
    "\n",
    "\n",
    "for j in range(0, data_thongke.shape[1]):\n",
    "    if j < data_thongke.shape[1] - 1:\n",
    "        data_thongke[0,j] = max_value[j]\n",
    "        data_thongke[1,j] = min_value[j]\n",
    "        data_thongke[2,j] = max_value[j]\n",
    "    if j == data_thongke.shape[1] - 1:\n",
    "        data_thongke[0,j] = max_new_value\n",
    "        data_thongke[1,j] = min_new_value\n",
    "        data_thongke[2,j] = round(mean_new_value,2)\n",
    "            "
   ]
  },
  {
   "cell_type": "code",
   "execution_count": 98,
   "id": "644d7ce5",
   "metadata": {},
   "outputs": [
    {
     "data": {
      "text/plain": [
       "array([[33.45, 32.57, 29.88, 28.68, 31.06, 31.37, 33.45],\n",
       "       [21.68, 22.6 , 20.93, 24.5 , 23.22, 23.99, 20.93],\n",
       "       [33.45, 32.57, 29.88, 28.68, 31.06, 31.37, 26.5 ]])"
      ]
     },
     "execution_count": 98,
     "metadata": {},
     "output_type": "execute_result"
    }
   ],
   "source": [
    "data_thongke"
   ]
  },
  {
   "cell_type": "code",
   "execution_count": 113,
   "id": "80c71931",
   "metadata": {},
   "outputs": [],
   "source": [
    "#ghi file\n",
    "# file_text = open('Thongke.txt', 'w')\n",
    "file_text = open('Thongke.txt','w')\n",
    "for i in range (0,data_thongke.shape[0]):\n",
    "    for j in range (0, data_thongke.shape[1]):\n",
    "        if j < data_thongke.shape[1] - 1:\n",
    "            file_text.write(str(data_thongke[i,j])+'\\t')\n",
    "        elif j == data_thongke.shape[1] - 1:\n",
    "            file_text.write(str(data_thongke[i,j])+'\\n')\n",
    "file_text.close()"
   ]
  },
  {
   "cell_type": "markdown",
   "id": "7a3e1bab",
   "metadata": {},
   "source": [
    "# Bài tập 21:\n",
    "**Mô tả file dữ liệu:** Diamonds.txt (có trong thư mục Data_Excercise)\n",
    "\n",
    "- File dữ liệu lưu trữ thông số 50 viên kim cương bao gồm: Trọng lượng (carat) và Giá bán ($) tương ứng theo mỗi hàng"
   ]
  },
  {
   "cell_type": "markdown",
   "id": "32bab966",
   "metadata": {},
   "source": [
    "**Yêu cầu 1:** Đọc dữ liệu lưu trữ trong file Diamonds.txt vào biến kiểu mảng data_diamond, cho biết kích thước, số chiều, kiểu dữ liệu và số phần tử của biến data_diamond"
   ]
  },
  {
   "cell_type": "code",
   "execution_count": 16,
   "id": "19ce3f30",
   "metadata": {},
   "outputs": [
    {
     "name": "stdout",
     "output_type": "stream",
     "text": [
      "Kich thuoc:  (50, 2)\n",
      "So chieu:  2\n",
      "Kieu du lieu:  float64\n",
      "So phan tu:  100\n"
     ]
    }
   ],
   "source": [
    "\n",
    "data_diamond = np.loadtxt('Data_Excercise\\Diamonds.txt', delimiter='\\t')\n",
    "print('Kich thuoc: ',data_diamond.shape)\n",
    "print('So chieu: ',data_diamond.ndim)\n",
    "print('Kieu du lieu: ',data_diamond.dtype)\n",
    "print('So phan tu: ',data_diamond.size)\n",
    "# print(data_diamond)"
   ]
  },
  {
   "cell_type": "markdown",
   "id": "7b24b5a6",
   "metadata": {},
   "source": [
    "**Yêu cầu 2:** Tách mảng data_diamond thành 2 vector: diamond_size và diamond_price lưu trữ trọng lượng và giá bán."
   ]
  },
  {
   "cell_type": "code",
   "execution_count": 17,
   "id": "2fe2eaa7",
   "metadata": {},
   "outputs": [
    {
     "name": "stdout",
     "output_type": "stream",
     "text": [
      "[0.23 0.31 0.2  1.02 1.63 1.14 2.01 1.28 1.7  1.01 0.64 0.97 1.78 3.4\n",
      " 3.01 1.51 1.37 1.5  0.54 0.72 1.13 2.24 3.01 4.5  0.92 1.05 0.55 0.74\n",
      " 0.91 1.23 1.52 0.91 0.43 1.24 1.77 1.79 2.05 2.03 2.01 1.   0.9  1.01\n",
      " 1.14 1.53 0.34 0.41 0.75 1.07 1.34 1.75]\n",
      "[  484.   942.   345.  4459. 14022.  4212. 11925.  9548. 11605.  4642.\n",
      "  3541.  4504. 13691. 15964. 10453. 11560.  7979.  9533.  1723.  3344.\n",
      "  6133. 13827. 16538. 18531.  3625.  7879.  1319.  2761.  3620.  6165.\n",
      " 10640.  4138.  1094. 11130. 14561. 10108. 12654. 16280. 13498.  4586.\n",
      "  3105.  7745.  5047. 10830.   765.   827.  3120.  5220.  7427.  9890.]\n"
     ]
    }
   ],
   "source": [
    "diamond_size = data_diamond[:,0]\n",
    "diamond_price = data_diamond[:,1]\n",
    "print(diamond_size)\n",
    "print(diamond_price)\n",
    "\n"
   ]
  },
  {
   "cell_type": "markdown",
   "id": "360b624c",
   "metadata": {},
   "source": [
    "**Yêu cầu 3:** Vẽ đồ thị thể hiện mối quan hệ giữa kích thước và giá bán kim cương. Xác định hệ số tương quan tương ứng giữa 2 thông số này."
   ]
  },
  {
   "cell_type": "code",
   "execution_count": 30,
   "id": "b2ff158d",
   "metadata": {},
   "outputs": [
    {
     "data": {
      "image/png": "[encoded data removed]",
      "text/plain": [
       "<Figure size 432x288 with 1 Axes>"
      ]
     },
     "metadata": {
      "needs_background": "light"
     },
     "output_type": "display_data"
    },
    {
     "name": "stdout",
     "output_type": "stream",
     "text": [
      "Hệ số tương quan giữa trọng lượng và giá bán kim cương:  0.8814849023922127\n"
     ]
    }
   ],
   "source": [
    "import matplotlib.pyplot as plt\n",
    "fig, ax = plt.subplots()\n",
    "ax.scatter(diamond_size, diamond_price)\n",
    "\n",
    "ax.set_xlabel('Trọng Lượng (Carat)', fontsize=10)\n",
    "ax.set_ylabel('Giá Bán ($)', fontsize=10)\n",
    "ax.set_title('BIỂU ĐỒ THỂ HIỆN MỐI TƯƠNG QUAN GIỮA TRỌNG LƯỢNG (CARAT) VÀ GIÁ BÁN KIM CƯƠNG ($)')\n",
    "\n",
    "ax.grid(True)\n",
    "plt.show()\n",
    "\n",
    "#he so tuong quan\n",
    "hs_tuong = np.corrcoef(diamond_size,diamond_price)\n",
    "# print(hs_tuong)\n",
    "print('Hệ số tương quan giữa trọng lượng và giá bán kim cương: ', hs_tuong[0,1])"
   ]
  },
  {
   "cell_type": "markdown",
   "id": "36440479",
   "metadata": {},
   "source": [
    "**Yêu cầu 4:** Cho biết kích thước và giá trung bình của 50 viên kim cương. Hiển thị giá bán của viên kim cương có trọng lượng 3.01 carat."
   ]
  },
  {
   "cell_type": "code",
   "execution_count": 36,
   "id": "eb317b73",
   "metadata": {},
   "outputs": [
    {
     "name": "stdout",
     "output_type": "stream",
     "text": [
      "Kich thuc trung binh:  1.3448000000000002\n",
      "Gia trung binh:  7550.78\n",
      "Gia ban  1  :  10453.0\n",
      "Gia ban  2  :  16538.0\n"
     ]
    }
   ],
   "source": [
    "size_diamond = diamond_size.mean()\n",
    "cost_diamond = diamond_price.mean()\n",
    "\n",
    "print('Kich thuc trung binh: ',size_diamond)\n",
    "print('Gia trung binh: ',cost_diamond)\n",
    "\n",
    "#Tim kc size 3,01\n",
    "index_dia = 0\n",
    "for i in range(0, data_diamond.shape[0]):\n",
    "    if data_diamond[i,0] == 3.01:\n",
    "        index_dia += 1\n",
    "        print('Gia ban ',index_dia,' : ', data_diamond[i,1])"
   ]
  },
  {
   "cell_type": "code",
   "execution_count": null,
   "id": "206a6707",
   "metadata": {},
   "outputs": [],
   "source": []
  }
 ],
 "metadata": {
  "kernelspec": {
   "display_name": "Python 3",
   "language": "python",
   "name": "python3"
  },
  "language_info": {
   "codemirror_mode": {
    "name": "ipython",
    "version": 3
   },
   "file_extension": ".py",
   "mimetype": "text/x-python",
   "name": "python",
   "nbconvert_exporter": "python",
   "pygments_lexer": "ipython3",
   "version": "3.8.8"
  }
 },
 "nbformat": 4,
 "nbformat_minor": 5
}
