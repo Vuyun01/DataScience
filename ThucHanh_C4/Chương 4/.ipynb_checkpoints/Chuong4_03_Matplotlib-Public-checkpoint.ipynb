{
 "cells": [
  {
   "cell_type": "markdown",
   "metadata": {},
   "source": [
    "<img src ='pic/Logo_CNTT_png.png' width='100px'>\n",
    "\n",
    "## CHƯƠNG 04: MỘT SỐ THƯ VIỆN QUAN TRỌNG TRONG KHOA HỌC DỮ LIỆU - PHẦN 3\n",
    "---\n",
    "* Giảng Viên: Đặng Văn Nam\n",
    "* Email: dangvannam@humg.edu.vn\n",
    "\n",
    "**NỘI DUNG BÀI HỌC:**\n",
    "\n",
    "1. Tầm quan trọng của trực quan hóa dữ liệu\n",
    "2. Giới thiệu thư viện Matplotlib\n",
    "3. Một số biểu đồ cơ bản với Matplotlib\n",
    "    * 3.1 Biểu đồ dạng đường (plot)\n",
    "    * 3.2 Biểu đồ dạng cột (bar)\n",
    "    * 3.3 Biểu đồ hình tròn (pie)\n",
    "    * 3.4 Biểu đồ phân tán (scatter)"
   ]
  },
  {
   "cell_type": "markdown",
   "metadata": {},
   "source": [
    "# Example:  PHÂN TÍCH  DỮ LIỆU CHUỖI THỜI GIAN (TIME SERIES DATA) BICYCLE COUNT\n",
    "\n",
    "---\n",
    "**Bài toán:**\n",
    "* Người ta lắp đặt thiết bị để đếm số lượng xe đạp đi qua chiều phía đông và phía tây của cây cầu Fremont Bridge theo từng giờ.\n",
    "* Chi tiết: https://data.seattle.gov/Transportation/Fremont-Bridge-Bicycle-Counter/65db-xm6k\n",
    "----------------------\n",
    "**Tập dữ liệu:**\n",
    "* Tập dữ liệu là số lượng xe đạp đi qua cây cầu Fremont Bridge. Dữ liệu này được thu thập tự động thông qua các cảm biến ở 2 lối đi bộ ở phía đông và phía tây của cây cầu. Số lượng xe đạp được tổng hợp theo từng giờ.\n",
    "* Tập dữ liệu bao gồm 4 cột:\n",
    "    - Date: Thời gian (ngày - giờ): 10/03/2012 12:00:00 AM (Kiểu thời gian mm/dd/yyyy hh:mm:ss)\n",
    "    - Fremont Bridge Total: Tổng số xe đi theo cả 2 lối đông và tây (Kiểu số nguyên)\n",
    "    - Fremont Bridge East Sidewalk: Số xe đạp đi qua lối phía đông của cầu tương ứng với thời gian (Kiểu số nguyên)\n",
    "    - Fremont Bridge West Sidewalk: Số xe đạp đi qua lối phía tây của cầu tương ứng với thời gian (Kiểu số nguyên)\n",
    "-------------------------------\n",
    "**Mục tiêu:**\n",
    "1. Phân tích dữ liệu chuỗi thời gian (Time Series Data) sử dụng Pandas.\n",
    "2. Kết hợp với các biểu đồ để tìm ra được những Insight ẩn chứa trong tập dữ liệu."
   ]
  },
  {
   "cell_type": "markdown",
   "metadata": {},
   "source": [
    "## 1) Đọc, quan sát và chuẩn hóa dữ liệu\n",
    "---"
   ]
  },
  {
   "cell_type": "code",
   "execution_count": null,
   "metadata": {},
   "outputs": [],
   "source": [
    "%matplotlib inline\n",
    "import matplotlib.pyplot as plt\n",
    "import pandas as pd\n",
    "import numpy as np"
   ]
  },
  {
   "cell_type": "code",
   "execution_count": null,
   "metadata": {},
   "outputs": [],
   "source": [
    "#Đọc dữ liệu trong file csv\n",
    "path='Data_Excercise\\Data_Bicycle_Counter.csv'\n",
    "df_bicycle=pd.read_csv(path)\n",
    "df_bicycle.info()"
   ]
  },
  {
   "cell_type": "code",
   "execution_count": null,
   "metadata": {},
   "outputs": [],
   "source": [
    "df_bicycle.head(10)"
   ]
  },
  {
   "cell_type": "code",
   "execution_count": null,
   "metadata": {},
   "outputs": [],
   "source": [
    "#Kiểm tra dữ liệu missing\n",
    "df_bicycle.isnull().sum()"
   ]
  },
  {
   "cell_type": "code",
   "execution_count": null,
   "metadata": {},
   "outputs": [],
   "source": [
    "#Liệt kê các thời điểm không có dữ liệu (Missing values)\n",
    "df_bicycle[df_bicycle.isnull().any(axis=1)]\n",
    "\n",
    "#hoặc\n",
    "#df_bicycle[pd.isnull(df_bicycle['Total'])]"
   ]
  },
  {
   "cell_type": "code",
   "execution_count": null,
   "metadata": {},
   "outputs": [],
   "source": [
    "# Đổi lại tên các cột cho ngắn gọn\n",
    "df_bicycle.columns = ['Date','Total', 'East', 'West']\n",
    "df_bicycle"
   ]
  },
  {
   "cell_type": "code",
   "execution_count": null,
   "metadata": {},
   "outputs": [],
   "source": [
    "df_bicycle.info()"
   ]
  },
  {
   "cell_type": "code",
   "execution_count": null,
   "metadata": {},
   "outputs": [],
   "source": [
    "#Chuyển đổi dữ liệu cột Date về dạng chuỗi thời gian\n",
    "df_bicycle['Date'] = pd.to_datetime(df_bicycle['Date'])\n",
    "df_bicycle.info()"
   ]
  },
  {
   "cell_type": "code",
   "execution_count": null,
   "metadata": {},
   "outputs": [],
   "source": [
    "df_bicycle.head()"
   ]
  },
  {
   "cell_type": "code",
   "execution_count": null,
   "metadata": {},
   "outputs": [],
   "source": [
    "#Thiết lập cột Date làm index cho DataFrame\n",
    "df_bicycle.set_index('Date',inplace=True)\n",
    "df_bicycle.head()"
   ]
  },
  {
   "cell_type": "markdown",
   "metadata": {},
   "source": [
    "## Khám phá tập dữ liệu\n",
    "---\n",
    "### A) Sử dụng các đặc trưng thống kê"
   ]
  },
  {
   "cell_type": "code",
   "execution_count": null,
   "metadata": {
    "scrolled": true
   },
   "outputs": [],
   "source": [
    "#Sử dụng sum tính tổng lượt người đi xe đạp\n",
    "df_bicycle.sum().bar()"
   ]
  },
  {
   "cell_type": "code",
   "execution_count": null,
   "metadata": {},
   "outputs": [],
   "source": [
    "#Sử dụng describe để quan sát các thông số\n",
    "df_bicycle.describe()"
   ]
  },
  {
   "cell_type": "markdown",
   "metadata": {},
   "source": [
    "### Phát hiện 1:\n",
    "----\n",
    "1. Số lượng người đi xe đạp bên cầu phía West (8 344 494) cao hơn cầu phía East (6 997 333)\n",
    "2. Lượng người đi qua từng bên cầu cao nhất theo giờ 850 lượt, toàn bộ 1097 lượt\n",
    "3. Lượng người đi xe đạp qua cầu chủ yếu nhỏ dưới 30 lượt"
   ]
  },
  {
   "cell_type": "markdown",
   "metadata": {},
   "source": [
    "### B) Phương pháp Phân tích chuỗi thời gian\n",
    "---"
   ]
  },
  {
   "cell_type": "markdown",
   "metadata": {},
   "source": [
    "### 1) Thống kê tổng số lượng đi xe đạp theo năm để thấy xu hướng chung"
   ]
  },
  {
   "cell_type": "code",
   "execution_count": null,
   "metadata": {},
   "outputs": [],
   "source": [
    "df_bicycle.index"
   ]
  },
  {
   "cell_type": "code",
   "execution_count": null,
   "metadata": {},
   "outputs": [],
   "source": [
    "#Dữ liệu bắt đầu từ 3/10/2012 --> 31/08/2020 \n",
    "#Tách dữ liệu chỉ lấy từ năm 2013 - 2019 cho đầy đủ dữ liệu\n",
    "df_full_year = df_bicycle.loc['2013':'2020']\n",
    "df_full_year.info()"
   ]
  },
  {
   "cell_type": "code",
   "execution_count": null,
   "metadata": {},
   "outputs": [],
   "source": [
    "#Tổng hợp số liệu chuỗi thời gian theo từng năm\n",
    "#Tính tổng số lượt qua cầu theo năm\n",
    "yearly = df_full_year.resample('Y').sum() #Tính tổng theo năm\n",
    "yearly"
   ]
  },
  {
   "cell_type": "code",
   "execution_count": null,
   "metadata": {},
   "outputs": [],
   "source": [
    "#Trực quan hóa trên biểu đồ\n",
    "\n",
    "yearly.plot(kind='line',style=[':*', '--o', '-s'], color=['red','green','blue'],figsize=(8,5))\n",
    "plt.ylabel('Tổng số lượt qua cầu')\n",
    "plt.xlabel('Năm')\n",
    "plt.title('ĐỒ THỊ THỐNG KÊ SỐ LƯỢNG THEO NĂM')\n",
    "plt.grid(True)"
   ]
  },
  {
   "cell_type": "markdown",
   "metadata": {},
   "source": [
    "### Phát hiện 2:Từ biểu đồ thống kê tổng số xe đạp qua cầu theo năm ta thấy:\n",
    "---\n",
    "* Số lượng người đi xe đạp qua cầu Fremont có xu hướng tăng lên theo từng năm, những năm gần đây tăng nhanh.\n",
    "* Lượt xe đạp qua lối đi phía tây nhiều hơn lối đi phía đông, và cũng có xu hướng tăng nhanh trong những năng gần đây."
   ]
  },
  {
   "cell_type": "markdown",
   "metadata": {},
   "source": [
    "## 2) Thống kê số lượng người đi xe đạp theo tháng để thấy xu hướng mùa vụ\n",
    "---"
   ]
  },
  {
   "cell_type": "code",
   "execution_count": null,
   "metadata": {},
   "outputs": [],
   "source": [
    "#Thống kê số lượng xe theo tháng qua phía Đông, Tây và Toàn bộ\n",
    "data_month = df_bicycle.resample('M').sum() #Tính tổng lượt đi theo tháng\n",
    "data_month.plot(style=['-', '-', '-'], color=['red','green','blue'],figsize=(8,5))\n",
    "plt.ylabel('Số lượng xe đạp theo tháng');\n",
    "plt.grid(True)\n",
    "plt.show()\n"
   ]
  },
  {
   "cell_type": "code",
   "execution_count": null,
   "metadata": {},
   "outputs": [],
   "source": [
    "#Hiển thị chi tiết dữ liệu theo tháng của một năm cụ thể [2019].\n",
    "data_2019 = df_bicycle.loc['2017',['Total']]\n",
    "df_month_19 = data_2019.resample('M').sum() #Tính tổng theo tháng\n",
    "df_month_19.plot(marker='o', markersize='10', color='red',figsize=(8,5))\n",
    "plt.ylabel('Tổng số lượng xe theo từng tháng')\n",
    "plt.title('THỐNG KÊ TỔNG SỐ LƯỢT XE ĐẠP THEO TỪNG THÁNG TRONG NĂM 2019',loc='center')\n",
    "plt.grid(True)\n",
    "plt.show()"
   ]
  },
  {
   "cell_type": "markdown",
   "metadata": {},
   "source": [
    "### Phát hiện 3: Từ biểu đồ thể hiện lượng xe đạp qua cầu theo tháng ta thấy:\n",
    "---\n",
    "* Dữ liệu chuỗi thời gian có tính thời vụ (seasonal)\n",
    "* Mọi người đạp xe nhiều hơn vào các tháng mùa hè và ít hơn vào các tháng mùa đông (4 tháng có số lượng người đạp xe nhiều nhất:5, 6, 7 và 8)\n",
    "\n",
    "--> **Dữ liệu chuỗi thời gian về lượng xe đạp qua cầu có tính xu hướng (tăng dần) và tính thời vụ (số lượng nhiều hơn vào các tháng mùa hè và ít hơn vào các tháng mùa đông)**"
   ]
  },
  {
   "cell_type": "markdown",
   "metadata": {},
   "source": [
    "## 3) Thống kê lượng đi xe đạp theo giờ\n",
    "---"
   ]
  },
  {
   "cell_type": "code",
   "execution_count": null,
   "metadata": {},
   "outputs": [],
   "source": [
    "#Tính trung bình lượng xe theo từng giờ qua cầu trong toàn bộ tập dữ liệu\n",
    "by_time = df_bicycle.groupby(df_bicycle.index.time).mean()\n",
    "by_time"
   ]
  },
  {
   "cell_type": "code",
   "execution_count": null,
   "metadata": {},
   "outputs": [],
   "source": [
    "#Trực quan hóa dữ liệu:\n",
    "hourly_ticks = 2 * 60 * 60 * np.arange(12)\n",
    "by_time.plot(xticks=hourly_ticks, style=[':*', '--s', '-o'],figsize=(12,5))\n",
    "plt.grid()\n",
    "plt.xlabel('Thời gian (h)')\n",
    "plt.ylabel('Trung bình số xe qua cầu theo giờ')\n",
    "plt.title('BIỂU ĐỒ THỂ HIỆN LƯỢNG XE TRUNG BÌNH QUA CẦU THEO TỪNG GIỜ',loc='center')\n",
    "plt.show()"
   ]
  },
  {
   "cell_type": "markdown",
   "metadata": {},
   "source": [
    "### Phát hiện 4: Từ biểu đồ thể hiện lượng xe đạp qua cầu trung bình theo giờ ta thấy:\n",
    "---\n",
    "* Lượng người đi xe đạp qua cầu chủ yếu tập trung vào thời điểm 7,8,9h buổi sáng | 16, 17, 18h buổi chiều\n",
    "* Lượng người đi nhiều nhất vào thời điểm 8(h) sáng - 17h chiều.\n",
    "* Thời điểm buổi sáng lượng người đi qua cầu làn phía Đông (East) Lớn hơn làn phía Tây (Đi từ bên ngoài bào trung tâm thành phố Seattle) | Buổi chiều lượng người đi qua cầu làn phía Tây (West) lơn hơn (đi ra khỏi trung tâm thành phố). "
   ]
  },
  {
   "cell_type": "markdown",
   "metadata": {},
   "source": [
    "## 4) Thống kê lượng xe trung bình theo ngày trong tuần\n",
    "---"
   ]
  },
  {
   "cell_type": "code",
   "execution_count": null,
   "metadata": {},
   "outputs": [],
   "source": [
    "#Nhóm dữ liệu theo ngày trong tuần và tính trung bình\n",
    "df_weekday = df_bicycle.groupby(df_bicycle.index.dayofweek).mean()\n",
    "#Đổi tên index theo ngày dễ quan sát\n",
    "df_weekday.index = ['Mon', 'Tues', 'Wed', 'Thurs', 'Fri', 'Sat', 'Sun']\n",
    "df_weekday"
   ]
  },
  {
   "cell_type": "code",
   "execution_count": null,
   "metadata": {},
   "outputs": [],
   "source": [
    "#Trực quan hóa dữ liệu lên đồ thị\n",
    "#stick =['Mon', 'Tues', 'Wed', 'Thurs', 'Fri', 'Sat', 'Sun']\n",
    "df_weekday.plot(style=[':*', '--s', '-o'],figsize=(10,5));\n",
    "plt.grid()\n",
    "plt.xlabel('Thứ trong tuần')\n",
    "plt.ylabel('Trung bình theo ngày trong tuần')\n",
    "plt.title('LƯỢNG XE TRUNG BÌNH QUA CẦU THEO TỪNG NGÀY TRONG TUẦN',loc='center')\n",
    "plt.show()"
   ]
  },
  {
   "cell_type": "code",
   "execution_count": null,
   "metadata": {},
   "outputs": [],
   "source": [
    "#Thực hiện thống kê số lượng người đi xe đạp qua cầu\n",
    "#Tách giữa ngày làm việc [thứ 2 - thứ 5] và ngày cuối tuần [thứ 7, CN]\n",
    "df_weekend = np.where(df_bicycle.index.weekday < 5, 'Weekday', 'Weekend')\n",
    "#Tính lượng người đi qua trung bình theo giờ giữa các ngày trong tuần và cuối tuần\n",
    "df_by_time = df_bicycle.groupby([df_weekend, df_bicycle.index.time]).mean()\n",
    "df_by_time"
   ]
  },
  {
   "cell_type": "code",
   "execution_count": null,
   "metadata": {},
   "outputs": [],
   "source": [
    "#Trực quan hóa dữ liệu\n",
    "fig, ax = plt.subplots(1, 2, figsize=(14, 4))\n",
    "df_by_time.loc['Weekday'].plot(ax=ax[0], title='Ngày làm việc[từ Thứ 2-6]',\n",
    "                           xticks=hourly_ticks, style=[':*', '--s', '-o'], grid=True, rot=45)\n",
    "df_by_time.loc['Weekend'].plot(ax=ax[1], title='Ngày cuối tuần [Thứ 7, CN]',\n",
    "                           xticks=hourly_ticks, style=[':*', '--s', '-o'], grid=True,rot=45);"
   ]
  },
  {
   "cell_type": "markdown",
   "metadata": {},
   "source": [
    "### Phát hiện 5: Từ biểu đồ thể hiện lượng xe đạp qua cầu trung bình theo ngày trong tuần:\n",
    "---\n",
    "* Lượng người đi xe đạp qua cầu chủ yếu vào các ngày làm việc trong tuần [thứ 2 --> thứ 6]; Cuối tuần [Thứ 7, CN] lượng người đi qua cầu giảm đi đáng kể. Lượng người đi qua cầu ngày làm việc gấp đôi ngày cuối tuần.\n",
    "* Vào các ngày làm việc trong tuần lượng người đi xe đạp qua cầu chủ yếu tập trung vào thời điểm 7,8,9h buổi sáng | 16, 17, 18h buổi chiều. Lượng người đi nhiều nhất vào thời điểm 8(h) sáng - 17h chiều.\n",
    "* Vào các ngày cuối tuần, người đi xe đạp chủ yếu qua cầu trong thời gian từ 12-16h"
   ]
  },
  {
   "cell_type": "markdown",
   "metadata": {},
   "source": [
    "## 2. GIỚI THIỆU THƯ VIỆN MATPLOTLIB\n",
    "---\n",
    "\n",
    "* Matplotlib là thư viện dùng để vẽ đồ thị rất mạnh mẽ, có cú pháp tương tự như Matlab.\n",
    "* Hỗ trợ nhiều loại biểu đồ, đặt biệt là các loại được sử dụng trong nghiên cứu hoặc kinh tế như biểu đồng đường, cột, tần suất (histograms), tương quan, scatterplots…\n",
    "* Cấu trúc của Matplotlib gồm nhiều phần, phục vụ cho các mục đích sử dụng khác nhau.\n",
    "* Matplotlib miễn phí và mã nguồn mở."
   ]
  },
  {
   "attachments": {
    "image.png": {
     "image/png": "[encoded data removed]"
    }
   },
   "cell_type": "markdown",
   "metadata": {},
   "source": [
    "## 3. MỘT SỐ DẠNG ĐỒ THỊ CƠ BẢN\n",
    "---\n",
    "### 3.1 Đồ thị dạng đường (plot)\n",
    "\n",
    "![image.png](attachment:image.png)"
   ]
  },
  {
   "cell_type": "code",
   "execution_count": null,
   "metadata": {},
   "outputs": [],
   "source": [
    "#import thư viện \n",
    "import matplotlib.pyplot as plt\n",
    "\n",
    "#Khởi tạo dữ liệu\n",
    "x=[1,  2,  3,   4,  5,  6,  7,  8,  9,  10, 11, 12]\n",
    "y=[1.1,1.5,1.7,1.6,2.9,2.6,2.7,2.6,2.5,2.8,3.0, 3.5]\n",
    "\n",
    "plt.plot(x,              #Dữ liệu trục x     \n",
    "         y,              #Dữ liệu trục y\n",
    "         color='b',      #Màu đường\n",
    "         linewidth='1',  #Độ rộng đường\n",
    "         marker='o',     #Kiểu điểm\n",
    "         linestyle='-')  #Kiểu đường\n",
    "\n",
    "plt.xlabel('Tháng')\n",
    "plt.ylabel('Thu Nhập Làm Thêm')\n",
    "plt.title('Biểu Đồ Thu Nhập Hàng Tháng')\n",
    "plt.grid(True)\n",
    "plt.show()"
   ]
  },
  {
   "cell_type": "code",
   "execution_count": null,
   "metadata": {},
   "outputs": [],
   "source": [
    "plt.plot(list(map(str,x)),  #Dữ liệu trục x     \n",
    "         y,                 #Dữ liệu trục y\n",
    "         color='red',       #Màu đường\n",
    "         linewidth='2',     #Độ rộng đường\n",
    "         marker='*',        #Kiểu điểm\n",
    "         linestyle=':')     #Kiểu đường\n",
    "\n",
    "plt.xlabel('Tháng')\n",
    "plt.ylabel('Thu Nhập Làm Thêm')\n",
    "plt.title('Biểu Đồ Thu Nhập Hàng Tháng')\n",
    "plt.grid(True)\n",
    "plt.show()"
   ]
  },
  {
   "cell_type": "code",
   "execution_count": null,
   "metadata": {},
   "outputs": [],
   "source": [
    "#Khởi tạo dữ liệu\n",
    "x=[1,  2,  3,   4,  5,  6,  7,  8,  9,  10, 11, 12]\n",
    "y1=[1.1,1.5,1.7,1.6,2.9,2.6,2.7,2.6,2.5,2.8,3.0, 3.5]\n",
    "y2=[1.2,1.3,1.8,2.0,1.9,2.6,2.5,2.8,2.2,2.7,3.2, 3.3]\n",
    "\n",
    "#Vẽ biểu đồ dạng đường trên cùng một đồ thị\n",
    "plt.plot(list(map(str,x)),y1,color='blue',linewidth='1',marker='*',linestyle='--')\n",
    "plt.plot(list(map(str,x)),y2,color='red',linewidth='1',marker='s',linestyle='-')\n",
    "\n",
    "plt.xlabel('Tháng')\n",
    "plt.ylabel('Thu Nhập Làm Thêm')\n",
    "plt.title('Biểu Đồ Thu Nhập Hàng Tháng')\n",
    "plt.grid(True)\n",
    "plt.show()"
   ]
  },
  {
   "cell_type": "markdown",
   "metadata": {},
   "source": [
    "## 3.2 Đồ thị dạng hình tròn (pie)\n",
    "---\n",
    "**Cú pháp:**\n",
    "\n",
    "pie(x, explode=explode, labels=labels, autopct='%1.1f%%', startangle=90)\n",
    "\n",
    "Các tham số cơ bản:\n",
    "* x: Số liệu vẽ biểu đồ hình tròn (1 mảng, 1 list)\n",
    "* explode: làm nổi bật một phần nào đó trong biểu đồ (>0 tách)\n",
    "* labels: Nhãn của mỗi phần trong biểu đồ\n"
   ]
  },
  {
   "cell_type": "code",
   "execution_count": null,
   "metadata": {},
   "outputs": [],
   "source": [
    "#Tạo dữ liệu\n",
    "ds_khoa =['CNTT K60','CNTT K61','CNTT K62','CNTT K63', 'CNTT K64']\n",
    "so_sv   =[350, 400, 389, 729, 523]\n",
    "\n",
    "#Vẽ biểu đồ hình tròn\n",
    "plt.pie(so_sv,\n",
    "       labels=ds_khoa,\n",
    "       autopct='%1.1f%%')\n",
    "plt.title('BIỂU ĐỒ BIỂU DIỄN SỐ LƯỢNG SINH VIÊN KHOA CNTT \\n (Khóa 60 đến Khóa 64)')\n",
    "plt.show()"
   ]
  },
  {
   "cell_type": "code",
   "execution_count": null,
   "metadata": {},
   "outputs": [],
   "source": [
    "#Vẽ biểu đồ hình tròn\n",
    "plt.pie(so_sv,\n",
    "       labels=ds_khoa,\n",
    "        wedgeprops=dict(width=0.6),\n",
    "       autopct='%1.1f%%')\n",
    "plt.title('BIỂU ĐỒ BIỂU DIỄN SỐ LƯỢNG SINH VIÊN KHOA CNTT \\n (Khóa 60 đến Khóa 64)')\n",
    "plt.show()"
   ]
  },
  {
   "cell_type": "code",
   "execution_count": null,
   "metadata": {},
   "outputs": [],
   "source": [
    "#Tách phần tỷ lệ lớn nhất ra khỏi vòng tròn\n",
    "ex = (0, 0, 0, 0.2, 0)\n",
    "\n",
    "#Vẽ biểu đồ hình tròn\n",
    "plt.pie(so_sv,\n",
    "       labels=ds_khoa,\n",
    "       explode=ex,\n",
    "       wedgeprops=dict(width=0.6),\n",
    "       shadow=True,\n",
    "       autopct='%1.1f%%')\n",
    "\n",
    "\n",
    "plt.title('BIỂU ĐỒ BIỂU DIỄN SỐ LƯỢNG SINH VIÊN KHOA CNTT \\n (Khóa 60 đến Khóa 64)')\n",
    "plt.show()"
   ]
  },
  {
   "cell_type": "markdown",
   "metadata": {},
   "source": [
    "## 3.3 Đồ thị dạng cột (Bar)\n",
    "---\n",
    "**Cú pháp:**\n",
    "    \n",
    ".bar(name, values)\n",
    "\n",
    "Các tham số cơ bản:\n",
    "* name: Tên cột\n",
    "* Values: Giá trị của dữ liệu muốn vẽ đồ thị\n"
   ]
  },
  {
   "cell_type": "code",
   "execution_count": null,
   "metadata": {},
   "outputs": [],
   "source": [
    "#Vẽ biểu đồ dạng cột\n",
    "plt.bar(ds_khoa,\n",
    "        so_sv,\n",
    "        color='blue')\n",
    "\n",
    "plt.title('BIỂU ĐỒ BIỂU DIỄN SỐ LƯỢNG SINH VIÊN KHOA CNTT \\n (Khóa 60 đến Khóa 64)')\n",
    "plt.ylabel('Số sinh viên')\n",
    "plt.grid(True)\n",
    "plt.show()"
   ]
  },
  {
   "cell_type": "code",
   "execution_count": null,
   "metadata": {},
   "outputs": [],
   "source": [
    "#Vẽ biểu đồ dạng cột\n",
    "plt.barh(ds_khoa,\n",
    "        so_sv,\n",
    "        color='brown')\n",
    "\n",
    "plt.title('BIỂU ĐỒ BIỂU DIỄN SỐ LƯỢNG SINH VIÊN KHOA CNTT \\n (Khóa 60 đến Khóa 64)')\n",
    "plt.xlabel('Số sinh viên')\n",
    "plt.grid(True)\n",
    "plt.show()"
   ]
  },
  {
   "cell_type": "markdown",
   "metadata": {},
   "source": [
    "## VÍ DỤ: TRỰC QUAN HÓA TẬP DỮ LIỆU DÂN SỐ\n",
    "---\n",
    "Tập dữ liệu countries.csv lưu trữ số liệu dân số của 142 nước và vùng lãnh thổ trên thế giới. Mỗi một quốc gia sẽ có số liệu dân số trong giai đoạn từ năm 1952 tới năm 2007 (số liệu 5 năm 1 lần)"
   ]
  },
  {
   "cell_type": "code",
   "execution_count": null,
   "metadata": {},
   "outputs": [],
   "source": [
    "import pandas as pd\n",
    "import matplotlib.pyplot as plt"
   ]
  },
  {
   "cell_type": "code",
   "execution_count": null,
   "metadata": {},
   "outputs": [],
   "source": [
    "#Đọc tập dữ liệu dân số của các nước trên thế giới\n",
    "data = pd.read_csv(\"Data_Excercise/countries.csv\")\n",
    "data.info()"
   ]
  },
  {
   "cell_type": "code",
   "execution_count": null,
   "metadata": {},
   "outputs": [],
   "source": [
    "data.head(12)"
   ]
  },
  {
   "cell_type": "code",
   "execution_count": null,
   "metadata": {},
   "outputs": [],
   "source": [
    "data['country'].unique().tolist()"
   ]
  },
  {
   "cell_type": "code",
   "execution_count": null,
   "metadata": {},
   "outputs": [],
   "source": [
    "#Dữ liệu dân số của 142 quốc gia và vùng lãnh thổ\n",
    "data['country'].value_counts()"
   ]
  },
  {
   "cell_type": "markdown",
   "metadata": {},
   "source": [
    "### 1. Trực quan hóa dữ liệu dân số VIỆT NAM\n",
    "---"
   ]
  },
  {
   "cell_type": "code",
   "execution_count": null,
   "metadata": {},
   "outputs": [],
   "source": [
    "#Lọc dữ liệu Việt Nam\n",
    "vn = data[data.country=='Vietnam']\n",
    "vn"
   ]
  },
  {
   "cell_type": "code",
   "execution_count": null,
   "metadata": {},
   "outputs": [],
   "source": [
    "nam = list(map(str,vn.year))\n",
    "print(nam)"
   ]
  },
  {
   "cell_type": "code",
   "execution_count": null,
   "metadata": {},
   "outputs": [],
   "source": [
    "plt.rcParams[\"figure.figsize\"] = (10,5)\n",
    "\n",
    "plt.plot(nam,vn.population/10**6,'r-o')\n",
    "plt.bar(nam,vn.population/10**6)\n",
    "plt.title('DÂN SỐ VIỆT NAM QUA TRONG GIAI ĐOẠN 1952 - 2007')\n",
    "plt.grid(True)\n",
    "plt.ylabel('Số dân (Triệu người)')\n",
    "plt.show()"
   ]
  },
  {
   "cell_type": "markdown",
   "metadata": {},
   "source": [
    "### 2. Trực quan hóa dữ liệu dân số 4 quốc gia đông dân nhất Đông Nam Á (VN, Indonesia, Thái Lan, Philippin)\n",
    "---"
   ]
  },
  {
   "cell_type": "code",
   "execution_count": null,
   "metadata": {},
   "outputs": [],
   "source": [
    "ind = data[data.country=='Indonesia']\n",
    "thd = data[data.country=='Thailand']\n",
    "phi = data[data.country=='Philippines']"
   ]
  },
  {
   "cell_type": "code",
   "execution_count": null,
   "metadata": {},
   "outputs": [],
   "source": [
    "plt.figure(figsize=(10,6))\n",
    "\n",
    "plt.plot(nam,vn.population/10**6,'r-o')\n",
    "plt.plot(nam,ind.population/10**6,'--s')\n",
    "plt.plot(nam,thd.population/10**6,':*')\n",
    "plt.plot(nam,phi.population/10**6,':*')\n",
    "plt.legend(['Việt Nam','Indonesia','Thái Lan','Philippin'])\n",
    "plt.grid(True)\n",
    "plt.show()"
   ]
  },
  {
   "cell_type": "markdown",
   "metadata": {},
   "source": [
    "### 3. Tỷ lệ % dân số 8 quốc gia Đông Nam Á\n",
    "---"
   ]
  },
  {
   "cell_type": "code",
   "execution_count": null,
   "metadata": {},
   "outputs": [],
   "source": [
    "#Dân số các nước ĐNA năm 2007 \n",
    "vn_2007 = data['population'].loc[(data.country=='Vietnam') & (data.year==2007)].values\n",
    "tl_2007 = data['population'].loc[(data.country=='Thailand') & (data.year==2007)].values\n",
    "in_2007 = data['population'].loc[(data.country=='Indonesia') & (data.year==2007)].values\n",
    "ma_2007 = data['population'].loc[(data.country=='Malaysia') & (data.year==2007)].values\n",
    "ph_2007 = data['population'].loc[(data.country=='Philippines') & (data.year==2007)].values\n",
    "my_2007 = data['population'].loc[(data.country=='Myanmar') & (data.year==2007)].values\n",
    "ca_2007 = data['population'].loc[(data.country=='Cambodia') & (data.year==2007)].values\n",
    "sg_2007 = data['population'].loc[(data.country=='Singapore') & (data.year==2007)].values"
   ]
  },
  {
   "cell_type": "code",
   "execution_count": null,
   "metadata": {},
   "outputs": [],
   "source": [
    "list_name_DNA = ['Vietnam','Thailand','Indonesia','Malaysia','Philippines','Myanmar','Cambodia','Singapore']\n",
    "list_po_DAN = [int(vn_2007),int(tl_2007),int(in_2007),int(ma_2007),int(ph_2007),int(my_2007),int(ca_2007),int(sg_2007)]"
   ]
  },
  {
   "cell_type": "code",
   "execution_count": null,
   "metadata": {},
   "outputs": [],
   "source": []
  },
  {
   "cell_type": "code",
   "execution_count": null,
   "metadata": {},
   "outputs": [],
   "source": [
    "#Vẽ biểu đồ hình tròn\n",
    "plt.pie(list_po_DAN,\n",
    "       labels=list_name_DNA,\n",
    "       wedgeprops=dict(width=0.6),\n",
    "       autopct='%1.1f%%')\n",
    "plt.title('BIỂU ĐỒ BIỂU DIỄN TỶ LỆ DÂN SỐ CÁC NƯỚC ĐÔNG NAM Á NĂM 2007')\n",
    "plt.show()"
   ]
  },
  {
   "cell_type": "code",
   "execution_count": null,
   "metadata": {},
   "outputs": [],
   "source": []
  },
  {
   "cell_type": "markdown",
   "metadata": {},
   "source": [
    "## 3. Danh sách 15 nước có số dân đông nhất thế giới năm 2007\n",
    "---"
   ]
  },
  {
   "cell_type": "code",
   "execution_count": null,
   "metadata": {},
   "outputs": [],
   "source": [
    "#Lọc 15 nước có dân số cao nhất năm 2007\n",
    "population2007 = data.loc[data.year==2007]\n",
    "population2007.sort_values(by=['population'],ascending=False,inplace=True)\n",
    "data15_2007 = population2007.iloc[:15]"
   ]
  },
  {
   "cell_type": "code",
   "execution_count": null,
   "metadata": {},
   "outputs": [],
   "source": [
    "data15_2007"
   ]
  },
  {
   "cell_type": "code",
   "execution_count": null,
   "metadata": {},
   "outputs": [],
   "source": [
    "plt.figure(figsize=(10, 6))\n",
    "plt.barh(data15_2007.country,data15_2007.population/10**6)\n",
    "plt.title('DÂN SỐ 15 NƯỚC ĐÔNG NHẤT THẾ GIỚI NĂM 2007')\n",
    "plt.xlabel('Dân số (Triệu người)')\n",
    "plt.grid(True)\n",
    "plt.show()"
   ]
  },
  {
   "cell_type": "code",
   "execution_count": null,
   "metadata": {},
   "outputs": [],
   "source": [
    "plt.figure(figsize=(10, 6))\n",
    "plt.bar(data15_2007.country,data15_2007.population/10**6, color='cyan')\n",
    "plt.title('DÂN SỐ 15 NƯỚC ĐÔNG NHẤT THẾ GIỚI NĂM 2007')\n",
    "plt.xlabel('Quốc gia')\n",
    "plt.ylabel('Dân số (Triệu người)')\n",
    "plt.xticks(rotation=90)\n",
    "plt.grid(True)\n",
    "plt.show()"
   ]
  },
  {
   "cell_type": "markdown",
   "metadata": {},
   "source": [
    "# THỰC HÀNH \n",
    "---\n",
    "## Bài tập 27: Làm việc với Matplotlib\n",
    "Sử dụng kết quả thống kê được ở Bài tập 20 về nhiệt độ max, min, mean của 6 thành phố:\n",
    "\n",
    "Yêu cầu:\n",
    "1. Vẽ biểu đồ dạng đường biểu diễn nhiệt độ Max của 6 thành phố\n",
    "2. Vẽ biểu đồ dạng cột biểu diễn nhiệt độ Mean của 6 thành phố\n",
    "4.  Vẽ biểu đồ dạng điểm biểu diễn nhiệt độ Min của 6 thành phố\n",
    "\n",
    "*(Thiết lập các tham số để có được kết quả như hình minh họa trong slide)*\n"
   ]
  },
  {
   "cell_type": "code",
   "execution_count": null,
   "metadata": {},
   "outputs": [],
   "source": [
    "#{Học viên viết code ở đây}\n",
    "\n",
    "\n",
    "\n",
    "\n",
    "\n",
    "\n"
   ]
  }
 ],
 "metadata": {
  "kernelspec": {
   "display_name": "Python 3",
   "language": "python",
   "name": "python3"
  },
  "language_info": {
   "codemirror_mode": {
    "name": "ipython",
    "version": 3
   },
   "file_extension": ".py",
   "mimetype": "text/x-python",
   "name": "python",
   "nbconvert_exporter": "python",
   "pygments_lexer": "ipython3",
   "version": "3.8.8"
  }
 },
 "nbformat": 4,
 "nbformat_minor": 2
}
