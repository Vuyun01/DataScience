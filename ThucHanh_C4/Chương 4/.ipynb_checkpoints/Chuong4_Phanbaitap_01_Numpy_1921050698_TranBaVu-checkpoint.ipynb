{
 "cells": [
  {
   "cell_type": "markdown",
   "metadata": {
    "colab_type": "text",
    "id": "wDtyCjZ4yc-W"
   },
   "source": [
    "\n",
    "# CHƯƠNG 4: THƯ VIỆN NUMPY - PHẦN BÀI TẬP\n",
    "---\n",
    "\n",
    "1. Họ tên học viên: Trần Bá Vũ\n",
    "2. Email: vu12401it@gmail.com\n",
    "3. SĐT: 0377342405\n",
    "\n",
    "*Lưu ý: Học viên xem thêm mô tả chi tiết các bài tập trong slide*"
   ]
  },
  {
   "cell_type": "markdown",
   "metadata": {},
   "source": [
    "# Bài tập 18:\n",
    "---\n",
    "**YÊU CẦU 1: Học viên tạo một ma trận vuông cấp n, bao gồm các phần tử là những số nguyên ngẫu nhiên trong khoảng [0-100]**"
   ]
  },
  {
   "cell_type": "code",
   "execution_count": 1,
   "metadata": {},
   "outputs": [
    {
     "name": "stdout",
     "output_type": "stream",
     "text": [
      "nhập vào cấp của ma trận muốn sinh:8\n",
      "[[64  5  6 93 87 32 53  3]\n",
      " [44 93 13 44 16 61 54 96]\n",
      " [34 27 19 83 57 84 11 57]\n",
      " [51 81 90 75 24 93 71 62]\n",
      " [68 11 67 16 48 53 24 77]\n",
      " [47 87 50 53 92 58 39 68]\n",
      " [93 60 23 41 64 50  7  8]\n",
      " [79 95 41 18 68  3 60 77]]\n",
      "Kieu du lieu:  <class 'numpy.ndarray'>\n",
      "Kieu du lieu phan tu:  int32\n",
      "Kich thuoc:  (8, 8)\n",
      "So luong phan tu:  64\n",
      "So chieu:  2\n"
     ]
    }
   ],
   "source": [
    "# {HỌC VIÊN VIẾT CODE Ở ĐÂY}\n",
    "import numpy as np\n",
    "\n",
    "n = int(input('nhập vào cấp của ma trận muốn sinh:'))\n",
    "\n",
    "arr_num = np.random.randint(0,100,(n, n))\n",
    "print(arr_num)\n",
    "print('Kieu du lieu: ',type(arr_num))\n",
    "print('Kieu du lieu phan tu: ',arr_num.dtype)\n",
    "print('Kich thuoc: ',arr_num.shape)\n",
    "print('So luong phan tu: ',arr_num.size)\n",
    "print('So chieu: ',arr_num.ndim)\n"
   ]
  },
  {
   "cell_type": "code",
   "execution_count": null,
   "metadata": {},
   "outputs": [],
   "source": []
  },
  {
   "cell_type": "code",
   "execution_count": null,
   "metadata": {},
   "outputs": [],
   "source": []
  },
  {
   "cell_type": "code",
   "execution_count": null,
   "metadata": {},
   "outputs": [],
   "source": []
  },
  {
   "cell_type": "markdown",
   "metadata": {},
   "source": [
    "**YÊU CẦU 2: Sử dụng ma trận tạo được trong yêu cầu 1, Học viên tạo 2 vector như sau:**\n",
    "\n",
    "**v_chinh:** bao gồm các phần tử nằm trên đường chéo chính của ma trận.\n",
    "\n",
    "**V_phu:** bao gồm các phần tử nằm trên đường chéo phụ của ma trận"
   ]
  },
  {
   "cell_type": "code",
   "execution_count": 4,
   "metadata": {},
   "outputs": [
    {
     "name": "stdout",
     "output_type": "stream",
     "text": [
      "[[37 48 23 31  9 83 31 24 44 75]\n",
      " [70 54 71 16 32 44 24 86 76 64]\n",
      " [16 85 83 54 94 79 27 80  1 67]\n",
      " [87 93 32  5 95 71 59 14 65 16]\n",
      " [63 24 63 51 66 11 27 57 46  3]\n",
      " [92 14 17 43 68 16 49 18 62 56]\n",
      " [90 17 22  9 23 44 66 65 36 70]\n",
      " [80 31 88 20 10 57 10 25  4 25]\n",
      " [26  3  4 88 94 68 74 82 27 36]\n",
      " [43 34 12 43 67  0 16 61 94 19]]\n",
      "Các phần tử nằm trên đường chéo chính của ma trận:  [37 54 83  5 66 16 66 25 27 19]\n",
      "Các phần tử nằm trên đường chéo phụ của ma trận:  [75 76 80 59 11 68  9 88  3 43]\n"
     ]
    }
   ],
   "source": [
    "# {HỌC VIÊN VIẾT CODE Ở ĐÂY}\n",
    "print(arr_num)\n",
    "cheo_chinh = []\n",
    "cheo_phu = []\n",
    "for i in range(0,arr_num.shape[0]):\n",
    "    for j in range(0,arr_num.shape[0]):\n",
    "        if i == j: cheo_chinh.append(arr_num[i][j])\n",
    "        if i + j == arr_num.shape[0] - 1: cheo_phu.append(arr_num[i][j])\n",
    "\n",
    "v_chinh = np.array(cheo_chinh)          \n",
    "V_phu = np.array(cheo_phu)\n",
    "print('Các phần tử nằm trên đường chéo chính của ma trận: ', v_chinh)\n",
    "print('Các phần tử nằm trên đường chéo phụ của ma trận: ', V_phu)\n",
    "\n",
    "\n",
    "            \n",
    "    \n",
    "\n",
    "\n"
   ]
  },
  {
   "cell_type": "code",
   "execution_count": null,
   "metadata": {},
   "outputs": [],
   "source": []
  },
  {
   "cell_type": "markdown",
   "metadata": {},
   "source": [
    "**YÊU CẦU 3: Nhập vào số nguyên x bất kỳ trong khoảng (0-100), đếm xem có bao nhiêu phần tử trong ma trận sinh ra ở yêu cầu 1 có giá trị bằng x, lớn hơn x, nhỏ hơn x và hiển thị kết quả:**"
   ]
  },
  {
   "cell_type": "code",
   "execution_count": 11,
   "metadata": {},
   "outputs": [
    {
     "name": "stdout",
     "output_type": "stream",
     "text": [
      "[[37 48 23 31  9 83 31 24 44 75]\n",
      " [70 54 71 16 32 44 24 86 76 64]\n",
      " [16 85 83 54 94 79 27 80  1 67]\n",
      " [87 93 32  5 95 71 59 14 65 16]\n",
      " [63 24 63 51 66 11 27 57 46  3]\n",
      " [92 14 17 43 68 16 49 18 62 56]\n",
      " [90 17 22  9 23 44 66 65 36 70]\n",
      " [80 31 88 20 10 57 10 25  4 25]\n",
      " [26  3  4 88 94 68 74 82 27 36]\n",
      " [43 34 12 43 67  0 16 61 94 19]]\n",
      "Nhap gia tri bat ki: 68\n",
      "Có 25 số lớn hơn số 68\n",
      "Có 73 số nhỏ hơn số 68\n",
      "Có 2 số bằng số 68\n"
     ]
    }
   ],
   "source": [
    "# {HỌC VIÊN VIẾT CODE Ở ĐÂY}\n",
    "\n",
    "print(arr_num)\n",
    "n = int(input('Nhap gia tri bat ki: '))\n",
    "while n < 1 or n > 100:\n",
    "    n = int(input('Nhap lai: '))\n",
    "\n",
    "    \n",
    "# equal_value = []\n",
    "# max_value = []\n",
    "# min_value = []\n",
    "\n",
    "count_equal = 0\n",
    "count_B = 0\n",
    "count_S = 0\n",
    "for i in range(0,arr_num.shape[0]):\n",
    "    for j in range(0,arr_num.shape[0]):\n",
    "        if arr_num[i][j] == n: \n",
    "            count_equal += 1\n",
    "#             equal_value.append(arr_num[i][j])\n",
    "        elif arr_num[i][j] < n: \n",
    "            count_S += 1\n",
    "#             min_value.append(arr_num[i][j])\n",
    "        else: \n",
    "            count_B += 1\n",
    "#             max_value.append(arr_num[i][j])\n",
    "        \n",
    "print(f'Có {count_B} số lớn hơn số {n}')\n",
    "print(f'Có {count_S} số nhỏ hơn số {n}')\n",
    "print(f'Có {count_equal} số bằng số {n}')\n"
   ]
  },
  {
   "cell_type": "code",
   "execution_count": null,
   "metadata": {},
   "outputs": [],
   "source": []
  },
  {
   "cell_type": "markdown",
   "metadata": {},
   "source": [
    "# Bài tập 19:\n",
    "---\n",
    "**YÊU CẦU 1: Sử dụng dữ liệu bảng điểm của lớp 2A. Cho biết:**\n",
    "\n",
    "1. ĐTB của từng học sinh trong lớp.\n",
    "2. Học sinh có điểm TB cao nhất.\n",
    "3. Học sinh có điểm trung bình thấp nhất\n"
   ]
  },
  {
   "cell_type": "code",
   "execution_count": 2,
   "metadata": {},
   "outputs": [
    {
     "name": "stdout",
     "output_type": "stream",
     "text": [
      "Diem tb cua hoc sinh thu  0  la:  4.8\n",
      "Diem tb cua hoc sinh thu  1  la:  6.0\n",
      "Diem tb cua hoc sinh thu  2  la:  4.7\n",
      "Diem tb cua hoc sinh thu  3  la:  8.6\n",
      "Diem tb cua hoc sinh thu  4  la:  6.2\n",
      "Diem tb cua hoc sinh thu  5  la:  6.8\n",
      "Diem tb cua hoc sinh thu  6  la:  5.6\n",
      "Diem tb cua hoc sinh thu  7  la:  5.4\n",
      "Diem tb cua hoc sinh thu  8  la:  5.9\n",
      "Diem tb cua hoc sinh thu  9  la:  5.1\n",
      "Diem tb cua hoc sinh thu  10  la:  7.2\n",
      "Diem tb cua hoc sinh thu  11  la:  5.4\n",
      "Diem tb cua hoc sinh thu  12  la:  5.9\n",
      "Diem tb cua hoc sinh thu  13  la:  5.9\n",
      "Diem tb cua hoc sinh thu  14  la:  6.0\n",
      "Diem tb cua hoc sinh thu  15  la:  7.9\n",
      "Diem tb cua hoc sinh thu  16  la:  4.2\n",
      "Diem tb cua hoc sinh thu  17  la:  6.1\n",
      "Diem tb cua hoc sinh thu  18  la:  6.3\n",
      "Diem tb cua hoc sinh thu  19  la:  4.4\n",
      "Diem tb cua hoc sinh thu  20  la:  4.7\n",
      "Diem tb cua hoc sinh thu  21  la:  5.9\n",
      "Diem tb cua hoc sinh thu  22  la:  5.6\n",
      "Diem tb cua hoc sinh thu  23  la:  4.7\n",
      "Diem tb cua hoc sinh thu  24  la:  6.4\n",
      "Diem tb cua hoc sinh thu  25  la:  6.2\n",
      "Diem tb cua hoc sinh thu  26  la:  6.5\n",
      "Diem tb cua hoc sinh thu  27  la:  4.6\n",
      "Diem tb cua hoc sinh thu  28  la:  5.8\n",
      "Diem tb cua hoc sinh thu  29  la:  4.3\n"
     ]
    }
   ],
   "source": [
    "# {HỌC VIÊN VIẾT CODE Ở ĐÂY}\n",
    "import numpy as np\n",
    "#1: ĐTB của từng học sinh trong lớp.\n",
    "path ='Data_Excercise\\Diem_2A.txt'\n",
    "diem_2a = np.loadtxt(path,delimiter=',', dtype = np.int8)\n",
    "# print(diem_2a)\n",
    "\n",
    "diem_2A = diem_2a.mean(axis = 0) \n",
    "\n",
    "for i in range(0, diem_2a.shape[1]):\n",
    "    print('Diem tb cua hoc sinh thu ',i,' la: ',diem_2A[i])\n",
    "\n",
    "\n"
   ]
  },
  {
   "cell_type": "code",
   "execution_count": 18,
   "metadata": {},
   "outputs": [
    {
     "name": "stdout",
     "output_type": "stream",
     "text": [
      "Hoc sinh co diem TB cao nhat la:  8.6\n"
     ]
    }
   ],
   "source": [
    "#2:Học sinh có điểm TB cao nhất.\n",
    "print('Hoc sinh co diem TB cao nhat la: ', diem_2A.max())\n"
   ]
  },
  {
   "cell_type": "code",
   "execution_count": 22,
   "metadata": {},
   "outputs": [
    {
     "ename": "NameError",
     "evalue": "name 'diem_2A' is not defined",
     "output_type": "error",
     "traceback": [
      "\u001b[1;31m---------------------------------------------------------------------------\u001b[0m",
      "\u001b[1;31mNameError\u001b[0m                                 Traceback (most recent call last)",
      "\u001b[1;32m<ipython-input-22-023b8d4ad11c>\u001b[0m in \u001b[0;36m<module>\u001b[1;34m\u001b[0m\n\u001b[0;32m      1\u001b[0m \u001b[1;31m#3:Học sinh có điểm trung bình thấp nhất\u001b[0m\u001b[1;33m\u001b[0m\u001b[1;33m\u001b[0m\u001b[1;33m\u001b[0m\u001b[0m\n\u001b[1;32m----> 2\u001b[1;33m \u001b[0mprint\u001b[0m\u001b[1;33m(\u001b[0m\u001b[1;34m'Hoc sinh co diem TB thap nhat la: '\u001b[0m\u001b[1;33m,\u001b[0m \u001b[0mdiem_2A\u001b[0m\u001b[1;33m.\u001b[0m\u001b[0mmin\u001b[0m\u001b[1;33m(\u001b[0m\u001b[1;33m)\u001b[0m\u001b[1;33m)\u001b[0m\u001b[1;33m\u001b[0m\u001b[1;33m\u001b[0m\u001b[0m\n\u001b[0m",
      "\u001b[1;31mNameError\u001b[0m: name 'diem_2A' is not defined"
     ]
    }
   ],
   "source": [
    "#3:Học sinh có điểm trung bình thấp nhất\n",
    "print('Hoc sinh co diem TB thap nhat la: ', diem_2A.min())"
   ]
  },
  {
   "cell_type": "markdown",
   "metadata": {},
   "source": [
    "**YÊU CẦU 2: Sử dụng dữ liệu bảng điểm của lớp 2A. Cho biết:**\n",
    "\n",
    "1. ĐTB của từng môn học.\n",
    "2. Môn học có điểm TB cao nhất.\n",
    "3. Môn học có điểm trung bình thấp nhất"
   ]
  },
  {
   "cell_type": "code",
   "execution_count": 35,
   "metadata": {},
   "outputs": [
    {
     "name": "stdout",
     "output_type": "stream",
     "text": [
      "DTB cua mon hoc thu  0  la:  4.73\n",
      "DTB cua mon hoc thu  1  la:  4.43\n",
      "DTB cua mon hoc thu  2  la:  5.5\n",
      "DTB cua mon hoc thu  3  la:  4.83\n",
      "DTB cua mon hoc thu  4  la:  4.97\n",
      "DTB cua mon hoc thu  5  la:  5.6\n",
      "DTB cua mon hoc thu  6  la:  6.23\n",
      "DTB cua mon hoc thu  7  la:  7.3\n",
      "DTB cua mon hoc thu  8  la:  6.13\n",
      "DTB cua mon hoc thu  9  la:  7.97\n"
     ]
    }
   ],
   "source": [
    "# {HỌC VIÊN VIẾT CODE Ở ĐÂY}\n",
    "#1:ĐTB của từng môn học.\n",
    "\n",
    "diem_tb = diem_2a.mean(axis = 1)\n",
    "for i in range(0, diem_2a.shape[0]):\n",
    "    print('DTB cua mon hoc thu ',i,' la: ',round(diem_tb[i],2))\n",
    "\n",
    "# for i in range(0, diem_2a.shape[0]):\n",
    "#     print('DTB cua mon hoc thu ',i,' la: ',round(diem_2a[i,:].mean(),2))\n"
   ]
  },
  {
   "cell_type": "code",
   "execution_count": 31,
   "metadata": {},
   "outputs": [
    {
     "name": "stdout",
     "output_type": "stream",
     "text": [
      "Mon hoc co DTB cao nhat:  7.97\n"
     ]
    }
   ],
   "source": [
    "#2:Môn học có điểm TB cao nhất.\n",
    "\n",
    "print('Mon hoc co DTB cao nhat: ', round(diem_tb.max(),2))"
   ]
  },
  {
   "cell_type": "code",
   "execution_count": 32,
   "metadata": {},
   "outputs": [
    {
     "name": "stdout",
     "output_type": "stream",
     "text": [
      "Mon hoc co DTB cao nhat:  4.43\n"
     ]
    }
   ],
   "source": [
    "#3:Môn học có điểm trung bình thấp nhất\n",
    "print('Mon hoc co DTB thap nhat: ', round(diem_tb.min(),2))"
   ]
  },
  {
   "cell_type": "markdown",
   "metadata": {},
   "source": [
    "#### **YÊU CẦU 3: Sử dụng dữ liệu bảng điểm của lớp 2A. Cho biết:**\n",
    "---\n",
    "1. Sinh viên có điểm đồng đều nhất tất cả các môn. Sinh viên có điểm các môn lệch nhất trong lớp.\n",
    "2. Môn học có điểm đồng đều nhất. Môn học có điểm chênh lệch nhất.\n",
    "\n"
   ]
  },
  {
   "cell_type": "code",
   "execution_count": 4,
   "metadata": {},
   "outputs": [
    {
     "name": "stdout",
     "output_type": "stream",
     "text": [
      "Sinh viên  3 có điểm đồng đều nhất tất cả các môn:  1.1135528725660042\n",
      "Bảng điểm của sinh viên  3  :  [ 7 10  9  8  7 10 10  8  9  8]\n",
      "Sinh viên  19 có điểm lệch nhất trong lớp:  3.352610922848042\n",
      "Bảng điểm của sinh viên  19  :  [ 5  1  0 10  4  7  1  8  1  7]\n"
     ]
    }
   ],
   "source": [
    "# {HỌC VIÊN VIẾT CODE Ở ĐÂY\n",
    "#1: Sinh viên có điểm đồng đều nhất tất cả các môn. Sinh viên có điểm các môn lệch nhất trong lớp\n",
    "\n",
    "dd_nhat = np.std(diem_2a, axis = 0).min()\n",
    "lech_nhat = np.std(diem_2a, axis = 0).max()\n",
    "for i in range(0, diem_2a.shape[1]):\n",
    "    if diem_2a[:,i].std() == dd_nhat:\n",
    "        print('Sinh viên ',i,'có điểm đồng đều nhất tất cả các môn: ',dd_nhat)\n",
    "        print('Bảng điểm của sinh viên ',i,' : ',diem_2a[:,i])\n",
    "    elif diem_2a[:,i].std() == lech_nhat:\n",
    "        print('Sinh viên ',i,'có điểm lệch nhất trong lớp: ',lech_nhat)\n",
    "        print('Bảng điểm của sinh viên ',i,' : ',diem_2a[:,i])\n",
    "\n"
   ]
  },
  {
   "cell_type": "code",
   "execution_count": 36,
   "metadata": {},
   "outputs": [
    {
     "name": "stdout",
     "output_type": "stream",
     "text": [
      "Môn học  2 có điểm lệch nhất:  3.2837986133947576\n",
      "Bảng điểm của môn học  2  :  [ 1 10  4  9  6  9  0  2  3  1  8  6  8  4  2  9  2  9  5  0  4  1  7  3\n",
      "  8  9  8  9  9  9]\n",
      "Môn học  7 có điểm đồng đều nhất:  0.7810249675906655\n",
      "Bảng điểm của môn học  7  :  [8 8 7 8 6 7 7 8 6 7 8 6 7 6 8 8 7 6 8 8 8 7 8 8 8 6 8 7 7 8]\n"
     ]
    }
   ],
   "source": [
    "#2: Môn học có điểm đồng đều nhất. Môn học có điểm chênh lệch nhất.\n",
    "\n",
    "mh_dd_nhat = diem_2a.std(axis = 1).min()\n",
    "mh_lech_nhat = diem_2a.std(axis = 1).max()\n",
    "for i in range(0, diem_2a.shape[0]):\n",
    "    if diem_2a[i,:].std() == mh_dd_nhat:\n",
    "        print('Môn học ',i,'có điểm đồng đều nhất: ',mh_dd_nhat)\n",
    "        print('Bảng điểm của môn học ',i,' : ',diem_2a[i,:])\n",
    "    if diem_2a[i,:].std() == mh_lech_nhat:\n",
    "        print('Môn học ',i,'có điểm lệch nhất: ',mh_lech_nhat)\n",
    "        print('Bảng điểm của môn học ',i,' : ',diem_2a[i,:])\n",
    "    "
   ]
  },
  {
   "cell_type": "markdown",
   "metadata": {},
   "source": [
    "# Lưu ý:\n",
    "---\n",
    "Các file dữ liệu cho phần bài tập: Temp.txt | Diamonds.txt học viên download trong phần tài nguyên của bài học, thư mục Data_Excercise.\n"
   ]
  },
  {
   "cell_type": "markdown",
   "metadata": {},
   "source": [
    "## Bài tập 20:\n",
    "---\n",
    "Mô tả file dữ liệu: Temp.txt (có trong thư mục Data_Excercise)\n",
    "* File dữ liệu lưu trữ nhiệt độ (oC) của 6 thành phố lớn dọc theo nước Việt Nam là: Hà Nội, Vinh, Đà Nẵng, Nha trang, Hồ Chính Minh và Cà Mau\n",
    "* Thời gian từ 0h ngày 15/09/2019 tới 23h ngày 22/09/2019\n"
   ]
  },
  {
   "cell_type": "markdown",
   "metadata": {},
   "source": [
    "**Yêu cầu 1**: Đọc dữ liệu lưu trữ trong file Temp.txt vào biến mảng data_temp, cho biết kích thước, số chiều, kiểu dữ liệu và số phần tử của biến data_temp.\n"
   ]
  },
  {
   "cell_type": "code",
   "execution_count": 5,
   "metadata": {},
   "outputs": [
    {
     "name": "stdout",
     "output_type": "stream",
     "text": [
      "[[25.65 24.79 24.01 25.06 25.48 24.97]\n",
      " [25.31 24.21 24.02 24.93 25.16 24.83]\n",
      " [25.05 23.73 23.89 24.79 24.8  24.55]\n",
      " ...\n",
      " [24.81 24.47 23.4  25.86 25.05 25.29]\n",
      " [23.97 24.22 22.95 25.74 24.92 24.87]\n",
      " [22.84 23.99 22.59 25.5  24.77 24.57]]\n",
      "Kích thước:  (192, 6)\n",
      "Số chiều:  2\n",
      "Kiểu dữ liệu các phần tử:  float64\n",
      "Số lượng phần tử:  1152\n"
     ]
    }
   ],
   "source": [
    "# {HỌC VIÊN VIẾT CODE Ở ĐÂY}\n",
    "import numpy as np\n",
    "\n",
    "path = 'Data_Excercise\\Temp.txt'\n",
    "data_temp = np.loadtxt(path)\n",
    "\n",
    "#1: \n",
    "print(data_temp)\n",
    "# print(type(data_temp))\n",
    "print('Kích thước: ',data_temp.shape)\n",
    "print('Số chiều: ',data_temp.ndim)\n",
    "print('Kiểu dữ liệu các phần tử: ',data_temp.dtype)\n",
    "print('Số lượng phần tử: ',data_temp.size)\n",
    "\n",
    "\n"
   ]
  },
  {
   "cell_type": "code",
   "execution_count": null,
   "metadata": {},
   "outputs": [],
   "source": []
  },
  {
   "cell_type": "markdown",
   "metadata": {},
   "source": [
    "**Yêu cầu 2**: Tìm nhiệt độ cao nhất (Max) – Thấp nhất (Min) – Nhiệt độ trung bình của cả tập dữ liệu.\n",
    "\n",
    "**Yêu cầu 3**: Tìm nhiệt độ cao nhất (Max) – Thấp nhất (Min) – Nhiệt độ trung bình của từng thành phố và hiển thị kết quả.\n"
   ]
  },
  {
   "cell_type": "code",
   "execution_count": 51,
   "metadata": {},
   "outputs": [
    {
     "name": "stdout",
     "output_type": "stream",
     "text": [
      "--THỐNG KÊ CHO CẢ 6 THÀNH PHÔ--\n",
      "Nhiệt độ cao nhất:  33.45\n",
      "Nhiệt độ Thấp nhất:  20.93\n",
      "Nhiệt độ trung bình:  26.50222222222222\n"
     ]
    }
   ],
   "source": [
    "# {HỌC VIÊN VIẾT CODE Ở ĐÂY}\n",
    "#2: Tìm nhiệt độ cao nhất (Max) – Thấp nhất (Min) – Nhiệt độ trung bình của cả tập dữ liệu.\n",
    "print('--THỐNG KÊ CHO CẢ 6 THÀNH PHÔ--')\n",
    "print('Nhiệt độ cao nhất: ',data_temp.max())\n",
    "print('Nhiệt độ Thấp nhất: ',data_temp.min())\n",
    "print('Nhiệt độ trung bình: ',data_temp.mean())\n",
    "\n",
    "\n",
    "\n"
   ]
  },
  {
   "cell_type": "code",
   "execution_count": 97,
   "metadata": {},
   "outputs": [
    {
     "name": "stdout",
     "output_type": "stream",
     "text": [
      "1 :  Hà Nội\n",
      "Nhiệt độ cao nhất:  33.45\n",
      "Nhiệt độ Thấp nhất:  21.68\n",
      "Nhiệt độ trung bình:  27.71229166666667\n",
      "2 :  Vinh (Nghệ An)\n",
      "Nhiệt độ cao nhất:  32.57\n",
      "Nhiệt độ Thấp nhất:  22.6\n",
      "Nhiệt độ trung bình:  26.719895833333336\n",
      "3 :  Đà Nẵng\n",
      "Nhiệt độ cao nhất:  29.88\n",
      "Nhiệt độ Thấp nhất:  20.93\n",
      "Nhiệt độ trung bình:  25.522499999999997\n",
      "4 :  Nha Trang\n",
      "Nhiệt độ cao nhất:  28.68\n",
      "Nhiệt độ Thấp nhất:  24.5\n",
      "Nhiệt độ trung bình:  26.166875000000005\n",
      "5 :  Tp.HCM\n",
      "Nhiệt độ cao nhất:  31.06\n",
      "Nhiệt độ Thấp nhất:  23.22\n",
      "Nhiệt độ trung bình:  26.159218749999997\n",
      "6 :  Cà Mau\n",
      "Nhiệt độ cao nhất:  31.37\n",
      "Nhiệt độ Thấp nhất:  23.99\n",
      "Nhiệt độ trung bình:  26.73255208333333\n"
     ]
    }
   ],
   "source": [
    "#-----------------------------------------\n",
    "#3:Tìm nhiệt độ cao nhất (Max) – Thấp nhất (Min) – Nhiệt độ trung bình của từng thành phố và hiển thị kết quả.\n",
    "city = ['Hà Nội', 'Vinh (Nghệ An)', 'Đà Nẵng', 'Nha Trang','Tp.HCM','Cà Mau']\n",
    "for i in range(0, data_temp.shape[1]):\n",
    "    print(i+1,': ',city[i])\n",
    "    print('Nhiệt độ cao nhất: ',data_temp[:,i].max())\n",
    "    print('Nhiệt độ Thấp nhất: ',data_temp[:,i].min())\n",
    "    print('Nhiệt độ trung bình: ',data_temp[:,i].mean())\n",
    "\n"
   ]
  },
  {
   "cell_type": "markdown",
   "metadata": {},
   "source": [
    "**Yêu cầu 4:** Tạo một ma trận data_thongke gồm 3 hàng x 7 cột; \n",
    "các hàng lần lượt lưu trữ dữ liệu như sau: \n",
    "- Hàng 0: Nhiệt độ cao nhất (Max)\n",
    "- Hàng 1: Nhiệt độ trung bình (Mean), làm tròn đến 2 số sau dấu phẩy\n",
    "- Hàng 2: Nhiệt độ nhỏ nhất (Min)\n",
    "Các cột lần lượt theo thứ tự của 6 thành phố và cột cuối cùng là cột thống kê chung cho cả 6 thành phố. Lưu ra file thongke.txt\n"
   ]
  },
  {
   "cell_type": "code",
   "execution_count": 6,
   "metadata": {},
   "outputs": [
    {
     "name": "stdout",
     "output_type": "stream",
     "text": [
      "[[33.45 32.57 29.88 28.68 31.06 31.37 33.45]\n",
      " [27.71 26.72 25.52 26.17 26.16 26.73 26.5 ]\n",
      " [21.68 22.6  20.93 24.5  23.22 23.99 20.93]]\n",
      "<class 'numpy.ndarray'>\n",
      "Kích thước:  (3, 7)\n"
     ]
    }
   ],
   "source": [
    "# {HỌC VIÊN VIẾT CODE Ở ĐÂY}\n",
    "#create array\n",
    "\n",
    "data_thongke = np.full((3,7), 0,dtype = np.float32)\n",
    "\n",
    "#max value\n",
    "max_deg = np.max(data_temp,axis = 0)\n",
    "max_deg_all = np.max(max_deg)\n",
    "#mean value\n",
    "mean_deg = np.mean(data_temp,axis = 0)\n",
    "mean_deg_all = np.mean(mean_deg)\n",
    "#min value\n",
    "min_deg = np.min(data_temp,axis = 0)\n",
    "min_deg_all = np.min(min_deg)\n",
    "\n",
    "#=========================================\n",
    "#Insert value\n",
    "for i in range(0, data_thongke.shape[1]):\n",
    "    if i == data_thongke.shape[1]-1:\n",
    "        data_thongke[0,i] = max_deg_all\n",
    "        data_thongke[1,i] = round(mean_deg_all,2)\n",
    "        data_thongke[2,i] = min_deg_all\n",
    "    elif i < (data_thongke.shape[1] - 1):\n",
    "        data_thongke[0,i] = max_deg[i]\n",
    "        data_thongke[1,i] = round(mean_deg[i],2)\n",
    "        data_thongke[2,i] = min_deg[i]\n",
    "        \n",
    "#Display \n",
    "print(data_thongke)\n",
    "print(type(data_thongke))\n",
    "print('Kích thước: ',data_thongke.shape)\n",
    "\n",
    "#Ghi file\n",
    "\n",
    "file_text = open('Thongke.txt','w')\n",
    "for i in range (0,data_thongke.shape[0]):\n",
    "    for j in range (0, data_thongke.shape[1]):\n",
    "        if j < data_thongke.shape[1] - 1:\n",
    "            file_text.write(str(data_thongke[i,j])+'\\t')\n",
    "        elif j == data_thongke.shape[1] - 1:\n",
    "            file_text.write(str(data_thongke[i,j])+'\\n')\n",
    "    \n",
    "\n",
    "# for i in range (0,data_thongke.shape[0]):\n",
    "#     for j in range (0, data_thongke.shape[1]):\n",
    "#         file_text.write(str(data_thongke[i,j]) + ' ')\n",
    "#     file_text.write('\\n')\n",
    "file_text.close()\n",
    "\n"
   ]
  },
  {
   "cell_type": "code",
   "execution_count": 9,
   "metadata": {},
   "outputs": [
    {
     "data": {
      "text/plain": [
       "dtype('float64')"
      ]
     },
     "execution_count": 9,
     "metadata": {},
     "output_type": "execute_result"
    }
   ],
   "source": [
    "path_text = 'Thongke.txt'\n",
    "data_testfile = np.loadtxt(path_text,delimiter = '\\t')\n",
    "data_testfile.dtype"
   ]
  },
  {
   "cell_type": "markdown",
   "metadata": {},
   "source": [
    "## Bài tập 21:\n",
    "---\n",
    "Mô tả file dữ liệu: Diamonds.txt (có trong thư mục Data_Excercise)\n",
    "\n",
    "* File dữ liệu lưu trữ thông số 50 viên kim cương bao gồm: Trọng lượng (carat) và Giá bán ($) tương ứng theo mỗi hàng"
   ]
  },
  {
   "cell_type": "markdown",
   "metadata": {},
   "source": [
    "**Yêu cầu 1:** Đọc dữ liệu lưu trữ trong file Diamonds.txt vào biến kiểu mảng data_diamond, cho biết kích thước, số chiều, kiểu dữ liệu và số phần tử của biến data_diamond\n"
   ]
  },
  {
   "cell_type": "code",
   "execution_count": 1,
   "metadata": {},
   "outputs": [
    {
     "name": "stdout",
     "output_type": "stream",
     "text": [
      "[[2.3000e-01 4.8400e+02]\n",
      " [3.1000e-01 9.4200e+02]\n",
      " [2.0000e-01 3.4500e+02]\n",
      " [1.0200e+00 4.4590e+03]\n",
      " [1.6300e+00 1.4022e+04]\n",
      " [1.1400e+00 4.2120e+03]\n",
      " [2.0100e+00 1.1925e+04]\n",
      " [1.2800e+00 9.5480e+03]\n",
      " [1.7000e+00 1.1605e+04]\n",
      " [1.0100e+00 4.6420e+03]\n",
      " [6.4000e-01 3.5410e+03]\n",
      " [9.7000e-01 4.5040e+03]\n",
      " [1.7800e+00 1.3691e+04]\n",
      " [3.4000e+00 1.5964e+04]\n",
      " [3.0100e+00 1.0453e+04]\n",
      " [1.5100e+00 1.1560e+04]\n",
      " [1.3700e+00 7.9790e+03]\n",
      " [1.5000e+00 9.5330e+03]\n",
      " [5.4000e-01 1.7230e+03]\n",
      " [7.2000e-01 3.3440e+03]\n",
      " [1.1300e+00 6.1330e+03]\n",
      " [2.2400e+00 1.3827e+04]\n",
      " [3.0100e+00 1.6538e+04]\n",
      " [4.5000e+00 1.8531e+04]\n",
      " [9.2000e-01 3.6250e+03]\n",
      " [1.0500e+00 7.8790e+03]\n",
      " [5.5000e-01 1.3190e+03]\n",
      " [7.4000e-01 2.7610e+03]\n",
      " [9.1000e-01 3.6200e+03]\n",
      " [1.2300e+00 6.1650e+03]\n",
      " [1.5200e+00 1.0640e+04]\n",
      " [9.1000e-01 4.1380e+03]\n",
      " [4.3000e-01 1.0940e+03]\n",
      " [1.2400e+00 1.1130e+04]\n",
      " [1.7700e+00 1.4561e+04]\n",
      " [1.7900e+00 1.0108e+04]\n",
      " [2.0500e+00 1.2654e+04]\n",
      " [2.0300e+00 1.6280e+04]\n",
      " [2.0100e+00 1.3498e+04]\n",
      " [1.0000e+00 4.5860e+03]\n",
      " [9.0000e-01 3.1050e+03]\n",
      " [1.0100e+00 7.7450e+03]\n",
      " [1.1400e+00 5.0470e+03]\n",
      " [1.5300e+00 1.0830e+04]\n",
      " [3.4000e-01 7.6500e+02]\n",
      " [4.1000e-01 8.2700e+02]\n",
      " [7.5000e-01 3.1200e+03]\n",
      " [1.0700e+00 5.2200e+03]\n",
      " [1.3400e+00 7.4270e+03]\n",
      " [1.7500e+00 9.8900e+03]]\n",
      "========================================\n",
      "Kích thước (50, 2)\n",
      "Số chiều:  2\n",
      "Kiểu dữ liệu phần tử:  float64\n",
      "Số lượng phần tử:  100\n"
     ]
    }
   ],
   "source": [
    "# {HỌC VIÊN VIẾT CODE Ở ĐÂY}\n",
    "\n",
    "import numpy as np\n",
    "path = 'Data_Excercise\\Diamonds.txt '\n",
    "data_diamond = np.loadtxt(path, delimiter='\t')\n",
    "print(data_diamond)\n",
    "print('========================================')\n",
    "print('Kích thước',data_diamond.shape)\n",
    "print('Số chiều: ',data_diamond.ndim)\n",
    "print('Kiểu dữ liệu phần tử: ',data_diamond.dtype)\n",
    "print('Số lượng phần tử: ',data_diamond.size)\n",
    "\n",
    "\n",
    "\n",
    "\n",
    "\n",
    "\n",
    "\n"
   ]
  },
  {
   "cell_type": "code",
   "execution_count": null,
   "metadata": {},
   "outputs": [],
   "source": []
  },
  {
   "cell_type": "markdown",
   "metadata": {},
   "source": [
    "**Yêu cầu 2:** Tách mảng data_diamond thành 2 vector:  diamond_size và diamond_price lưu trữ trọng lượng và giá bán.\n"
   ]
  },
  {
   "cell_type": "code",
   "execution_count": 8,
   "metadata": {},
   "outputs": [
    {
     "name": "stdout",
     "output_type": "stream",
     "text": [
      "Vector diamond_size:\n",
      "[0.23 0.31 0.2  1.02 1.63 1.14 2.01 1.28 1.7  1.01 0.64 0.97 1.78 3.4\n",
      " 3.01 1.51 1.37 1.5  0.54 0.72 1.13 2.24 3.01 4.5  0.92 1.05 0.55 0.74\n",
      " 0.91 1.23 1.52 0.91 0.43 1.24 1.77 1.79 2.05 2.03 2.01 1.   0.9  1.01\n",
      " 1.14 1.53 0.34 0.41 0.75 1.07 1.34 1.75]\n",
      "Vector diamond_price:\n",
      "[  484.   942.   345.  4459. 14022.  4212. 11925.  9548. 11605.  4642.\n",
      "  3541.  4504. 13691. 15964. 10453. 11560.  7979.  9533.  1723.  3344.\n",
      "  6133. 13827. 16538. 18531.  3625.  7879.  1319.  2761.  3620.  6165.\n",
      " 10640.  4138.  1094. 11130. 14561. 10108. 12654. 16280. 13498.  4586.\n",
      "  3105.  7745.  5047. 10830.   765.   827.  3120.  5220.  7427.  9890.]\n"
     ]
    }
   ],
   "source": [
    "# {HỌC VIÊN VIẾT CODE Ở ĐÂY}\n",
    "\n",
    "print('Vector diamond_size:')\n",
    "diamond_size = np.array(data_diamond[:,0])\n",
    "print(diamond_size)\n",
    "\n",
    "print('Vector diamond_price:')\n",
    "diamond_price = np.array(data_diamond[:,1])\n",
    "print(diamond_price)\n",
    "\n",
    "\n",
    "\n"
   ]
  },
  {
   "cell_type": "code",
   "execution_count": null,
   "metadata": {},
   "outputs": [],
   "source": []
  },
  {
   "cell_type": "markdown",
   "metadata": {},
   "source": [
    "**Yêu cầu 3:** Vẽ đồ thị thể hiện mối quan hệ giữa kích thước và giá bán kim cương. Xác định hệ số tương quan tương ứng giữa 2 thông số này.\n"
   ]
  },
  {
   "cell_type": "code",
   "execution_count": 98,
   "metadata": {},
   "outputs": [
    {
     "data": {
      "image/png": "[encoded data removed]",
      "text/plain": [
       "<Figure size 432x288 with 1 Axes>"
      ]
     },
     "metadata": {
      "needs_background": "light"
     },
     "output_type": "display_data"
    },
    {
     "name": "stdout",
     "output_type": "stream",
     "text": [
      "Hệ số tương quan giữa trọng lượng và giá bán kim cương:  0.8814849023922127\n"
     ]
    }
   ],
   "source": [
    "# {HỌC VIÊN VIẾT CODE Ở ĐÂY}\n",
    "\n",
    "import matplotlib.pyplot as plt\n",
    "fig, ax = plt.subplots()\n",
    "ax.scatter(diamond_size, diamond_price)\n",
    "\n",
    "ax.set_xlabel('Trọng Lượng (Carat)', fontsize=10)\n",
    "ax.set_ylabel('Giá Bán ($)', fontsize=10)\n",
    "ax.set_title('BIỂU ĐỒ THỂ HIỆN MỐI TƯƠNG QUAN GIỮA TRỌNG LƯỢNG (CARAT) VÀ GIÁ BÁN KIM CƯƠNG ($)')\n",
    "\n",
    "ax.grid(True)\n",
    "#fig.tight_layout()\n",
    "plt.show()\n",
    "#=================================================\n",
    "\n",
    "bd_kc = np.array((diamond_size,diamond_price))\n",
    "\n",
    "#tính hệ số tương quan\n",
    "heso_tq = np.corrcoef(bd_kc, rowvar= True)\n",
    "print('Hệ số tương quan giữa trọng lượng và giá bán kim cương: ',heso_tq[0,1])\n",
    "\n"
   ]
  },
  {
   "cell_type": "code",
   "execution_count": null,
   "metadata": {},
   "outputs": [],
   "source": []
  },
  {
   "cell_type": "code",
   "execution_count": null,
   "metadata": {},
   "outputs": [],
   "source": []
  },
  {
   "cell_type": "markdown",
   "metadata": {},
   "source": [
    "**Yêu cầu 4:** Cho biết kích thước và giá trung bình của 50 viên kim cương. Hiển thị giá bán của viên kim cương có trọng lượng 3.01 carat.\n"
   ]
  },
  {
   "cell_type": "code",
   "execution_count": 27,
   "metadata": {},
   "outputs": [
    {
     "name": "stdout",
     "output_type": "stream",
     "text": [
      "Trọng lượng trung bình:  1.3448000000000002\n",
      "Giá trung bình:  7550.78\n",
      "Viên kim cương trọng lượng 3.01 carat có giá bán: \n",
      "Giá Bán 1  :  10453.0\n",
      "Giá Bán 2  :  16538.0\n"
     ]
    }
   ],
   "source": [
    "# {HỌC VIÊN VIẾT CODE Ở ĐÂY}\n",
    "\n",
    "kichthuoc_tb = data_diamond[:,0].mean()\n",
    "gia_tb = data_diamond[:,1].mean()\n",
    "\n",
    "print('Trọng lượng trung bình: ',kichthuoc_tb)\n",
    "print('Giá trung bình: ',gia_tb)\n",
    "\n",
    "stored_size = data_diamond[:,0]\n",
    "stored_price = data_diamond[:,1]\n",
    "\n",
    "print('Viên kim cương trọng lượng 3.01 carat có giá bán: ')\n",
    "index = 0\n",
    "for i in range(0,data_diamond.shape[0]):\n",
    "    if stored_size[i] == 3.01:\n",
    "        index += 1\n",
    "        print('Giá Bán',index,' : ',stored_price[i])\n"
   ]
  },
  {
   "cell_type": "code",
   "execution_count": null,
   "metadata": {},
   "outputs": [],
   "source": []
  },
  {
   "cell_type": "code",
   "execution_count": null,
   "metadata": {},
   "outputs": [],
   "source": []
  },
  {
   "cell_type": "code",
   "execution_count": null,
   "metadata": {},
   "outputs": [],
   "source": []
  }
 ],
 "metadata": {
  "colab": {
   "collapsed_sections": [],
   "name": "Chuong_4_package_Numpy.ipynb",
   "provenance": []
  },
  "kernelspec": {
   "display_name": "Python 3",
   "language": "python",
   "name": "python3"
  },
  "language_info": {
   "codemirror_mode": {
    "name": "ipython",
    "version": 3
   },
   "file_extension": ".py",
   "mimetype": "text/x-python",
   "name": "python",
   "nbconvert_exporter": "python",
   "pygments_lexer": "ipython3",
   "version": "3.8.8"
  }
 },
 "nbformat": 4,
 "nbformat_minor": 1
}
