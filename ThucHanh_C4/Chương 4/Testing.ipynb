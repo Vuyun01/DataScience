{
 "cells": [
  {
   "cell_type": "code",
   "execution_count": 3,
   "id": "1b14c537",
   "metadata": {},
   "outputs": [
    {
     "name": "stdout",
     "output_type": "stream",
     "text": [
      "13 N\n",
      "14 O\n",
      "15 P\n",
      "16 Q\n",
      "17 R\n",
      "18 S\n",
      "19 T\n",
      "20 U\n",
      "21 V\n",
      "22 W\n",
      "23 X\n",
      "24 Y\n",
      "25 Z\n"
     ]
    }
   ],
   "source": [
    "\n",
    "\n",
    "dic_pass = {\n",
    "    13:\"N\",\n",
    "    14:\"O\",\n",
    "    15:\"P\",\n",
    "    16:\"Q\",\n",
    "    17:\"R\",\n",
    "    18:\"S\",\n",
    "    19:\"T\",\n",
    "    20:\"U\",\n",
    "    21:\"V\",\n",
    "    22:\"W\",\n",
    "    23:\"X\",\n",
    "    24:\"Y\",\n",
    "    25:\"Z\"\n",
    "}\n",
    "\n",
    "\n",
    "for i, j in dic_pass.items():\n",
    "    print(str(i)+\" \"+j)"
   ]
  },
  {
   "cell_type": "code",
   "execution_count": null,
   "id": "a0599b87",
   "metadata": {},
   "outputs": [],
   "source": []
  }
 ],
 "metadata": {
  "kernelspec": {
   "display_name": "Python 3",
   "language": "python",
   "name": "python3"
  },
  "language_info": {
   "codemirror_mode": {
    "name": "ipython",
    "version": 3
   },
   "file_extension": ".py",
   "mimetype": "text/x-python",
   "name": "python",
   "nbconvert_exporter": "python",
   "pygments_lexer": "ipython3",
   "version": "3.8.8"
  }
 },
 "nbformat": 4,
 "nbformat_minor": 5
}
