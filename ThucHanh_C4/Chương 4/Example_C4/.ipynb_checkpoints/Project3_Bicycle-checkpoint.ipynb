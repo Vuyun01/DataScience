{
 "cells": [
  {
   "cell_type": "markdown",
   "metadata": {},
   "source": [
    "# EXAMPLE:  PHÂN TÍCH  DỮ LIỆU BICYCLE COUNT\n",
    "---\n",
    "\n",
    "<img src='Pic/bicycle.png' width='500px'>\n",
    "\n",
    "---\n",
    "**Bài toán:**\n",
    "* Người ta lắp đặt thiết bị để đếm số lượng xe đạp đi qua chiều phía đông và phía tây của cây cầu Fremont Bridge theo từng giờ.\n",
    "* Chi tiết: https://data.seattle.gov/Transportation/Fremont-Bridge-Bicycle-Counter/65db-xm6k\n",
    "----------------------\n",
    "**Tập dữ liệu:**\n",
    "* Tập dữ liệu là số lượng xe đạp đi qua cây cầu Fremont Bridge. Dữ liệu này được thu thập tự động thông qua các cảm biến ở 2 lối đi bộ ở phía đông và phía tây của cây cầu. Số lượng xe đạp được tổng hợp theo từng giờ.\n",
    "* Tập dữ liệu bao gồm 4 cột:\n",
    "    - Date: Thời gian (ngày - giờ): 10/03/2012 12:00:00 AM (Kiểu thời gian mm/dd/yyyy hh:mm:ss)\n",
    "    - Fremont Bridge Total: Tổng số xe đi theo cả 2 lối đông và tây (Kiểu số nguyên)\n",
    "    - Fremont Bridge East Sidewalk: Số xe đạp đi qua lối phía đông của cầu tương ứng với thời gian (Kiểu số nguyên)\n",
    "    - Fremont Bridge West Sidewalk: Số xe đạp đi qua lối phía tây của cầu tương ứng với thời gian (Kiểu số nguyên)\n",
    "-------------------------------\n",
    "**Mục tiêu:**\n",
    "1. Phân tích dữ liệu chuỗi thời gian (Time Series Data) sử dụng Pandas.\n",
    "2. Kết hợp với các biểu đồ để tìm ra được những Insight ẩn chứa trong tập dữ liệu.\n",
    "\n",
    "\n",
    "---\n",
    "*Copyright: Đặng Văn Nam - FIT.HUMG  - AIAcademy @2021*"
   ]
  },
  {
   "cell_type": "markdown",
   "metadata": {},
   "source": [
    "## 1) Đọc, quan sát và chuẩn hóa dữ liệu\n",
    "---"
   ]
  },
  {
   "cell_type": "code",
   "execution_count": null,
   "metadata": {},
   "outputs": [],
   "source": [
    "%matplotlib inline\n",
    "import matplotlib.pyplot as plt\n",
    "import pandas as pd\n",
    "import numpy as np"
   ]
  },
  {
   "cell_type": "code",
   "execution_count": null,
   "metadata": {},
   "outputs": [],
   "source": [
    "#Đọc dữ liệu trong file csv\n",
    "path='Data_Excercise\\Data_Bicycle_Counter.csv'\n",
    "df_bicycle=pd.read_csv(path)\n",
    "df_bicycle.info()"
   ]
  },
  {
   "cell_type": "code",
   "execution_count": null,
   "metadata": {},
   "outputs": [],
   "source": [
    "df_bicycle.head(10)"
   ]
  },
  {
   "cell_type": "code",
   "execution_count": null,
   "metadata": {},
   "outputs": [],
   "source": [
    "#Kiểm tra dữ liệu missing\n",
    "df_bicycle.isnull().sum()"
   ]
  },
  {
   "cell_type": "code",
   "execution_count": null,
   "metadata": {},
   "outputs": [],
   "source": [
    "#Liệt kê các thời điểm không có dữ liệu (Missing values)\n",
    "df_bicycle[df_bicycle.isnull().any(axis=1)]\n",
    "\n",
    "#hoặc\n",
    "#df_bicycle[pd.isnull(df_bicycle['Total'])]"
   ]
  },
  {
   "cell_type": "code",
   "execution_count": null,
   "metadata": {},
   "outputs": [],
   "source": [
    "# Đổi lại tên các cột cho ngắn gọn\n",
    "df_bicycle.columns = ['Date','Total', 'East', 'West']\n",
    "df_bicycle"
   ]
  },
  {
   "cell_type": "code",
   "execution_count": null,
   "metadata": {},
   "outputs": [],
   "source": [
    "df_bicycle.info()"
   ]
  },
  {
   "cell_type": "code",
   "execution_count": null,
   "metadata": {},
   "outputs": [],
   "source": [
    "#Chuyển đổi dữ liệu cột Date về dạng chuỗi thời gian\n",
    "df_bicycle['Date'] = pd.to_datetime(df_bicycle['Date'])\n",
    "df_bicycle.sort_values(['Date'],inplace=True)\n",
    "df_bicycle.reset_index(drop=True,inplace=True)\n",
    "df_bicycle.info()"
   ]
  },
  {
   "cell_type": "code",
   "execution_count": null,
   "metadata": {},
   "outputs": [],
   "source": [
    "df_bicycle.head()"
   ]
  },
  {
   "cell_type": "code",
   "execution_count": null,
   "metadata": {},
   "outputs": [],
   "source": [
    "df_bicycle.tail()"
   ]
  },
  {
   "cell_type": "code",
   "execution_count": null,
   "metadata": {},
   "outputs": [],
   "source": [
    "#Thiết lập cột Date làm index cho DataFrame\n",
    "\n",
    "df_bicycle.set_index('Date',inplace=True)\n",
    "df_bicycle.head()"
   ]
  },
  {
   "cell_type": "markdown",
   "metadata": {},
   "source": [
    "## 2) Khám phá tập dữ liệu\n",
    "---\n",
    "### A) Sử dụng các đặc trưng thống kê"
   ]
  },
  {
   "cell_type": "code",
   "execution_count": null,
   "metadata": {
    "scrolled": true
   },
   "outputs": [],
   "source": [
    "#Sử dụng sum tính tổng lượt người đi xe đạp\n",
    "df_bicycle.sum()"
   ]
  },
  {
   "cell_type": "code",
   "execution_count": null,
   "metadata": {},
   "outputs": [],
   "source": [
    "#Sử dụng describe để quan sát các thông số\n",
    "df_bicycle.describe()"
   ]
  },
  {
   "cell_type": "code",
   "execution_count": null,
   "metadata": {},
   "outputs": [],
   "source": [
    "#Thống kê số lượng xe đạp qua cầu phía West\n",
    "w = df_bicycle['Total'].value_counts()\n",
    "print(w[:30])"
   ]
  },
  {
   "cell_type": "code",
   "execution_count": null,
   "metadata": {},
   "outputs": [],
   "source": [
    "#Trực quan hóa số liệu thống kê\n",
    "plt.figure(figsize=(10,4)) \n",
    "plt.bar(w.index,w.values)\n",
    "plt.grid(True)\n",
    "plt.show()"
   ]
  },
  {
   "cell_type": "code",
   "execution_count": null,
   "metadata": {},
   "outputs": [],
   "source": [
    "#Thống kê số lượng xe đạp qua cầu phía West\n",
    "e = df_bicycle['East'].value_counts()\n",
    "print(e[:30])"
   ]
  },
  {
   "cell_type": "code",
   "execution_count": null,
   "metadata": {},
   "outputs": [],
   "source": [
    "#Trực quan hóa số liệu thống kê\n",
    "plt.bar(e.index,e.values)"
   ]
  },
  {
   "cell_type": "markdown",
   "metadata": {},
   "source": [
    "<img src='Pic/insight.png' width='200px' hight='300px' align='left'>\n",
    "\n",
    "Phát hiện 1:\n",
    "----\n",
    "1. Số lượng người đi xe đạp bên cầu phía West (8 344 494) cao hơn cầu phía East (6 997 333)\n",
    "2. Lượng người đi qua từng bên cầu cao nhất theo giờ 850 lượt, toàn bộ 1097 lượt\n",
    "3. Lượng người đi xe đạp qua cầu chủ yếu nhỏ dưới 30 lượt"
   ]
  },
  {
   "cell_type": "markdown",
   "metadata": {},
   "source": [
    "### B) Phương pháp Phân tích chuỗi thời gian\n",
    "---"
   ]
  },
  {
   "cell_type": "markdown",
   "metadata": {},
   "source": [
    "### 1) Thống kê tổng số lượng đi xe đạp theo năm để thấy xu hướng chung"
   ]
  },
  {
   "cell_type": "code",
   "execution_count": null,
   "metadata": {},
   "outputs": [],
   "source": [
    "df_bicycle.info()"
   ]
  },
  {
   "cell_type": "code",
   "execution_count": null,
   "metadata": {},
   "outputs": [],
   "source": [
    "df_bicycle.index"
   ]
  },
  {
   "cell_type": "code",
   "execution_count": null,
   "metadata": {},
   "outputs": [],
   "source": [
    "#Dữ liệu bắt đầu từ 3/10/2012 --> 31/08/2020 \n",
    "#Tách dữ liệu chỉ lấy từ năm 2013 - 2019 cho đầy đủ dữ liệu\n",
    "df_full_year = df_bicycle.loc['2013':'2020']\n",
    "df_full_year.info()"
   ]
  },
  {
   "cell_type": "code",
   "execution_count": null,
   "metadata": {},
   "outputs": [],
   "source": [
    "#Tổng hợp số liệu chuỗi thời gian theo từng năm\n",
    "#Tính tổng số lượt qua cầu theo năm\n",
    "yearly = df_full_year.resample('Y').sum() #Tính tổng theo năm\n",
    "yearly"
   ]
  },
  {
   "cell_type": "code",
   "execution_count": null,
   "metadata": {},
   "outputs": [],
   "source": [
    "#Trực quan hóa trên biểu đồ\n",
    "\n",
    "yearly.plot(kind='line',style=[':*', '--o', '-s'], color=['red','green','blue'],figsize=(8,5))\n",
    "plt.ylabel('Tổng số lượt qua cầu')\n",
    "plt.xlabel('Năm')\n",
    "plt.title('ĐỒ THỊ THỐNG KÊ SỐ LƯỢNG THEO NĂM')\n",
    "plt.grid(True)"
   ]
  },
  {
   "cell_type": "markdown",
   "metadata": {},
   "source": [
    "<img src='Pic/insight.png' width='300px' hight='300px' align='left'>\n",
    "\n",
    "Phát hiện 2:Từ biểu đồ thống kê tổng số xe đạp qua cầu theo năm ta thấy:\n",
    "---\n",
    "* Số lượng người đi xe đạp qua cầu Fremont có xu hướng tăng lên theo từng năm, những năm 2018, 2019 tăng nhanh. Năm 2020 sụt giảm nghiêm trọng --> Bất thường: Dịch bệnh Covid 19 -->Hạn chế đi lại....\n",
    "* Lượt xe đạp qua lối đi phía tây nhiều hơn lối đi phía đông, và cũng có xu hướng tăng nhanh trong những năng gần đây."
   ]
  },
  {
   "cell_type": "markdown",
   "metadata": {},
   "source": [
    "## 2) Thống kê số lượng người đi xe đạp theo tháng để thấy xu hướng mùa vụ\n",
    "---"
   ]
  },
  {
   "cell_type": "code",
   "execution_count": null,
   "metadata": {},
   "outputs": [],
   "source": [
    "#Thống kê số lượng xe theo tháng qua phía Đông, Tây và Toàn bộ\n",
    "data_month = df_bicycle.resample('M').sum() #Tính tổng lượt đi theo tháng\n",
    "data_month.plot(style=['-', '-', '-'], color=['red','green','blue'],figsize=(8,5))\n",
    "plt.ylabel('Số lượng xe đạp theo tháng');\n",
    "plt.grid(True)\n",
    "plt.show()\n"
   ]
  },
  {
   "cell_type": "code",
   "execution_count": null,
   "metadata": {},
   "outputs": [],
   "source": [
    "#Hiển thị chi tiết dữ liệu theo tháng của một năm cụ thể [2019].\n",
    "data_2019 = df_bicycle.loc['2019',['Total']]\n",
    "df_month_19 = data_2019.resample('M').sum() #Tính tổng theo tháng\n",
    "df_month_19.plot(marker='o', markersize='10', color='red',figsize=(8,5))\n",
    "plt.ylabel('Tổng số lượng xe theo từng tháng')\n",
    "plt.title('THỐNG KÊ TỔNG SỐ LƯỢT XE ĐẠP THEO TỪNG THÁNG TRONG NĂM 2019',loc='center')\n",
    "plt.grid(True)\n",
    "plt.show()"
   ]
  },
  {
   "cell_type": "markdown",
   "metadata": {},
   "source": [
    "<img src='Pic/insight.png' width='200px' hight='300px' align='left'>\n",
    "\n",
    "Phát hiện 3: Từ biểu đồ thể hiện lượng xe đạp qua cầu theo tháng ta thấy:\n",
    "---\n",
    "* Dữ liệu chuỗi thời gian có tính thời vụ (seasonal)\n",
    "* Mọi người đạp xe nhiều hơn vào các tháng mùa hè và ít hơn vào các tháng mùa đông (4 tháng có số lượng người đạp xe nhiều nhất:5, 6, 7 và 8)\n",
    "\n",
    "--> **Dữ liệu chuỗi thời gian về lượng xe đạp qua cầu có tính xu hướng (tăng dần) và tính thời vụ (số lượng nhiều hơn vào các tháng mùa hè và ít hơn vào các tháng mùa đông)**"
   ]
  },
  {
   "cell_type": "markdown",
   "metadata": {},
   "source": [
    "## 3) Thống kê lượng đi xe đạp theo giờ\n",
    "---"
   ]
  },
  {
   "cell_type": "code",
   "execution_count": null,
   "metadata": {},
   "outputs": [],
   "source": [
    "#Tính trung bình lượng xe theo từng giờ qua cầu trong toàn bộ tập dữ liệu\n",
    "by_time = df_bicycle.groupby(df_bicycle.index.time).mean()\n",
    "by_time"
   ]
  },
  {
   "cell_type": "code",
   "execution_count": null,
   "metadata": {},
   "outputs": [],
   "source": [
    "#Trực quan hóa dữ liệu:\n",
    "hourly_ticks = 2 * 60 * 60 * np.arange(12)\n",
    "by_time.plot(xticks=hourly_ticks, style=[':*', '--s', '-o'],figsize=(12,5))\n",
    "plt.grid()\n",
    "plt.xlabel('Thời gian (h)')\n",
    "plt.ylabel('Trung bình số xe qua cầu theo giờ')\n",
    "plt.title('BIỂU ĐỒ THỂ HIỆN LƯỢNG XE TRUNG BÌNH QUA CẦU THEO TỪNG GIỜ',loc='center')\n",
    "plt.show()"
   ]
  },
  {
   "cell_type": "markdown",
   "metadata": {},
   "source": [
    "<img src='Pic/insight.png' width='200px' hight='300px' align='left'>\n",
    "\n",
    "Phát hiện 4: Từ biểu đồ thể hiện lượng xe đạp qua cầu trung bình theo giờ ta thấy:\n",
    "---\n",
    "* Lượng người đi xe đạp qua cầu chủ yếu tập trung vào thời điểm 7,8,9h buổi sáng | 16, 17, 18h buổi chiều\n",
    "* Lượng người đi nhiều nhất vào thời điểm 8(h) sáng - 17h chiều.\n",
    "* Thời điểm buổi sáng lượng người đi qua cầu làn phía Đông (East) Lớn hơn làn phía Tây (Đi từ bên ngoài bào trung tâm thành phố Seattle) | Buổi chiều lượng người đi qua cầu làn phía Tây (West) lơn hơn (đi ra khỏi trung tâm thành phố). "
   ]
  },
  {
   "cell_type": "markdown",
   "metadata": {},
   "source": [
    "## 4) Thống kê lượng xe trung bình theo ngày trong tuần\n",
    "---"
   ]
  },
  {
   "cell_type": "code",
   "execution_count": null,
   "metadata": {},
   "outputs": [],
   "source": [
    "#Nhóm dữ liệu theo ngày trong tuần và tính trung bình\n",
    "df_weekday = df_bicycle.groupby(df_bicycle.index.dayofweek).mean()\n",
    "#Đổi tên index theo ngày dễ quan sát\n",
    "df_weekday.index = ['Mon', 'Tues', 'Wed', 'Thurs', 'Fri', 'Sat', 'Sun']\n",
    "df_weekday"
   ]
  },
  {
   "cell_type": "code",
   "execution_count": null,
   "metadata": {},
   "outputs": [],
   "source": [
    "#Trực quan hóa dữ liệu lên đồ thị\n",
    "#stick =['Mon', 'Tues', 'Wed', 'Thurs', 'Fri', 'Sat', 'Sun']\n",
    "df_weekday.plot(style=[':*', '--s', '-o'],figsize=(10,5));\n",
    "plt.grid()\n",
    "plt.xlabel('Thứ trong tuần')\n",
    "plt.ylabel('Trung bình theo ngày trong tuần')\n",
    "plt.title('LƯỢNG XE TRUNG BÌNH QUA CẦU THEO TỪNG NGÀY TRONG TUẦN',loc='center')\n",
    "plt.show()"
   ]
  },
  {
   "cell_type": "code",
   "execution_count": null,
   "metadata": {},
   "outputs": [],
   "source": [
    "#Thực hiện thống kê số lượng người đi xe đạp qua cầu\n",
    "#Tách giữa ngày làm việc [thứ 2 - thứ 5] và ngày cuối tuần [thứ 7, CN]\n",
    "df_weekend = np.where(df_bicycle.index.weekday < 5, 'Weekday', 'Weekend')\n",
    "#Tính lượng người đi qua trung bình theo giờ giữa các ngày trong tuần và cuối tuần\n",
    "df_by_time = df_bicycle.groupby([df_weekend, df_bicycle.index.time]).mean()\n",
    "df_by_time"
   ]
  },
  {
   "cell_type": "code",
   "execution_count": null,
   "metadata": {},
   "outputs": [],
   "source": [
    "#Trực quan hóa dữ liệu\n",
    "fig, ax = plt.subplots(1, 2, figsize=(14, 4))\n",
    "df_by_time.loc['Weekday'].plot(ax=ax[0], title='Ngày làm việc[từ Thứ 2-6]',\n",
    "                           xticks=hourly_ticks, style=[':*', '--s', '-o'], grid=True, rot=45)\n",
    "df_by_time.loc['Weekend'].plot(ax=ax[1], title='Ngày cuối tuần [Thứ 7, CN]',\n",
    "                           xticks=hourly_ticks, style=[':*', '--s', '-o'], grid=True,rot=45);"
   ]
  },
  {
   "cell_type": "markdown",
   "metadata": {},
   "source": [
    "<img src='Pic/insight.png' width='200px' hight='300px' align='left'>\n",
    "\n",
    "Phát hiện 5: Từ biểu đồ thể hiện lượng xe đạp qua cầu trung bình theo ngày trong tuần:\n",
    "---\n",
    "* Lượng người đi xe đạp qua cầu chủ yếu vào các ngày làm việc trong tuần [thứ 2 --> thứ 6]; Cuối tuần [Thứ 7, CN] lượng người đi qua cầu giảm đi đáng kể. Lượng người đi qua cầu ngày làm việc gấp đôi ngày cuối tuần.\n",
    "* Vào các ngày làm việc trong tuần lượng người đi xe đạp qua cầu chủ yếu tập trung vào thời điểm 7,8,9h buổi sáng | 16, 17, 18h buổi chiều. Lượng người đi nhiều nhất vào thời điểm 8(h) sáng - 17h chiều.\n",
    "* Vào các ngày cuối tuần, người đi xe đạp chủ yếu qua cầu trong thời gian từ 12-16h"
   ]
  },
  {
   "cell_type": "markdown",
   "metadata": {},
   "source": [
    "<img src='Pic/action.jpg'>"
   ]
  },
  {
   "cell_type": "markdown",
   "metadata": {},
   "source": [
    "## THỰC HÀNH SỐ 3\n",
    "---\n",
    "Dựa vào dữ liệu chuỗi thời gian quan trắc thông số nhiệt độ của Hà Giang và Cà Mau từ năm 2012 đến 2019 (Data_Temperature.csv), sử dụng các kỹ thuật để tìm ra những thông tin từ 2 bộ dữ liệu đó."
   ]
  },
  {
   "cell_type": "code",
   "execution_count": null,
   "metadata": {},
   "outputs": [],
   "source": []
  }
 ],
 "metadata": {
  "kernelspec": {
   "display_name": "Python 3",
   "language": "python",
   "name": "python3"
  },
  "language_info": {
   "codemirror_mode": {
    "name": "ipython",
    "version": 3
   },
   "file_extension": ".py",
   "mimetype": "text/x-python",
   "name": "python",
   "nbconvert_exporter": "python",
   "pygments_lexer": "ipython3",
   "version": "3.8.8"
  }
 },
 "nbformat": 4,
 "nbformat_minor": 2
}
