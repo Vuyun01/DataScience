{
 "cells": [
  {
   "cell_type": "markdown",
   "metadata": {
    "colab_type": "text",
    "id": "wDtyCjZ4yc-W"
   },
   "source": [
    "<img src ='pic/Logo_CNTT_png.png' width='100px'>\n",
    "\n",
    "## CHƯƠNG 04: MỘT SỐ THƯ VIỆN QUAN TRỌNG TRONG KHOA HỌC DỮ LIỆU - PHẦN 1\n",
    "---\n",
    "* Giảng Viên: Đặng Văn Nam\n",
    "* Email: dangvannam@humg.edu.vn\n",
    "\n",
    "**NỘI DUNG BÀI HỌC**\n",
    "1. **Giới thiệu một số thư viện Python trong KHDL và thư viện Numpy**\n",
    "2. **Cách tạo vector, ma trận (matrix)**\n",
    "    * Tạo mảng 1D, 2D, 3D \n",
    "    * Tạo mảng với các hàm có sẵn \n",
    "    * Tạo mảng từ file dữ liệu\n",
    "3. **Thao tác cơ bản với mảng**\n",
    "    * Quan sát thuộc tính mảng | Chuyển đổi kiểu dữ liệu | Truy cập phần tử\n",
    "4. **Tính toán các đặc trưng thống kê trong mảng**\n",
    "    * Min, Max, Sum\n",
    "    * Mean, Median, Mode, Range\n",
    "    * Std\n",
    "    * Corrcoef"
   ]
  },
  {
   "cell_type": "markdown",
   "metadata": {
    "colab_type": "text",
    "id": "eHSVABSx6gXT"
   },
   "source": [
    "## I) CHUẨN BỊ CÁC THƯ VIỆN SỬ DỤNG"
   ]
  },
  {
   "cell_type": "markdown",
   "metadata": {
    "colab_type": "text",
    "id": "Amb6RsJJ4UtD"
   },
   "source": [
    "### 1) Kiểm tra các thư viện xem đã cài đặt hay chưa và phiên bản bao nhiêu?"
   ]
  },
  {
   "cell_type": "code",
   "execution_count": null,
   "metadata": {
    "colab": {
     "base_uri": "https://localhost:8080/",
     "height": 34
    },
    "colab_type": "code",
    "id": "_XnBt7NKyG7d",
    "outputId": "f3341a80-d91e-4939-93b2-5996ca159000"
   },
   "outputs": [],
   "source": [
    "#Kiểm tra phiên bản thư viện Numpy\n",
    "#import thư viện numpy để sử dụng\n",
    "import numpy as np \n",
    "\n",
    "print(\"Thư viện Numpy: Version: \", np.__version__)"
   ]
  },
  {
   "cell_type": "markdown",
   "metadata": {},
   "source": [
    "Học viên viết code kiểm tra phiên bản thư viện:\n",
    "* pandas (pd)\n",
    "* matplotlib (plt)\n",
    "* sklearn (sk)"
   ]
  },
  {
   "cell_type": "code",
   "execution_count": null,
   "metadata": {
    "colab": {},
    "colab_type": "code",
    "id": "kDsya1qx6NYG"
   },
   "outputs": [],
   "source": [
    "# {VIẾT CODE Ở ĐÂY}\n",
    "import numpy as np\n",
    "print(\"Thư viện Numpy: Version: \", np.__version__)\n",
    "\n",
    "import pandas as pd\n",
    "print(\"Pandas: \",pd.__version__)\n",
    "\n",
    "import matplotlib as plt\n",
    "print(\"Matplotlib: \",plt.__version__)\n",
    "\n",
    "import sklearn as sk\n",
    "print(\"Sklearn: \",sk.__version__)\n"
   ]
  },
  {
   "cell_type": "code",
   "execution_count": null,
   "metadata": {},
   "outputs": [],
   "source": [
    "import numpy as np\n",
    "dir(np)"
   ]
  },
  {
   "cell_type": "markdown",
   "metadata": {
    "colab_type": "text",
    "id": "XM0y2qpb4I0V"
   },
   "source": [
    "### 2) Cài đặt, cập nhật thư viện sử dụng lệnh\n",
    "\n",
    "Để cài đặt một thư viện mới sử dụng lệnh:\n",
    "\n",
    "**!pip install <tên thư viện>**  \n",
    "\n",
    "hoặc :\n",
    "\n",
    "**!apt-get install <tên thư viện>**\n",
    "\n",
    "---\n",
    "Để cập nhật một thư viện lên phiên bản cao hơn sử dụng lệnh:\n",
    "\n",
    "**!pip install --user <tên thư viện> --upgrade**"
   ]
  },
  {
   "cell_type": "code",
   "execution_count": null,
   "metadata": {
    "colab": {},
    "colab_type": "code",
    "id": "smBaGLdh3X7B"
   },
   "outputs": [],
   "source": [
    "#Thư viện chưa được cài đặt:\n",
    "import scrapy as sc\n",
    "print(\"Thu vien Scrapy, Version: \",sc.__version__)"
   ]
  },
  {
   "cell_type": "code",
   "execution_count": null,
   "metadata": {
    "colab": {},
    "colab_type": "code",
    "id": "NQPzi0b13h3v"
   },
   "outputs": [],
   "source": [
    "#Cài đặt thư viện scrapy vào hệ thống:\n",
    "!pip install --user <tên thư viện>"
   ]
  },
  {
   "cell_type": "code",
   "execution_count": null,
   "metadata": {},
   "outputs": [],
   "source": [
    "!pip install opencv-python"
   ]
  },
  {
   "cell_type": "code",
   "execution_count": null,
   "metadata": {},
   "outputs": [],
   "source": [
    "#Update thư viện\n",
    "\n",
    "!pip install --user numpy --upgrade"
   ]
  },
  {
   "cell_type": "markdown",
   "metadata": {
    "colab_type": "text",
    "id": "TF7j-maO6XfF"
   },
   "source": [
    "## II) LÀM VIỆC VỚI THƯ VIỆN NUMPY"
   ]
  },
  {
   "cell_type": "markdown",
   "metadata": {
    "colab_type": "text",
    "id": "ksVfGFNt6zzJ"
   },
   "source": [
    "### II.1) KHỞI TẠO MẢNG VỚI NUMPY\n",
    "---"
   ]
  },
  {
   "cell_type": "markdown",
   "metadata": {},
   "source": [
    "### II.1.1 Khởi tạo mảng 1D, 2D, 3D\n",
    "---\n",
    "#### a) Mảng 1 chiều (1D)"
   ]
  },
  {
   "cell_type": "code",
   "execution_count": 17,
   "metadata": {},
   "outputs": [
    {
     "name": "stdout",
     "output_type": "stream",
     "text": [
      "[ 1.   2.   5.5  7.   0.   8.  12.  20.   8.  23. ]\n",
      "Loại dữ liệu của biến a: <class 'numpy.ndarray'>\n",
      "Kiểu dữ liệu của phần tử trong mảng a: float64\n",
      "Kích thước của mảng a: (10,)\n",
      "Số phần tử của mảng a: 10\n",
      "Số chiều của mảng a: 1\n"
     ]
    }
   ],
   "source": [
    "#Khởi tạo mảng 1 chiều với thư viên Numpy\n",
    "import numpy as np\n",
    "\n",
    "#Tạo mảng 1 chiều (1D) - row\n",
    "a = np.array([1, 2, 5.5, 7, 0, 8, 12, 20, 8,b])\n",
    "print(a)\n",
    "print(\"Loại dữ liệu của biến a:\", type(a))\n",
    "print(\"Kiểu dữ liệu của phần tử trong mảng a:\", a.dtype)\n",
    "print(\"Kích thước của mảng a:\", a.shape)\n",
    "print(\"Số phần tử của mảng a:\", a.size)\n",
    "print(\"Số chiều của mảng a:\", a.ndim)"
   ]
  },
  {
   "cell_type": "code",
   "execution_count": 11,
   "metadata": {},
   "outputs": [
    {
     "name": "stdout",
     "output_type": "stream",
     "text": [
      "<class 'float'>\n"
     ]
    }
   ],
   "source": [
    "#Danh sách\n",
    "ds = [1, 2.5, '5', 7, 0, 8, 12, 20, -1]\n",
    "print(type(ds[1]))"
   ]
  },
  {
   "cell_type": "code",
   "execution_count": 18,
   "metadata": {},
   "outputs": [
    {
     "name": "stdout",
     "output_type": "stream",
     "text": [
      "Danh sách list_a: [7, 6, 5.5, 7, 12, 1]\n",
      "<class 'list'>\n",
      "------------------------------------\n",
      "Mảng array_a: [ 7.   6.   5.5  7.  12.   1. ]\n",
      "Loại dữ liệu của biến array_a: <class 'numpy.ndarray'>\n",
      "Kiểu dữ liệu của phần tử trong mảng array_a: float64\n",
      "Kích thước của mảng array_a: (6,)\n",
      "Số phần tử của mảng array_a: 6\n",
      "Số chiều của mảng array_a: 1\n"
     ]
    }
   ],
   "source": [
    "import numpy as np\n",
    "#Chuyển đổi từ biến kiểu list sang biến mảng\n",
    "list_a = [7, 6, 5.5, 7, 12, 1]\n",
    "print(\"Danh sách list_a:\", list_a)\n",
    "print(type(list_a))\n",
    "\n",
    "print('------------------------------------')\n",
    "#chuyển sang kiểu array\n",
    "array_a = np.array(list_a)\n",
    "\n",
    "print(\"Mảng array_a:\", array_a)\n",
    "print(\"Loại dữ liệu của biến array_a:\", type(array_a))\n",
    "print(\"Kiểu dữ liệu của phần tử trong mảng array_a:\", array_a.dtype)\n",
    "print(\"Kích thước của mảng array_a:\", array_a.shape)\n",
    "print(\"Số phần tử của mảng array_a:\", array_a.size)\n",
    "print(\"Số chiều của mảng array_a:\", array_a.ndim)"
   ]
  },
  {
   "cell_type": "code",
   "execution_count": null,
   "metadata": {},
   "outputs": [],
   "source": [
    "import numpy as np\n",
    "cannang = np.array([65,54,78,56,60,10])\n",
    "#1 chieu\n",
    "print(cannang)\n",
    "print(cannang.size)\n",
    "print(cannang.dtype)\n"
   ]
  },
  {
   "cell_type": "markdown",
   "metadata": {},
   "source": [
    "#### b) Mảng 2 chiều (2D - Ma trận)"
   ]
  },
  {
   "cell_type": "code",
   "execution_count": null,
   "metadata": {},
   "outputs": [],
   "source": [
    "#Gọi thư viện numpy\n",
    "import numpy as np\n",
    "\n",
    "#Tạo mảng 2 chiều (2D - Ma trận)\n",
    "b = np.array([(4, 5, 6),\n",
    "              (1, 2, 3),\n",
    "              (7, 8, 10),\n",
    "              (11, 0, 8)])\n",
    "\n",
    "print(b)\n",
    "print(\"Loại dữ liệu của biến b:\", type(b))\n",
    "print(\"Kiểu dữ liệu của phần tử trong mảng b:\", b.dtype)\n",
    "print(\"Kích thước của mảng b:\", b.shape)\n",
    "print(\"Số phần tử của mảng b:\", b.size)\n",
    "print(\"Số chiều của mảng b:\", b.ndim)"
   ]
  },
  {
   "cell_type": "code",
   "execution_count": null,
   "metadata": {},
   "outputs": [],
   "source": [
    "import numpy as np\n",
    "#2 chieu\n",
    "mang_2c = np.array([(2021,2021,2021),\n",
    "                   (2021,2021,2021),\n",
    "                    (2021,2021,2021),\n",
    "                    (2021,2021,2021),\n",
    "                    (2021,2021,2021)])\n",
    "print(mang_2c)\n",
    "print(\"Loại dữ liệu của biến b:\", type(mang_2c))\n",
    "print(\"Kiểu dữ liệu của phần tử trong mảng b:\", mang_2c.dtype)\n",
    "print(\"Kích thước của mảng b:\", mang_2c.shape)\n",
    "print(\"Số phần tử của mảng b:\", mang_2c.size)\n",
    "print(\"Số chiều của mảng b:\", mang_2c.ndim)      "
   ]
  },
  {
   "cell_type": "code",
   "execution_count": null,
   "metadata": {},
   "outputs": [],
   "source": [
    "#Học viên Tạo 1 ma trận (5x3): các phần tử đều = 4\n",
    "import numpy as np\n",
    "\n",
    "mt_2c = np.array([(4,4,4),\n",
    "                   (4,4,4),\n",
    "                    (4,4,4),\n",
    "                     (4,4,4),\n",
    "                     (4,4,4)])\n",
    "print(mt_2c)\n",
    "print('Kieu du kieu mang: ', type(mt_2c))\n",
    "print('Kieu du kieu phan tu trong mang: ', mt_2c.dtype)\n",
    "print('Kich thuoc mang: ', mt_2c.shape)\n",
    "print('Kich co mang: ', mt_2c.size)\n",
    "print('Kieu mang: ', mt_2c.ndim)\n",
    "\n",
    "\n",
    "\n",
    "\n",
    "\n",
    "\n",
    "\n",
    "\n"
   ]
  },
  {
   "cell_type": "markdown",
   "metadata": {},
   "source": [
    "#### c) Mảng 3 chiều (3D)"
   ]
  },
  {
   "cell_type": "code",
   "execution_count": null,
   "metadata": {},
   "outputs": [],
   "source": [
    "#Gọi thư viện numpy\n",
    "import numpy as np\n",
    "\n",
    "#Tạo mảng 3 chiều (3D)\n",
    "c = np.array([[(2, 4, 0, 6),(4, 7, 5, 6)],\n",
    "             [(0, 3, 2, 1),(9, 4, 5, 6)],\n",
    "             [(5, 8, 6, 4),(1, 4, 6, 8)]])\n",
    "\n",
    "print(c)\n",
    "print(\"Loại dữ liệu của biến c:\", type(c))\n",
    "print(\"Kiểu dữ liệu của phần tử trong mảng c:\", c.dtype)\n",
    "print(\"Kích thước của mảng c:\", c.shape)\n",
    "print(\"Số phần tử của mảng c:\", c.size)\n",
    "print(\"Số chiều của mảng c:\", c.ndim)"
   ]
  },
  {
   "cell_type": "code",
   "execution_count": null,
   "metadata": {},
   "outputs": [],
   "source": [
    "import numpy as np\n",
    "\n",
    "m_3c = np.array([[(1,2,3,4),(1,1,7,2),(6,5,1,4)],\n",
    "                [(3,2,5,7),(4,5,7,9),(0,1,1,0)],\n",
    "                [(0,12,33,4),(81,11,17,4),(0,9,1,5)],\n",
    "                [(10,1,3,44),(1,51,27,41),(12,49,21,58)]])\n",
    "\n",
    "print(m_3c)\n",
    "print('Kieu du lieu mang: ', type(m_3c))\n",
    "print('Kieu du lieu phan tu trong mang: ', m_3c.dtype)\n",
    "print('Kich thuoc mang: ', m_3c.shape)\n",
    "print('So luong phan tu: ', m_3c.size)\n",
    "print('So chieu cua mang: ', m_3c.ndim)"
   ]
  },
  {
   "cell_type": "markdown",
   "metadata": {},
   "source": [
    "### II.1.2) Khởi tạo mảng với các hàm sẵn có của Numpy\n",
    "---"
   ]
  },
  {
   "cell_type": "code",
   "execution_count": 45,
   "metadata": {},
   "outputs": [
    {
     "name": "stdout",
     "output_type": "stream",
     "text": [
      "[[0. 0. 0.]\n",
      " [0. 0. 0.]\n",
      " [0. 0. 0.]\n",
      " [0. 0. 0.]\n",
      " [0. 0. 0.]]\n",
      "Kiểu dữ liệu trong mảng array_zeros: float64\n",
      "Kích thước của mảng array_zeros: (5, 3)\n",
      "Số phần tử của mảng array_zeros: 15\n",
      "Số chiều của mảng array_zeros: 2\n"
     ]
    }
   ],
   "source": [
    "# 1) Phương thức zeros: Tạo ma trận 0 kích thước 5 hàng x 3 cột\n",
    "import numpy as np\n",
    "\n",
    "array_zeros = np.zeros((5,3))\n",
    "print(array_zeros)\n",
    "print(\"Kiểu dữ liệu trong mảng array_zeros:\", array_zeros.dtype)\n",
    "print(\"Kích thước của mảng array_zeros:\", array_zeros.shape)\n",
    "print(\"Số phần tử của mảng array_zeros:\", array_zeros.size)\n",
    "print(\"Số chiều của mảng array_zeros:\", array_zeros.ndim)"
   ]
  },
  {
   "cell_type": "code",
   "execution_count": 1,
   "metadata": {},
   "outputs": [
    {
     "ename": "NameError",
     "evalue": "name 'np' is not defined",
     "output_type": "error",
     "traceback": [
      "\u001b[1;31m---------------------------------------------------------------------------\u001b[0m",
      "\u001b[1;31mNameError\u001b[0m                                 Traceback (most recent call last)",
      "\u001b[1;32m<ipython-input-1-1fc395d7aba0>\u001b[0m in \u001b[0;36m<module>\u001b[1;34m\u001b[0m\n\u001b[0;32m      2\u001b[0m \u001b[1;31m#Mặc định kiểu dữ liệu các phần tử là float\u001b[0m\u001b[1;33m\u001b[0m\u001b[1;33m\u001b[0m\u001b[1;33m\u001b[0m\u001b[0m\n\u001b[0;32m      3\u001b[0m \u001b[1;33m\u001b[0m\u001b[0m\n\u001b[1;32m----> 4\u001b[1;33m \u001b[0mvector_zeros\u001b[0m \u001b[1;33m=\u001b[0m \u001b[0mnp\u001b[0m\u001b[1;33m.\u001b[0m\u001b[0mzeros\u001b[0m\u001b[1;33m(\u001b[0m\u001b[1;36m10\u001b[0m\u001b[1;33m,\u001b[0m\u001b[0mdtype\u001b[0m\u001b[1;33m=\u001b[0m\u001b[0mnp\u001b[0m\u001b[1;33m.\u001b[0m\u001b[0mint32\u001b[0m\u001b[1;33m)\u001b[0m\u001b[1;33m\u001b[0m\u001b[1;33m\u001b[0m\u001b[0m\n\u001b[0m\u001b[0;32m      5\u001b[0m \u001b[0mvector_zeros\u001b[0m\u001b[1;33m\u001b[0m\u001b[1;33m\u001b[0m\u001b[0m\n",
      "\u001b[1;31mNameError\u001b[0m: name 'np' is not defined"
     ]
    }
   ],
   "source": [
    "#Thuộc tính dtype xác định kiểu dữ liệu của phần tử muốn tạo\n",
    "#Mặc định kiểu dữ liệu các phần tử là float\n",
    "\n",
    "vector_zeros = np.zeros(10,dtype=np.int32)\n",
    "vector_zeros"
   ]
  },
  {
   "cell_type": "code",
   "execution_count": null,
   "metadata": {},
   "outputs": [],
   "source": [
    "# 2) Phương thức ones: Tạo ma trận 1 kích thước 3 hàng x 5 cột\n",
    "import numpy as np\n",
    "\n",
    "array_one = np.ones((3, 5),dtype=np.int8)\n",
    "\n",
    "print(array_one)\n",
    "print(\"Kiểu dữ liệu trong mảng array_one:\", array_one.dtype)\n",
    "print(\"Kích thước của mảng array_one:\", array_one.shape)\n",
    "print(\"Số phần tử của mảng array_one:\", array_one.size)\n",
    "print(\"Số chiều của mảng array_one:\", array_one.ndim)"
   ]
  },
  {
   "cell_type": "code",
   "execution_count": 46,
   "metadata": {},
   "outputs": [
    {
     "name": "stdout",
     "output_type": "stream",
     "text": [
      "[[1. 0. 0. 0. 0.]\n",
      " [0. 1. 0. 0. 0.]\n",
      " [0. 0. 1. 0. 0.]\n",
      " [0. 0. 0. 1. 0.]\n",
      " [0. 0. 0. 0. 1.]]\n",
      "Kiểu dữ liệu của phần tử trong mảng array_eye: float64\n",
      "Kích thước của mảng array_eye: (5, 5)\n",
      "Số phần tử của mảng array_eye: 25\n",
      "Số chiều của mảng array_eye: 2\n"
     ]
    }
   ],
   "source": [
    "# 3) Phương thức eye: Tạo ma trận đơn vị cấp 5\n",
    "import numpy as np\n",
    "array_eye = np.eye(5)\n",
    "\n",
    "print(array_eye)\n",
    "print(\"Kiểu dữ liệu của phần tử trong mảng array_eye:\", array_eye.dtype)\n",
    "print(\"Kích thước của mảng array_eye:\", array_eye.shape)\n",
    "print(\"Số phần tử của mảng array_eye:\", array_eye.size)\n",
    "print(\"Số chiều của mảng array_eye:\", array_eye.ndim)"
   ]
  },
  {
   "cell_type": "code",
   "execution_count": 2,
   "metadata": {},
   "outputs": [
    {
     "name": "stdout",
     "output_type": "stream",
     "text": [
      "[[[0 0 0 0]\n",
      "  [0 0 0 0]\n",
      "  [0 0 0 0]]\n",
      "\n",
      " [[0 0 0 0]\n",
      "  [0 0 0 0]\n",
      "  [0 0 0 0]]]\n",
      "Kieu du lieu mang:  <class 'numpy.ndarray'>\n",
      "Kieu du lieu phan tu:  int32\n",
      "Kich thuoc:  (2, 3, 4)\n",
      "So luong phan tu:  24\n",
      "So chieu:  3\n"
     ]
    }
   ],
   "source": [
    "#BAI NAY TEST\n",
    "import numpy as np\n",
    "\n",
    "a_test = np.zeros((2,3,4), np.int32)\n",
    "\n",
    "print(a_test)\n",
    "print('Kieu du lieu mang: ', type(a_test))\n",
    "print('Kieu du lieu phan tu: ', a_test.dtype)\n",
    "print('Kich thuoc: ',a_test.shape )\n",
    "print('So luong phan tu: ', a_test.size)\n",
    "print('So chieu: ', a_test.ndim)\n"
   ]
  },
  {
   "cell_type": "code",
   "execution_count": null,
   "metadata": {},
   "outputs": [],
   "source": [
    "#BAI NAY TEST\n",
    "import numpy as np\n",
    "\n",
    "a_test = np.ones((2,3,4), np.int32)\n",
    "\n",
    "print(a_test)\n",
    "print('Kieu du lieu mang: ', type(a_test))\n",
    "print('Kieu du lieu phan tu: ', a_test.dtype)\n",
    "print('Kich thuoc: ',a_test.shape )\n",
    "print('So luong phan tu: ', a_test.size)\n",
    "print('So chieu: ', a_test.ndim)\n"
   ]
  },
  {
   "cell_type": "code",
   "execution_count": null,
   "metadata": {},
   "outputs": [],
   "source": [
    "#4) Phương thức random: Tạo một ma trận (7x5) các phần tử ngẫu nhiên [0,1]\n",
    "import numpy as np\n",
    "array_random = np.random.random((7,5))\n",
    "\n",
    "print(array_random)\n",
    "print(\"Kiểu dữ liệu của phần tử trong mảng array_random:\", array_random.dtype)\n",
    "print(\"Kích thước của mảng array_random:\", array_random.shape)\n",
    "print(\"Số phần tử của mảng array_random:\", array_random.size)\n",
    "print(\"Số chiều của mảng array_random:\", array_random.ndim)"
   ]
  },
  {
   "cell_type": "code",
   "execution_count": 1,
   "metadata": {},
   "outputs": [
    {
     "name": "stdout",
     "output_type": "stream",
     "text": [
      "[[0.41817144 0.47460842 0.91324709 0.8589301 ]\n",
      " [0.41791083 0.22619405 0.91772498 0.16855112]\n",
      " [0.28740258 0.87441988 0.3411582  0.07217727]\n",
      " [0.88163433 0.96064296 0.07013657 0.93483846]]\n"
     ]
    }
   ],
   "source": [
    "#BAI NAY TEST\n",
    "\n",
    "import numpy as np\n",
    "\n",
    "arr_rand = np.random.random((4,4))\n",
    "print(arr_rand)"
   ]
  },
  {
   "cell_type": "code",
   "execution_count": 47,
   "metadata": {},
   "outputs": [
    {
     "name": "stdout",
     "output_type": "stream",
     "text": [
      "[101 110 120 111 122 128 122 108 117 114 122 121 121 111 119 100]\n"
     ]
    }
   ],
   "source": [
    "#5) Phương thức randint:\n",
    "#Tạo một vector các phần tử là số nguyên ngẫu nhiên trong khoảng [low,hight)\n",
    "import numpy as np\n",
    "vector_a = np.random.randint(100, 130,16)\n",
    "print(vector_a)"
   ]
  },
  {
   "cell_type": "code",
   "execution_count": null,
   "metadata": {},
   "outputs": [],
   "source": [
    "# BAI NAY TEST\n",
    "\n",
    "import numpy as np\n",
    "\n",
    "arr_test = np.random.randint(10,100,20) #(low, hight, size)\n",
    "print(arr_test)"
   ]
  },
  {
   "cell_type": "code",
   "execution_count": null,
   "metadata": {},
   "outputs": [],
   "source": [
    "#Tạo một ma trận (3,5) các phần tử là số nguyên ngẫu nhiên\n",
    "import numpy as np\n",
    "array_a = np.random.randint(10, 30,(3,5))\n",
    "print(array_a)"
   ]
  },
  {
   "cell_type": "code",
   "execution_count": null,
   "metadata": {},
   "outputs": [],
   "source": [
    "# BAI NAY TEST\n",
    "\n",
    "import numpy as np\n",
    "\n",
    "arr_test = np.random.randint(10,100,(3,4))\n",
    "print(arr_test)"
   ]
  },
  {
   "cell_type": "code",
   "execution_count": null,
   "metadata": {},
   "outputs": [],
   "source": [
    "#6) Phương thức arange(a, b, steps): \n",
    "#Tạo vector:\n",
    "# Phần tử đầu tiên = a (=0), \n",
    "# kết thúc <b, \n",
    "# mỗi phần tử cách nhau một khoảng = steps (=1)\n",
    "d = np.arange(3,20,2)\n",
    "print('Vector d:', d)\n",
    "print(\"Số phần tử của vector d:\", d.size)"
   ]
  },
  {
   "cell_type": "code",
   "execution_count": 2,
   "metadata": {},
   "outputs": [
    {
     "name": "stdout",
     "output_type": "stream",
     "text": [
      "Vector:  [ 1  4  7 10 13 16 19 22 25 28]\n",
      "So phan tu:  10\n"
     ]
    }
   ],
   "source": [
    "# BAI NAY TEST\n",
    "\n",
    "import numpy as np\n",
    "\n",
    "arr_test = np.arange(1,30,3)\n",
    "print('Vector: ',arr_test)\n",
    "print('So phan tu: ', arr_test.size)"
   ]
  },
  {
   "cell_type": "code",
   "execution_count": 38,
   "metadata": {},
   "outputs": [
    {
     "name": "stdout",
     "output_type": "stream",
     "text": [
      "Vector f: [ 1.          1.48275862  1.96551724  2.44827586  2.93103448  3.4137931\n",
      "  3.89655172  4.37931034  4.86206897  5.34482759  5.82758621  6.31034483\n",
      "  6.79310345  7.27586207  7.75862069  8.24137931  8.72413793  9.20689655\n",
      "  9.68965517 10.17241379 10.65517241 11.13793103 11.62068966 12.10344828\n",
      " 12.5862069  13.06896552 13.55172414 14.03448276 14.51724138 15.        ]\n",
      "Số phần tử của vector f: 30\n"
     ]
    }
   ],
   "source": [
    "\n",
    "#7) Phương thức linspace(a, b, num)\n",
    "#Tạo vector:\n",
    "#Phần tử đầu tiên  = a, \n",
    "#Phần tử kết thúc  = b, \n",
    "#Số phần tử của ma trận = num\n",
    "f = np.linspace(1,15,30)\n",
    "print('Vector f:', f)\n",
    "print(\"Số phần tử của vector f:\", f.size)"
   ]
  },
  {
   "cell_type": "code",
   "execution_count": null,
   "metadata": {},
   "outputs": [],
   "source": [
    "# 8) Create a 3x5 array filled with 3.14\n",
    "import math\n",
    "np.full((3, 5),math.pi)"
   ]
  },
  {
   "cell_type": "code",
   "execution_count": 2,
   "metadata": {},
   "outputs": [
    {
     "data": {
      "text/plain": [
       "array([[['Vu', 'Vu', 'Vu', 'Vu', 'Vu', 'Vu'],\n",
       "        ['Vu', 'Vu', 'Vu', 'Vu', 'Vu', 'Vu'],\n",
       "        ['Vu', 'Vu', 'Vu', 'Vu', 'Vu', 'Vu'],\n",
       "        ['Vu', 'Vu', 'Vu', 'Vu', 'Vu', 'Vu']],\n",
       "\n",
       "       [['Vu', 'Vu', 'Vu', 'Vu', 'Vu', 'Vu'],\n",
       "        ['Vu', 'Vu', 'Vu', 'Vu', 'Vu', 'Vu'],\n",
       "        ['Vu', 'Vu', 'Vu', 'Vu', 'Vu', 'Vu'],\n",
       "        ['Vu', 'Vu', 'Vu', 'Vu', 'Vu', 'Vu']]], dtype='<U2')"
      ]
     },
     "execution_count": 2,
     "metadata": {},
     "output_type": "execute_result"
    }
   ],
   "source": [
    "np.full((2,4,6),'Vu')"
   ]
  },
  {
   "cell_type": "code",
   "execution_count": 48,
   "metadata": {},
   "outputs": [
    {
     "data": {
      "text/plain": [
       "array([[2021, 2021, 2021, 2021, 2021],\n",
       "       [2021, 2021, 2021, 2021, 2021],\n",
       "       [2021, 2021, 2021, 2021, 2021],\n",
       "       [2021, 2021, 2021, 2021, 2021],\n",
       "       [2021, 2021, 2021, 2021, 2021]])"
      ]
     },
     "execution_count": 48,
     "metadata": {},
     "output_type": "execute_result"
    }
   ],
   "source": [
    "np.full((5, 5),2021)"
   ]
  },
  {
   "cell_type": "markdown",
   "metadata": {},
   "source": [
    "### II.1.3) Đọc dữ liệu lưu trữ từ file .txt vào mảng\n",
    "---\n",
    "\n",
    "**Lưu ý:** Các file dữ liệu được để trong thư mục Data_Excercise cùng cấp với file code"
   ]
  },
  {
   "cell_type": "code",
   "execution_count": 2,
   "metadata": {
    "colab": {},
    "colab_type": "code",
    "id": "tu9CMzc767_Q"
   },
   "outputs": [
    {
     "name": "stdout",
     "output_type": "stream",
     "text": [
      "[[ 2  4  3  7  5  6  5  6  8  9  3  6  1  9  8  7  3  3  9  5  1  6  5  1\n",
      "   4  6  7  1  1  1]\n",
      " [ 3  5  3 10  9  1  9  8  3  1  6  0  7 10  8  5  2  7  7  1  1  6  1  6\n",
      "   3  0  2  2  1  6]\n",
      " [ 1 10  4  9  6  9  0  2  3  1  8  6  8  4  2  9  2  9  5  0  4  1  7  3\n",
      "   8  9  8  9  9  9]\n",
      " [ 6  3  0  8  3  7  7  2  6  8  7  3  4  1  5  9  1  0  2 10  4  6  8  6\n",
      "   6 10  3  1  4  5]\n",
      " [ 4  3  6  7  4  5  2  6  9  4  3  9  9  4  5  7  2 10  9  4  0  5  3  1\n",
      "   4  5  6  8  2  3]\n",
      " [ 2  3  8 10  4  5  9  5  4  7 10  1  8  4  3  9  6  3  6  7  4  7  3  5\n",
      "   9  5  7  5  8  1]\n",
      " [ 9  9  1 10  9  9  5  9  6  3  9  5  1 10  7 10  2  8  8  1  8  4  5  4\n",
      "   9  6  7  2  9  2]\n",
      " [ 8  8  7  8  6  7  7  8  6  7  8  6  7  6  8  8  7  6  8  8  8  7  8  8\n",
      "   8  6  8  7  7  8]\n",
      " [ 6  7  8  9 10  9  2  2  6  1 10  9  6  3  9  5  9  8  1  1  8  8  8  6\n",
      "   6  8  7  3  8  1]\n",
      " [ 7  8  7  8  6 10 10  6  8 10  8  9  8  8  5 10  8  7  8  7  9  9  8  7\n",
      "   7  7 10  8  9  7]]\n",
      "Kiểu dữ liệu của phần tử trong mảng diem_2a: int8\n",
      "Kích thước của mảng diem_2a: (10, 30)\n",
      "Số phần tử của mảng diem_2a: 300\n",
      "Số chiều của mảng diem_2a: 2\n"
     ]
    }
   ],
   "source": [
    "import numpy as np\n",
    "\n",
    "#Đọc dữ liệu từ file Diem_2A.txt\n",
    "path  ='Data_Excercise\\Diem_2A.txt'\n",
    "diem_2a = np.loadtxt(path,delimiter=',',dtype=np.int8)\n",
    "\n",
    "print(diem_2a)\n",
    "print(\"Kiểu dữ liệu của phần tử trong mảng diem_2a:\", diem_2a.dtype)\n",
    "print(\"Kích thước của mảng diem_2a:\", diem_2a.shape)\n",
    "print(\"Số phần tử của mảng diem_2a:\", diem_2a.size)\n",
    "print(\"Số chiều của mảng diem_2a:\", diem_2a.ndim)"
   ]
  },
  {
   "cell_type": "code",
   "execution_count": 4,
   "metadata": {},
   "outputs": [
    {
     "name": "stdout",
     "output_type": "stream",
     "text": [
      "[[ 2  4  3  7  5  6  5  6  8  9  3  6  1  9  8  7  3  3  9  5  1  6  5  1\n",
      "   4  6  7  1  1  1]\n",
      " [ 3  5  3 10  9  1  9  8  3  1  6  0  7 10  8  5  2  7  7  1  1  6  1  6\n",
      "   3  0  2  2  1  6]\n",
      " [ 1 10  4  9  6  9  0  2  3  1  8  6  8  4  2  9  2  9  5  0  4  1  7  3\n",
      "   8  9  8  9  9  9]\n",
      " [ 6  3  0  8  3  7  7  2  6  8  7  3  4  1  5  9  1  0  2 10  4  6  8  6\n",
      "   6 10  3  1  4  5]\n",
      " [ 4  3  6  7  4  5  2  6  9  4  3  9  9  4  5  7  2 10  9  4  0  5  3  1\n",
      "   4  5  6  8  2  3]\n",
      " [ 2  3  8 10  4  5  9  5  4  7 10  1  8  4  3  9  6  3  6  7  4  7  3  5\n",
      "   9  5  7  5  8  1]\n",
      " [ 9  9  1 10  9  9  5  9  6  3  9  5  1 10  7 10  2  8  8  1  8  4  5  4\n",
      "   9  6  7  2  9  2]\n",
      " [ 8  8  7  8  6  7  7  8  6  7  8  6  7  6  8  8  7  6  8  8  8  7  8  8\n",
      "   8  6  8  7  7  8]\n",
      " [ 6  7  8  9 10  9  2  2  6  1 10  9  6  3  9  5  9  8  1  1  8  8  8  6\n",
      "   6  8  7  3  8  1]\n",
      " [ 7  8  7  8  6 10 10  6  8 10  8  9  8  8  5 10  8  7  8  7  9  9  8  7\n",
      "   7  7 10  8  9  7]]\n"
     ]
    }
   ],
   "source": [
    "#BAI NAY TESt\n",
    "\n",
    "path = 'Data_Excercise\\Diem_2A.txt'\n",
    "test_file = np.loadtxt(path,delimiter=', ', dtype = np.int32)\n",
    "print(test_file)"
   ]
  },
  {
   "cell_type": "markdown",
   "metadata": {
    "colab_type": "text",
    "id": "9VQ7U18w_XMr"
   },
   "source": [
    "### II.2) CÁC THAO TÁC VỚI MẢNG\n",
    "---\n",
    "### II.2.1 Hàm quan sát mảng"
   ]
  },
  {
   "cell_type": "code",
   "execution_count": null,
   "metadata": {
    "colab": {
     "base_uri": "https://localhost:8080/",
     "height": 35
    },
    "colab_type": "code",
    "id": "MnZc42FA_b43",
    "outputId": "dbee536f-b336-4155-b8fd-e66068cd8b2f"
   },
   "outputs": [],
   "source": [
    "#a.shape: Cho biết kích thước của mảng a:\n",
    "print('kích thước của mảng diem_2a:', diem_2a.shape)"
   ]
  },
  {
   "cell_type": "code",
   "execution_count": null,
   "metadata": {
    "colab": {},
    "colab_type": "code",
    "id": "s6N42V5lArDz"
   },
   "outputs": [],
   "source": [
    "#a.ndim: Cho biết Số chiều của mảng a:\n",
    "print('Số chiều của mảng diem_2a:', diem_2a.ndim)"
   ]
  },
  {
   "cell_type": "code",
   "execution_count": null,
   "metadata": {
    "colab": {},
    "colab_type": "code",
    "id": "RagL-6PtA4hU"
   },
   "outputs": [],
   "source": [
    "#a.size: Cho biết số phần tử của mảng a:\n",
    "print('Số phần tử của mảng diem_2a: ', diem_2a.size)"
   ]
  },
  {
   "cell_type": "code",
   "execution_count": null,
   "metadata": {
    "colab": {},
    "colab_type": "code",
    "id": "POcty5tOBriV"
   },
   "outputs": [],
   "source": [
    "#a.dtype: Cho biết kiểu dữ liệu của các phần tử trong mảng a\n",
    "print('Kiểu dữ liệu của các phần tử trong mảng diem_2a:', diem_2a.dtype)"
   ]
  },
  {
   "cell_type": "markdown",
   "metadata": {},
   "source": [
    "### II.2.2) Chuyển đổi kiểu dữ liệu các phần tử trong mảng\n",
    "---"
   ]
  },
  {
   "cell_type": "code",
   "execution_count": 6,
   "metadata": {
    "colab": {},
    "colab_type": "code",
    "id": "Yop1EpdECAiy"
   },
   "outputs": [
    {
     "name": "stdout",
     "output_type": "stream",
     "text": [
      "[  0.          33.33333333  66.66666667 100.         133.33333333\n",
      " 166.66666667 200.         233.33333333 266.66666667 300.        ]\n",
      "Kiểu Dữ liệu:  float64\n",
      "-----------------------------------------\n",
      "[  0  33  66 100 133 166 200 233 266 300]\n",
      "Dữ liệu sau khi chuyển:  int16\n"
     ]
    }
   ],
   "source": [
    "#a.astype(kiểu mới): Chuyển đổi kiểu dữ liệu của các phần tử\n",
    "import numpy as np\n",
    "a_float = np.linspace(0,300,10)\n",
    "print(a_float)\n",
    "print('Kiểu Dữ liệu: ', a_float.dtype)\n",
    "print('-----------------------------------------')\n",
    "# Chuyển từ kiểu float --> int\n",
    "a_int = a_float.astype(np.int16)\n",
    "print(a_int)\n",
    "print('Dữ liệu sau khi chuyển: ', a_int.dtype)"
   ]
  },
  {
   "cell_type": "code",
   "execution_count": 11,
   "metadata": {
    "colab": {},
    "colab_type": "code",
    "id": "GiVRDC-ZN8c_"
   },
   "outputs": [
    {
     "name": "stdout",
     "output_type": "stream",
     "text": [
      "['0' '33' '66' '100' '133' '166' '200' '233' '266' '300']\n",
      "Dữ liệu sau khi chuyển:  <U6\n"
     ]
    }
   ],
   "source": [
    "#Chuyển từ kiểu float --> string\n",
    "a_str = a_int.astype(np.str_)\n",
    "print(a_str)\n",
    "print('Dữ liệu sau khi chuyển: ', a_str.dtype)"
   ]
  },
  {
   "cell_type": "code",
   "execution_count": 12,
   "metadata": {},
   "outputs": [
    {
     "name": "stdout",
     "output_type": "stream",
     "text": [
      "[False  True  True  True  True  True  True  True  True  True]\n",
      "Dữ liệu sau khi chuyển:  bool\n"
     ]
    }
   ],
   "source": [
    "#Chuyển từ kiểu float --> boolean\n",
    "a_bol = a_int.astype(np.bool_)\n",
    "print(a_bol)\n",
    "print('Dữ liệu sau khi chuyển: ', a_bol.dtype)"
   ]
  },
  {
   "cell_type": "markdown",
   "metadata": {
    "colab_type": "text",
    "id": "VgmurRtbSWm1"
   },
   "source": [
    "### II.2.3) Truy cập tới các phần tử của mảng\n",
    "---"
   ]
  },
  {
   "cell_type": "markdown",
   "metadata": {
    "colab_type": "text",
    "id": "Ahun79u0aXz5"
   },
   "source": [
    "#### a) Truy cập tới các phần tử của Vector (1D)\n",
    "---\n"
   ]
  },
  {
   "cell_type": "code",
   "execution_count": 14,
   "metadata": {
    "colab": {
     "base_uri": "https://localhost:8080/",
     "height": 34
    },
    "colab_type": "code",
    "id": "K45TlS72Sc1y",
    "outputId": "00ac1b04-04aa-4523-8b30-fde4d35e9f99",
    "scrolled": true
   },
   "outputs": [
    {
     "name": "stdout",
     "output_type": "stream",
     "text": [
      "các phần tử của Vector a:\n",
      " [ 3  5  3 10  9  1  9  8  3  1]\n",
      "------------------------------------------------\n",
      "phần tử đầu tiên: 3\n",
      "phần tử thứ 3: 10\n",
      "phần tử cuối cùng: 1\n"
     ]
    }
   ],
   "source": [
    "#Truy cập tới một phần tử của Vector: a[index]\n",
    "#Note: index phần tử đầu tiên 0\n",
    "#    : index phần tử cuối cùng -1\n",
    "a = np.array([3,  5,  3, 10,  9,  1,  9,  8,  3,  1])\n",
    "\n",
    "print('các phần tử của Vector a:\\n', a)\n",
    "print('------------------------------------------------')\n",
    "print('phần tử đầu tiên:', a[0])\n",
    "print('phần tử thứ 3:', a[3])\n",
    "print('phần tử cuối cùng:', a[-1])"
   ]
  },
  {
   "cell_type": "code",
   "execution_count": 15,
   "metadata": {
    "colab": {
     "base_uri": "https://localhost:8080/",
     "height": 69
    },
    "colab_type": "code",
    "id": "zBqDxsoeUfa3",
    "outputId": "6921b752-2bb1-496d-e5b5-67918ba38fa4"
   },
   "outputs": [
    {
     "name": "stdout",
     "output_type": "stream",
     "text": [
      "các phần tử của Vector a:\n",
      " [ 3  5  3 10  9  1  9  8  3  1]\n",
      "------------------------------------------------\n",
      "3 Phần tử đầu tiên: [ 3  5  3 10]\n",
      "Từ phần tử thứ 5 tới hết: [1 9 8 3 1]\n",
      "Từ phần tử 2 đến phần tử <6 của vector: [ 3 10  9  1]\n"
     ]
    }
   ],
   "source": [
    "#Truy cập tới nhiều phần tử của Vector: a[index1:index2]\n",
    "print('các phần tử của Vector a:\\n', a)\n",
    "print('------------------------------------------------')\n",
    "print('3 Phần tử đầu tiên:', a[:4])\n",
    "print('Từ phần tử thứ 5 tới hết:', a[5:])\n",
    "print('Từ phần tử 2 đến phần tử <6 của vector:',a[2:6])"
   ]
  },
  {
   "cell_type": "markdown",
   "metadata": {},
   "source": [
    "## Lưu ý: Thay đổi giá trị của một phần tử trong mảng\n",
    "---\n",
    "(Tương tự với dữ liệu kiểu List, Dataframe)"
   ]
  },
  {
   "cell_type": "code",
   "execution_count": 17,
   "metadata": {},
   "outputs": [
    {
     "name": "stdout",
     "output_type": "stream",
     "text": [
      "[3 5 3 5 9 1 9 8 3 1]\n"
     ]
    }
   ],
   "source": [
    "#Mảng a ban đầu\n",
    "print(a)"
   ]
  },
  {
   "cell_type": "code",
   "execution_count": 18,
   "metadata": {},
   "outputs": [
    {
     "data": {
      "text/plain": [
       "array([3, 5, 3, 4, 9, 1, 9, 8, 3, 1])"
      ]
     },
     "execution_count": 18,
     "metadata": {},
     "output_type": "execute_result"
    }
   ],
   "source": [
    "#Cập nhật lại giá trị của phần tử thứ 3 trong mảng\n",
    "a[3]=4\n",
    "a"
   ]
  },
  {
   "cell_type": "code",
   "execution_count": null,
   "metadata": {},
   "outputs": [],
   "source": [
    "#Tạo một mảng a1 có các phần tử như của mảng a\n",
    "a1 = a\n",
    "a1"
   ]
  },
  {
   "cell_type": "code",
   "execution_count": null,
   "metadata": {},
   "outputs": [],
   "source": [
    "#Cập nhật lại giá trị đầu tiên trong mảng a1\n",
    "a1[0]=100\n",
    "a1"
   ]
  },
  {
   "cell_type": "code",
   "execution_count": null,
   "metadata": {},
   "outputs": [],
   "source": [
    "#Các phần tử trong mảng a cũng sẽ cập nhật theo\n",
    "a"
   ]
  },
  {
   "cell_type": "code",
   "execution_count": null,
   "metadata": {},
   "outputs": [],
   "source": [
    "#Để giải quyết vấn đề này, sử dụng phương thức copy()\n",
    "a2=a.copy()\n",
    "a2"
   ]
  },
  {
   "cell_type": "code",
   "execution_count": null,
   "metadata": {},
   "outputs": [],
   "source": [
    "a2[0]=5\n",
    "a2"
   ]
  },
  {
   "cell_type": "code",
   "execution_count": null,
   "metadata": {},
   "outputs": [],
   "source": [
    "a"
   ]
  },
  {
   "cell_type": "code",
   "execution_count": 19,
   "metadata": {},
   "outputs": [
    {
     "name": "stdout",
     "output_type": "stream",
     "text": [
      "[2, 4, 6, 7]\n",
      "[2, 4, 6, 7]\n"
     ]
    }
   ],
   "source": [
    "#Tương tự với biến kiểu list\n",
    "list_a=[2,4,6,7]\n",
    "list_a1=list_a.copy()\n",
    "print(list_a)\n",
    "print(list_a1)"
   ]
  },
  {
   "cell_type": "code",
   "execution_count": 20,
   "metadata": {},
   "outputs": [
    {
     "name": "stdout",
     "output_type": "stream",
     "text": [
      "[2, 4, 6, 7]\n",
      "[100, 4, 6, 7]\n"
     ]
    }
   ],
   "source": [
    "list_a1[0]=100\n",
    "print(list_a)\n",
    "print(list_a1)"
   ]
  },
  {
   "cell_type": "markdown",
   "metadata": {
    "colab_type": "text",
    "id": "yMJSnBYdaijH"
   },
   "source": [
    "#### b)Truy cập tới các phần tử của ma trận\n",
    "---\n"
   ]
  },
  {
   "cell_type": "code",
   "execution_count": 15,
   "metadata": {},
   "outputs": [
    {
     "name": "stdout",
     "output_type": "stream",
     "text": [
      "[[ 2  4  3  7  5  6  5  6  8  9  3  6  1  9  8  7  3  3  9  5  1  6  5  1\n",
      "   4  6  7  1  1  1]\n",
      " [ 3  5  3 10  9  1  9  8  3  1  6  0  7 10  8  5  2  7  7  1  1  6  1  6\n",
      "   3  0  2  2  1  6]\n",
      " [ 1 10  4  9  6  9  0  2  3  1  8  6  8  4  2  9  2  9  5  0  4  1  7  3\n",
      "   8  9  8  9  9  9]\n",
      " [ 6  3  0  8  3  7  7  2  6  8  7  3  4  1  5  9  1  0  2 10  4  6  8  6\n",
      "   6 10  3  1  4  5]\n",
      " [ 4  3  6  7  4  5  2  6  9  4  3  9  9  4  5  7  2 10  9  4  0  5  3  1\n",
      "   4  5  6  8  2  3]\n",
      " [ 2  3  8 10  4  5  9  5  4  7 10  1  8  4  3  9  6  3  6  7  4  7  3  5\n",
      "   9  5  7  5  8  1]\n",
      " [ 9  9  1 10  9  9  5  9  6  3  9  5  1 10  7 10  2  8  8  1  8  4  5  4\n",
      "   9  6  7  2  9  2]\n",
      " [ 8  8  7  8  6  7  7  8  6  7  8  6  7  6  8  8  7  6  8  8  8  7  8  8\n",
      "   8  6  8  7  7  8]\n",
      " [ 6  7  8  9 10  9  2  2  6  1 10  9  6  3  9  5  9  8  1  1  8  8  8  6\n",
      "   6  8  7  3  8  1]\n",
      " [ 7  8  7  8  6 10 10  6  8 10  8  9  8  8  5 10  8  7  8  7  9  9  8  7\n",
      "   7  7 10  8  9  7]]\n"
     ]
    }
   ],
   "source": [
    "print(diem_2a)"
   ]
  },
  {
   "cell_type": "code",
   "execution_count": 2,
   "metadata": {
    "colab": {},
    "colab_type": "code",
    "id": "O-9LAg8aVJwq"
   },
   "outputs": [
    {
     "ename": "NameError",
     "evalue": "name 'diem_2a' is not defined",
     "output_type": "error",
     "traceback": [
      "\u001b[1;31m---------------------------------------------------------------------------\u001b[0m",
      "\u001b[1;31mNameError\u001b[0m                                 Traceback (most recent call last)",
      "\u001b[1;32m<ipython-input-2-69f819159476>\u001b[0m in \u001b[0;36m<module>\u001b[1;34m\u001b[0m\n\u001b[0;32m      1\u001b[0m \u001b[1;31m#Truy cập tới 1 phần tử của ma trận (2D): a[index_row, index_col]\u001b[0m\u001b[1;33m\u001b[0m\u001b[1;33m\u001b[0m\u001b[1;33m\u001b[0m\u001b[0m\n\u001b[1;32m----> 2\u001b[1;33m \u001b[0mprint\u001b[0m\u001b[1;33m(\u001b[0m\u001b[1;34m'Điểm môn học đầu tiên, của học sinh đầu tiên:'\u001b[0m\u001b[1;33m,\u001b[0m\u001b[0mdiem_2a\u001b[0m\u001b[1;33m[\u001b[0m\u001b[1;36m0\u001b[0m\u001b[1;33m,\u001b[0m\u001b[1;36m0\u001b[0m\u001b[1;33m]\u001b[0m\u001b[1;33m)\u001b[0m\u001b[1;33m\u001b[0m\u001b[1;33m\u001b[0m\u001b[0m\n\u001b[0m\u001b[0;32m      3\u001b[0m \u001b[0mprint\u001b[0m\u001b[1;33m(\u001b[0m\u001b[1;34m'Điểm môn học thứ 1, của học sinh thứ 3:'\u001b[0m\u001b[1;33m,\u001b[0m\u001b[0mdiem_2a\u001b[0m\u001b[1;33m[\u001b[0m\u001b[1;36m1\u001b[0m\u001b[1;33m,\u001b[0m\u001b[1;36m3\u001b[0m\u001b[1;33m]\u001b[0m\u001b[1;33m)\u001b[0m\u001b[1;33m\u001b[0m\u001b[1;33m\u001b[0m\u001b[0m\n\u001b[0;32m      4\u001b[0m \u001b[0mprint\u001b[0m\u001b[1;33m(\u001b[0m\u001b[1;34m'Điểm môn cuối cùng, của học sinh cuối cùng:'\u001b[0m\u001b[1;33m,\u001b[0m\u001b[0mdiem_2a\u001b[0m\u001b[1;33m[\u001b[0m\u001b[1;33m-\u001b[0m\u001b[1;36m1\u001b[0m\u001b[1;33m,\u001b[0m\u001b[1;33m-\u001b[0m\u001b[1;36m1\u001b[0m\u001b[1;33m]\u001b[0m\u001b[1;33m)\u001b[0m\u001b[1;33m\u001b[0m\u001b[1;33m\u001b[0m\u001b[0m\n\u001b[0;32m      5\u001b[0m \u001b[0mprint\u001b[0m\u001b[1;33m(\u001b[0m\u001b[1;34m'--------------------------------------------------------'\u001b[0m\u001b[1;33m)\u001b[0m\u001b[1;33m\u001b[0m\u001b[1;33m\u001b[0m\u001b[0m\n",
      "\u001b[1;31mNameError\u001b[0m: name 'diem_2a' is not defined"
     ]
    }
   ],
   "source": [
    "#Truy cập tới 1 phần tử của ma trận (2D): a[index_row, index_col]\n",
    "print('Điểm môn học đầu tiên, của học sinh đầu tiên:',diem_2a[0,0])\n",
    "print('Điểm môn học thứ 1, của học sinh thứ 3:',diem_2a[1,3])\n",
    "print('Điểm môn cuối cùng, của học sinh cuối cùng:',diem_2a[-1,-1])\n",
    "print('--------------------------------------------------------')\n",
    "print('Bảng điểm lớp 2A:\\n',diem_2a)"
   ]
  },
  {
   "cell_type": "code",
   "execution_count": 1,
   "metadata": {
    "colab": {
     "base_uri": "https://localhost:8080/",
     "height": 35
    },
    "colab_type": "code",
    "id": "mjICTCVBaxHP",
    "outputId": "1537a972-d2d3-4611-d845-7f32249fe55c"
   },
   "outputs": [
    {
     "ename": "NameError",
     "evalue": "name 'diem_2a' is not defined",
     "output_type": "error",
     "traceback": [
      "\u001b[1;31m---------------------------------------------------------------------------\u001b[0m",
      "\u001b[1;31mNameError\u001b[0m                                 Traceback (most recent call last)",
      "\u001b[1;32m<ipython-input-1-bea4aa942685>\u001b[0m in \u001b[0;36m<module>\u001b[1;34m\u001b[0m\n\u001b[0;32m      1\u001b[0m \u001b[1;31m#Truy cập tới nhiều phần tử trong ma trận: a[index_row1:index_row2,index_col1:index_col2]\u001b[0m\u001b[1;33m\u001b[0m\u001b[1;33m\u001b[0m\u001b[1;33m\u001b[0m\u001b[0m\n\u001b[0;32m      2\u001b[0m \u001b[1;31m#Lấy điểm tất cả các môn (tất cả các hàng) của học sinh 5:\u001b[0m\u001b[1;33m\u001b[0m\u001b[1;33m\u001b[0m\u001b[1;33m\u001b[0m\u001b[0m\n\u001b[1;32m----> 3\u001b[1;33m \u001b[0mdiem_hs5\u001b[0m \u001b[1;33m=\u001b[0m \u001b[0mdiem_2a\u001b[0m\u001b[1;33m[\u001b[0m\u001b[1;33m:\u001b[0m\u001b[1;33m,\u001b[0m\u001b[1;36m5\u001b[0m\u001b[1;33m]\u001b[0m\u001b[1;33m\u001b[0m\u001b[1;33m\u001b[0m\u001b[0m\n\u001b[0m\u001b[0;32m      4\u001b[0m \u001b[0mprint\u001b[0m\u001b[1;33m(\u001b[0m\u001b[1;34m\"Điểm các môn của học sinh 5:\"\u001b[0m\u001b[1;33m,\u001b[0m\u001b[0mdiem_hs5\u001b[0m\u001b[1;33m)\u001b[0m\u001b[1;33m\u001b[0m\u001b[1;33m\u001b[0m\u001b[0m\n\u001b[0;32m      5\u001b[0m \u001b[1;33m\u001b[0m\u001b[0m\n",
      "\u001b[1;31mNameError\u001b[0m: name 'diem_2a' is not defined"
     ]
    }
   ],
   "source": [
    "#Truy cập tới nhiều phần tử trong ma trận: a[index_row1:index_row2,index_col1:index_col2]\n",
    "#Lấy điểm tất cả các môn (tất cả các hàng) của học sinh 5:\n",
    "diem_hs5 = diem_2a[:,5]\n",
    "print(\"Điểm các môn của học sinh 5:\",diem_hs5)\n",
    "\n",
    "#Lấy điểm môn học cuối cùng của tất cả học sinh (tất cả các cột) \n",
    "diem_mon = diem_2a[-1,:]\n",
    "print(\"Điểm môn học cuối cùng của tất cả học sinh: \\n\",diem_mon)\n",
    "\n",
    "#Lấy điểm 5 môn học đầu tiên của 10 học sinh đầu tiên\n",
    "# diem5_hs10 = diem_2a[:5,10:16]\n",
    "diem5_hs10 = diem_2a[:5,:10]\n",
    "print(\"Bảng điểm 5 môn học đầu tiên của 10 học sinh đầu của lớp:\\n\",diem5_hs10)"
   ]
  },
  {
   "cell_type": "code",
   "execution_count": 5,
   "metadata": {},
   "outputs": [
    {
     "name": "stdout",
     "output_type": "stream",
     "text": [
      "[10  1  8  4  3  9  6  3  6  7  4]\n"
     ]
    }
   ],
   "source": [
    "#môn TA: hàng index = 5\n",
    "#tất cả điểm môn TA từ học sinh 10-->20\n",
    "diem_TA = diem_2a[5,10:21]\n",
    "print(diem_TA)"
   ]
  },
  {
   "cell_type": "markdown",
   "metadata": {},
   "source": [
    "### II.2.4) Các phép toán trên mảng\n",
    "---"
   ]
  },
  {
   "cell_type": "code",
   "execution_count": 30,
   "metadata": {},
   "outputs": [
    {
     "name": "stdout",
     "output_type": "stream",
     "text": [
      "Mảng a:  [7 5 8 1]\n",
      "Giá trị x: 3\n",
      "Tổng mảng a + x: [10  8 11  4]\n",
      "Tổng mảng a - x: [ 4  2  5 -2]\n",
      "Tích mảng a * b: [21 15 24  3]\n",
      "Tích mảng a / b: [2.33333333 1.66666667 2.66666667 0.33333333]\n",
      "Thương nguyên mảng a // b: [2 1 2 0]\n",
      "Thương dư của mảng a % b: [1 2 2 1]\n"
     ]
    }
   ],
   "source": [
    "#Thực hiện phép toán giữa biến array và một giá trị\n",
    "a=np.array([7,5,8,1])\n",
    "print('Mảng a: ', a)\n",
    "\n",
    "x = 3\n",
    "print('Giá trị x:',x)\n",
    "\n",
    "# Các phép toán giữa array với một giá trị\n",
    "array_tong = a + x\n",
    "print(\"Tổng mảng a + x:\", array_tong)\n",
    "\n",
    "array_hieu = a - x\n",
    "print(\"Tổng mảng a - x:\", array_hieu)\n",
    "\n",
    "array_tich=a*x\n",
    "print(\"Tích mảng a * b:\", array_tich)\n",
    "\n",
    "array_thuong=a/x\n",
    "print(\"Tích mảng a / b:\", array_thuong)\n",
    "\n",
    "array_thuongnguyen=a//x\n",
    "print(\"Thương nguyên mảng a // b:\", array_thuongnguyen)\n",
    "\n",
    "array_thuongdu=a%x\n",
    "print(\"Thương dư của mảng a % b:\", array_thuongdu)"
   ]
  },
  {
   "cell_type": "code",
   "execution_count": 31,
   "metadata": {},
   "outputs": [
    {
     "name": "stdout",
     "output_type": "stream",
     "text": [
      "Mảng a:  [7 5 8 1]\n",
      "Mảng b:  [1 2 3 4]\n",
      "Tổng mảng a + b: [ 8  7 11  5]\n",
      "Tổng mảng a - b: [ 6  3  5 -3]\n",
      "Tích mảng a * b: [ 7 10 24  4]\n",
      "Tích mảng a / b: [7.         2.5        2.66666667 0.25      ]\n",
      "Thương nguyên mảng a // b: [7 2 2 0]\n",
      "Thương dư của mảng a % b: [0 1 2 1]\n"
     ]
    }
   ],
   "source": [
    "# Thực hiện các phép toán giữa 2 biến array\n",
    "# Yêu cầu: Số phần tử của hai mảng, ma trận phải bằng nhau\n",
    "a=np.array((7,5,8,1))\n",
    "print('Mảng a: ', a)\n",
    "b=np.array((1,2,3,4))\n",
    "print('Mảng b: ', b)\n",
    "\n",
    "#Các phép toán trên 2 biến array\n",
    "array_tong = a + b\n",
    "print(\"Tổng mảng a + b:\", array_tong)\n",
    "\n",
    "array_hieu = a - b\n",
    "print(\"Tổng mảng a - b:\", array_hieu)\n",
    "\n",
    "array_tich=a*b\n",
    "print(\"Tích mảng a * b:\", array_tich)\n",
    "\n",
    "array_thuong=a/b\n",
    "print(\"Tích mảng a / b:\", array_thuong)\n",
    "\n",
    "array_thuongnguyen=a//b\n",
    "print(\"Thương nguyên mảng a // b:\", array_thuongnguyen)\n",
    "\n",
    "array_thuongdu=a%b\n",
    "print(\"Thương dư của mảng a % b:\", array_thuongdu)"
   ]
  },
  {
   "cell_type": "code",
   "execution_count": 37,
   "metadata": {},
   "outputs": [
    {
     "name": "stdout",
     "output_type": "stream",
     "text": [
      "Mảng a:  [7 5 8 1]\n",
      "Mảng b:  [1 2 3 4]\n",
      "Tong:  [ 8  7 11  5]\n",
      "Hieu:  [ 6  3  5 -3]\n",
      "Tich:  [ 7 10 24  4]\n",
      "Thuong:  [7.         2.5        2.66666667 0.25      ]\n",
      "Chia du:  [0 1 2 1]\n"
     ]
    }
   ],
   "source": [
    "#BAI NAY TEST\n",
    "\n",
    "a=np.array((7,5,8,1))\n",
    "print('Mảng a: ', a)\n",
    "b=np.array((1,2,3,4))\n",
    "print('Mảng b: ', b)\n",
    "\n",
    "# x = 5\n",
    "\n",
    "arr_sum = a + b\n",
    "arr_sub = a - b\n",
    "arr_mul = a * b\n",
    "arr_div = a / b\n",
    "arr_divdu = a % b\n",
    "\n",
    "print('Tong: ', arr_sum)\n",
    "print('Hieu: ', arr_sub)\n",
    "print('Tich: ', arr_mul)\n",
    "print('Thuong: ', arr_div)\n",
    "print('Chia du: ', arr_divdu)"
   ]
  },
  {
   "cell_type": "markdown",
   "metadata": {},
   "source": [
    "# Bài tập 18:\n",
    "---\n"
   ]
  },
  {
   "cell_type": "code",
   "execution_count": null,
   "metadata": {},
   "outputs": [],
   "source": []
  },
  {
   "cell_type": "code",
   "execution_count": null,
   "metadata": {},
   "outputs": [],
   "source": []
  },
  {
   "cell_type": "markdown",
   "metadata": {
    "colab_type": "text",
    "id": "yXwnkCYJk2FE"
   },
   "source": [
    "## 4) Tính toán các đặc trưng thống kê trong mảng\n",
    "---\n",
    "https://numpy.org/devdocs/reference/routines.statistics.html\n",
    "\n",
    "<img src='Pic\\math.png' width='350px'>\n",
    "\n",
    "Toán học và thống kê có một vai trò rất quan trọng trong khoa học dữ liệu!\n"
   ]
  },
  {
   "cell_type": "markdown",
   "metadata": {},
   "source": [
    "### 4.1) Min - Max\n",
    "---"
   ]
  },
  {
   "cell_type": "code",
   "execution_count": 1,
   "metadata": {},
   "outputs": [
    {
     "name": "stdout",
     "output_type": "stream",
     "text": [
      "BẢNG ĐIỂM CỦA LỚP 2A:\n"
     ]
    },
    {
     "ename": "NameError",
     "evalue": "name 'diem_2a' is not defined",
     "output_type": "error",
     "traceback": [
      "\u001b[1;31m---------------------------------------------------------------------------\u001b[0m",
      "\u001b[1;31mNameError\u001b[0m                                 Traceback (most recent call last)",
      "\u001b[1;32m<ipython-input-1-1e491b2eae87>\u001b[0m in \u001b[0;36m<module>\u001b[1;34m\u001b[0m\n\u001b[0;32m      1\u001b[0m \u001b[0mprint\u001b[0m\u001b[1;33m(\u001b[0m\u001b[1;34m'BẢNG ĐIỂM CỦA LỚP 2A:'\u001b[0m\u001b[1;33m)\u001b[0m\u001b[1;33m\u001b[0m\u001b[1;33m\u001b[0m\u001b[0m\n\u001b[1;32m----> 2\u001b[1;33m \u001b[0mprint\u001b[0m\u001b[1;33m(\u001b[0m\u001b[0mdiem_2a\u001b[0m\u001b[1;33m)\u001b[0m\u001b[1;33m\u001b[0m\u001b[1;33m\u001b[0m\u001b[0m\n\u001b[0m",
      "\u001b[1;31mNameError\u001b[0m: name 'diem_2a' is not defined"
     ]
    }
   ],
   "source": [
    "print('BẢNG ĐIỂM CỦA LỚP 2A:')\n",
    "print(diem_2a)"
   ]
  },
  {
   "cell_type": "code",
   "execution_count": 7,
   "metadata": {},
   "outputs": [
    {
     "name": "stdout",
     "output_type": "stream",
     "text": [
      "Điểm cao nhất của lớp: 10\n",
      "Điểm thấp nhất của lớp: 0\n"
     ]
    }
   ],
   "source": [
    "#Max - Min: Xác định giá trị lớn nhất, nhỏ nhất:\n",
    "#1) Hiển thị điểm cao nhất, thấp nhất của lớp 2A\n",
    "print('Điểm cao nhất của lớp:',diem_2a.max())\n",
    "print('Điểm thấp nhất của lớp:',diem_2a.min())"
   ]
  },
  {
   "cell_type": "code",
   "execution_count": 8,
   "metadata": {},
   "outputs": [
    {
     "data": {
      "text/plain": [
       "(10, 30)"
      ]
     },
     "execution_count": 8,
     "metadata": {},
     "output_type": "execute_result"
    }
   ],
   "source": [
    "diem_2a.shape"
   ]
  },
  {
   "cell_type": "code",
   "execution_count": 6,
   "metadata": {
    "colab": {},
    "colab_type": "code",
    "id": "idOxcfxek6Nl"
   },
   "outputs": [
    {
     "name": "stdout",
     "output_type": "stream",
     "text": [
      "Môn  0 : Điểm Max:  9 -- Điểm Min: 1\n",
      "Môn  1 : Điểm Max:  10 -- Điểm Min: 0\n",
      "Môn  2 : Điểm Max:  10 -- Điểm Min: 0\n",
      "Môn  3 : Điểm Max:  10 -- Điểm Min: 0\n",
      "Môn  4 : Điểm Max:  10 -- Điểm Min: 0\n",
      "Môn  5 : Điểm Max:  10 -- Điểm Min: 1\n",
      "Môn  6 : Điểm Max:  10 -- Điểm Min: 1\n",
      "Môn  7 : Điểm Max:  8 -- Điểm Min: 6\n",
      "Môn  8 : Điểm Max:  10 -- Điểm Min: 1\n",
      "Môn  9 : Điểm Max:  10 -- Điểm Min: 5\n"
     ]
    }
   ],
   "source": [
    "#2) Liệt kê điểm cao nhất và thấp nhất theo môn học\n",
    "for i in range(0,diem_2a.shape[0]):\n",
    "  print('Môn ', i,': Điểm Max: ', diem_2a[i,:].max(),\n",
    "                 '-- Điểm Min:',diem_2a[i,:].min())"
   ]
  },
  {
   "cell_type": "code",
   "execution_count": 19,
   "metadata": {},
   "outputs": [
    {
     "name": "stdout",
     "output_type": "stream",
     "text": [
      "Điểm max:  [ 9 10 10 10 10 10 10  8 10 10]\n",
      "Điểm Min:  [1 0 0 0 0 1 1 6 1 5]\n"
     ]
    }
   ],
   "source": [
    "#CÁCH 2:\n",
    "#phần tử max theo cột\n",
    "max_mh = diem_2a.max(axis=1)\n",
    "print('Điểm max: ', max_mh)\n",
    "\n",
    "#phần tử min theo cột\n",
    "min_mh = diem_2a.min(axis=1)\n",
    "print('Điểm Min: ', min_mh)"
   ]
  },
  {
   "cell_type": "markdown",
   "metadata": {},
   "source": [
    "* axis=0: Xử lý các phần tử theo hàng\n",
    "* axis=1: Xử lý các phần tử theo cột\n",
    "<img src='Pic\\pic.jpg' width='400px'>"
   ]
  },
  {
   "cell_type": "code",
   "execution_count": 1,
   "metadata": {},
   "outputs": [
    {
     "ename": "NameError",
     "evalue": "name 'diem_2a' is not defined",
     "output_type": "error",
     "traceback": [
      "\u001b[1;31m---------------------------------------------------------------------------\u001b[0m",
      "\u001b[1;31mNameError\u001b[0m                                 Traceback (most recent call last)",
      "\u001b[1;32m<ipython-input-1-6ba431496d77>\u001b[0m in \u001b[0;36m<module>\u001b[1;34m\u001b[0m\n\u001b[1;32m----> 1\u001b[1;33m \u001b[0mdiem_2a\u001b[0m\u001b[1;33m.\u001b[0m\u001b[0mshape\u001b[0m\u001b[1;33m\u001b[0m\u001b[1;33m\u001b[0m\u001b[0m\n\u001b[0m",
      "\u001b[1;31mNameError\u001b[0m: name 'diem_2a' is not defined"
     ]
    }
   ],
   "source": [
    "diem_2a.shape"
   ]
  },
  {
   "cell_type": "code",
   "execution_count": 11,
   "metadata": {},
   "outputs": [
    {
     "name": "stdout",
     "output_type": "stream",
     "text": [
      "Học sinh  0 : Điểm Max:  9 -- Điểm Min: 1\n",
      "Học sinh  1 : Điểm Max:  10 -- Điểm Min: 3\n",
      "Học sinh  2 : Điểm Max:  8 -- Điểm Min: 0\n",
      "Học sinh  3 : Điểm Max:  10 -- Điểm Min: 7\n",
      "Học sinh  4 : Điểm Max:  10 -- Điểm Min: 3\n",
      "Học sinh  5 : Điểm Max:  10 -- Điểm Min: 1\n",
      "Học sinh  6 : Điểm Max:  10 -- Điểm Min: 0\n",
      "Học sinh  7 : Điểm Max:  9 -- Điểm Min: 2\n",
      "Học sinh  8 : Điểm Max:  9 -- Điểm Min: 3\n",
      "Học sinh  9 : Điểm Max:  10 -- Điểm Min: 1\n",
      "Học sinh  10 : Điểm Max:  10 -- Điểm Min: 3\n",
      "Học sinh  11 : Điểm Max:  9 -- Điểm Min: 0\n",
      "Học sinh  12 : Điểm Max:  9 -- Điểm Min: 1\n",
      "Học sinh  13 : Điểm Max:  10 -- Điểm Min: 1\n",
      "Học sinh  14 : Điểm Max:  9 -- Điểm Min: 2\n",
      "Học sinh  15 : Điểm Max:  10 -- Điểm Min: 5\n",
      "Học sinh  16 : Điểm Max:  9 -- Điểm Min: 1\n",
      "Học sinh  17 : Điểm Max:  10 -- Điểm Min: 0\n",
      "Học sinh  18 : Điểm Max:  9 -- Điểm Min: 1\n",
      "Học sinh  19 : Điểm Max:  10 -- Điểm Min: 0\n",
      "Học sinh  20 : Điểm Max:  9 -- Điểm Min: 0\n",
      "Học sinh  21 : Điểm Max:  9 -- Điểm Min: 1\n",
      "Học sinh  22 : Điểm Max:  8 -- Điểm Min: 1\n",
      "Học sinh  23 : Điểm Max:  8 -- Điểm Min: 1\n",
      "Học sinh  24 : Điểm Max:  9 -- Điểm Min: 3\n",
      "Học sinh  25 : Điểm Max:  10 -- Điểm Min: 0\n",
      "Học sinh  26 : Điểm Max:  10 -- Điểm Min: 2\n",
      "Học sinh  27 : Điểm Max:  9 -- Điểm Min: 1\n",
      "Học sinh  28 : Điểm Max:  9 -- Điểm Min: 1\n",
      "Học sinh  29 : Điểm Max:  9 -- Điểm Min: 1\n"
     ]
    }
   ],
   "source": [
    "#3) Liệt kê điểm cao nhất và thấp nhất của mỗi học sinh\n",
    "for i in range(0,diem_2a.shape[1]):\n",
    "    print('Học sinh ', i,': Điểm Max: ', diem_2a[:,i].max(),\n",
    "                      '-- Điểm Min:',diem_2a[:,i].min())"
   ]
  },
  {
   "cell_type": "code",
   "execution_count": 9,
   "metadata": {},
   "outputs": [
    {
     "name": "stdout",
     "output_type": "stream",
     "text": [
      "Điểm max:  [ 9 10  8 10 10 10 10  9  9 10 10  9  9 10  9 10  9 10  9 10  9  9  8  8\n",
      "  9 10 10  9  9  9]\n",
      "Điểm Min:  [1 3 0 7 3 1 0 2 3 1 3 0 1 1 2 5 1 0 1 0 0 1 1 1 3 0 2 1 1 1]\n"
     ]
    }
   ],
   "source": [
    "#phần tử max theo hang\n",
    "max_mh = diem_2a.max(axis=0)\n",
    "print('Điểm max: ', max_mh)\n",
    "\n",
    "#phần tử min theo hang\n",
    "min_mh = diem_2a.min(axis=0)\n",
    "print('Điểm Min: ', min_mh)"
   ]
  },
  {
   "cell_type": "code",
   "execution_count": 10,
   "metadata": {
    "colab": {},
    "colab_type": "code",
    "id": "cWrmdj56mIJS"
   },
   "outputs": [
    {
     "name": "stdout",
     "output_type": "stream",
     "text": [
      "10\n",
      "7\n"
     ]
    }
   ],
   "source": [
    "#YÊU CẦU: HIỂN THỊ ĐIỂM CAO NHẤT VÀ THẤP NHẤT CỦA HỌC SINH Ở VỊ TRÍ THỨ 4 \n",
    "#Kết quả hiển thị như sau:\n",
    "#\"Điểm Max và Min của học sinh thứ 4: 10.0  điểm -  7.0  điểm\"\n",
    "#{Sinh viên viết code ở đây:}\n",
    "print(diem_2a[:,3].max())\n",
    "print(diem_2a[:,3].min())"
   ]
  },
  {
   "cell_type": "markdown",
   "metadata": {},
   "source": [
    "### 4.2) Sum\n",
    "---"
   ]
  },
  {
   "cell_type": "code",
   "execution_count": 11,
   "metadata": {
    "colab": {
     "base_uri": "https://localhost:8080/",
     "height": 538
    },
    "colab_type": "code",
    "id": "Go7CfJ4fNJ04",
    "outputId": "7b0cd976-0a95-4ed0-aa29-1f7f5e44eff6"
   },
   "outputs": [
    {
     "name": "stdout",
     "output_type": "stream",
     "text": [
      "Tổng tất các điểm trong của lớp 2A: 1731\n",
      "---------------------------------------------------\n",
      "Tổng điểm các môn của học sinh  0  :  48\n",
      "Tổng điểm các môn của học sinh  1  :  60\n",
      "Tổng điểm các môn của học sinh  2  :  47\n",
      "Tổng điểm các môn của học sinh  3  :  86\n",
      "Tổng điểm các môn của học sinh  4  :  62\n",
      "Tổng điểm các môn của học sinh  5  :  68\n",
      "Tổng điểm các môn của học sinh  6  :  56\n",
      "Tổng điểm các môn của học sinh  7  :  54\n",
      "Tổng điểm các môn của học sinh  8  :  59\n",
      "Tổng điểm các môn của học sinh  9  :  51\n",
      "Tổng điểm các môn của học sinh  10  :  72\n",
      "Tổng điểm các môn của học sinh  11  :  54\n",
      "Tổng điểm các môn của học sinh  12  :  59\n",
      "Tổng điểm các môn của học sinh  13  :  59\n",
      "Tổng điểm các môn của học sinh  14  :  60\n",
      "Tổng điểm các môn của học sinh  15  :  79\n",
      "Tổng điểm các môn của học sinh  16  :  42\n",
      "Tổng điểm các môn của học sinh  17  :  61\n",
      "Tổng điểm các môn của học sinh  18  :  63\n",
      "Tổng điểm các môn của học sinh  19  :  44\n",
      "Tổng điểm các môn của học sinh  20  :  47\n",
      "Tổng điểm các môn của học sinh  21  :  59\n",
      "Tổng điểm các môn của học sinh  22  :  56\n",
      "Tổng điểm các môn của học sinh  23  :  47\n",
      "Tổng điểm các môn của học sinh  24  :  64\n",
      "Tổng điểm các môn của học sinh  25  :  62\n",
      "Tổng điểm các môn của học sinh  26  :  65\n",
      "Tổng điểm các môn của học sinh  27  :  46\n",
      "Tổng điểm các môn của học sinh  28  :  58\n",
      "Tổng điểm các môn của học sinh  29  :  43\n"
     ]
    }
   ],
   "source": [
    "#Sum:Tính tổng các phần tử trong mảng\n",
    "print('Tổng tất các điểm trong của lớp 2A:', diem_2a.sum())\n",
    "print('---------------------------------------------------')\n",
    "\n",
    "#Tính tổng điểm của từng học sinh:\n",
    "for i in range(0,diem_2a.shape[1]):\n",
    "    print('Tổng điểm các môn của học sinh ', i,' : ', diem_2a[:,i].sum())"
   ]
  },
  {
   "cell_type": "code",
   "execution_count": 12,
   "metadata": {},
   "outputs": [
    {
     "data": {
      "text/plain": [
       "array([48, 60, 47, 86, 62, 68, 56, 54, 59, 51, 72, 54, 59, 59, 60, 79, 42,\n",
       "       61, 63, 44, 47, 59, 56, 47, 64, 62, 65, 46, 58, 43])"
      ]
     },
     "execution_count": 12,
     "metadata": {},
     "output_type": "execute_result"
    }
   ],
   "source": [
    "np.sum(diem_2a,axis=0)"
   ]
  },
  {
   "cell_type": "code",
   "execution_count": null,
   "metadata": {},
   "outputs": [],
   "source": [
    "np.sum(diem_2a,axis=1)"
   ]
  },
  {
   "cell_type": "markdown",
   "metadata": {},
   "source": [
    "### 4.3) Mean, Median, Mode, Range\n",
    "---"
   ]
  },
  {
   "cell_type": "code",
   "execution_count": 13,
   "metadata": {
    "colab": {},
    "colab_type": "code",
    "id": "GhKA_wR4rF_P"
   },
   "outputs": [
    {
     "name": "stdout",
     "output_type": "stream",
     "text": [
      "Điểm trung bình của cả lớp 2A: 5.77\n",
      "---------------------------------------------\n",
      "Điểm trung bình của học sinh  0  :  4.8\n",
      "Điểm trung bình của học sinh  1  :  6.0\n",
      "Điểm trung bình của học sinh  2  :  4.7\n",
      "Điểm trung bình của học sinh  3  :  8.6\n",
      "Điểm trung bình của học sinh  4  :  6.2\n",
      "Điểm trung bình của học sinh  5  :  6.8\n",
      "Điểm trung bình của học sinh  6  :  5.6\n",
      "Điểm trung bình của học sinh  7  :  5.4\n",
      "Điểm trung bình của học sinh  8  :  5.9\n",
      "Điểm trung bình của học sinh  9  :  5.1\n",
      "Điểm trung bình của học sinh  10  :  7.2\n",
      "Điểm trung bình của học sinh  11  :  5.4\n",
      "Điểm trung bình của học sinh  12  :  5.9\n",
      "Điểm trung bình của học sinh  13  :  5.9\n",
      "Điểm trung bình của học sinh  14  :  6.0\n",
      "Điểm trung bình của học sinh  15  :  7.9\n",
      "Điểm trung bình của học sinh  16  :  4.2\n",
      "Điểm trung bình của học sinh  17  :  6.1\n",
      "Điểm trung bình của học sinh  18  :  6.3\n",
      "Điểm trung bình của học sinh  19  :  4.4\n",
      "Điểm trung bình của học sinh  20  :  4.7\n",
      "Điểm trung bình của học sinh  21  :  5.9\n",
      "Điểm trung bình của học sinh  22  :  5.6\n",
      "Điểm trung bình của học sinh  23  :  4.7\n",
      "Điểm trung bình của học sinh  24  :  6.4\n",
      "Điểm trung bình của học sinh  25  :  6.2\n",
      "Điểm trung bình của học sinh  26  :  6.5\n",
      "Điểm trung bình của học sinh  27  :  4.6\n",
      "Điểm trung bình của học sinh  28  :  5.8\n",
      "Điểm trung bình của học sinh  29  :  4.3\n"
     ]
    }
   ],
   "source": [
    "# A) mean: Giá trị trung bình của mảng a\n",
    "print('Điểm trung bình của cả lớp 2A:', diem_2a.mean())\n",
    "print('---------------------------------------------')\n",
    "#Tính điểm trung bình của các học sinh trong lớp:\n",
    "#CÁCH 1: \n",
    "for i in range(0,diem_2a.shape[1]):\n",
    "  print('Điểm trung bình của học sinh ', i,' : ', diem_2a[:,i].mean())"
   ]
  },
  {
   "cell_type": "code",
   "execution_count": 14,
   "metadata": {
    "colab": {},
    "colab_type": "code",
    "id": "CDNc1EmxsOCY"
   },
   "outputs": [
    {
     "name": "stdout",
     "output_type": "stream",
     "text": [
      "[4.8 6.  4.7 8.6 6.2 6.8 5.6 5.4 5.9 5.1 7.2 5.4 5.9 5.9 6.  7.9 4.2 6.1\n",
      " 6.3 4.4 4.7 5.9 5.6 4.7 6.4 6.2 6.5 4.6 5.8 4.3]\n",
      "Điểm trung bình của học sinh  0  :  4.8\n",
      "Điểm trung bình của học sinh  1  :  6.0\n",
      "Điểm trung bình của học sinh  2  :  4.7\n",
      "Điểm trung bình của học sinh  3  :  8.6\n",
      "Điểm trung bình của học sinh  4  :  6.2\n",
      "Điểm trung bình của học sinh  5  :  6.8\n",
      "Điểm trung bình của học sinh  6  :  5.6\n",
      "Điểm trung bình của học sinh  7  :  5.4\n",
      "Điểm trung bình của học sinh  8  :  5.9\n",
      "Điểm trung bình của học sinh  9  :  5.1\n",
      "Điểm trung bình của học sinh  10  :  7.2\n",
      "Điểm trung bình của học sinh  11  :  5.4\n",
      "Điểm trung bình của học sinh  12  :  5.9\n",
      "Điểm trung bình của học sinh  13  :  5.9\n",
      "Điểm trung bình của học sinh  14  :  6.0\n",
      "Điểm trung bình của học sinh  15  :  7.9\n",
      "Điểm trung bình của học sinh  16  :  4.2\n",
      "Điểm trung bình của học sinh  17  :  6.1\n",
      "Điểm trung bình của học sinh  18  :  6.3\n",
      "Điểm trung bình của học sinh  19  :  4.4\n",
      "Điểm trung bình của học sinh  20  :  4.7\n",
      "Điểm trung bình của học sinh  21  :  5.9\n",
      "Điểm trung bình của học sinh  22  :  5.6\n",
      "Điểm trung bình của học sinh  23  :  4.7\n",
      "Điểm trung bình của học sinh  24  :  6.4\n",
      "Điểm trung bình của học sinh  25  :  6.2\n",
      "Điểm trung bình của học sinh  26  :  6.5\n",
      "Điểm trung bình của học sinh  27  :  4.6\n",
      "Điểm trung bình của học sinh  28  :  5.8\n",
      "Điểm trung bình của học sinh  29  :  4.3\n"
     ]
    }
   ],
   "source": [
    "#Tính điểm trung bình của các học sinh trong lớp:\n",
    "#CÁCH 2: \n",
    "mean_2a = diem_2a.mean(axis=0)\n",
    "print(mean_2a)\n",
    "#axis = 0: theo hàng\n",
    "#axis = 1: theo cột\n",
    "for i in range(0,mean_2a.size):\n",
    "  print('Điểm trung bình của học sinh ', i,' : ', mean_2a[i])"
   ]
  },
  {
   "cell_type": "code",
   "execution_count": 5,
   "metadata": {
    "colab": {
     "base_uri": "https://localhost:8080/",
     "height": 134
    },
    "colab_type": "code",
    "id": "cq-jzNk71NOT",
    "outputId": "da72d089-8cdf-4567-dffc-582541562d0c"
   },
   "outputs": [
    {
     "name": "stdout",
     "output_type": "stream",
     "text": [
      "Mảng a ban đầu: \n",
      " [ 3  5  3 10  9  1  9  8  3  1  6  0  7 10  8]\n",
      "Số phần tử trong mảng a:  15\n",
      "Mảng a đã sắp xếp: \n",
      " [ 0  1  1  3  3  3  5  6  7  8  8  9  9 10 10]\n",
      "Giá trị trung bình mean: 5.533333333333333\n",
      "Giá trị trung vị median: 6.0\n"
     ]
    }
   ],
   "source": [
    "#B) median(): Giá trị trung vị trong một tập hợp các phần tử.\n",
    "#Trường hợp số phần tử trong mảng là lẻ\n",
    "a=diem_2a[1,:15]\n",
    "\n",
    "print('Mảng a ban đầu: \\n', a)\n",
    "print('Số phần tử trong mảng a: ', a.size)\n",
    "print('Mảng a đã sắp xếp: \\n',np.sort(a,))\n",
    "print('Giá trị trung bình mean:', np.mean(a))  \n",
    "print('Giá trị trung vị median:', np.median(a))"
   ]
  },
  {
   "cell_type": "code",
   "execution_count": 6,
   "metadata": {
    "colab": {
     "base_uri": "https://localhost:8080/",
     "height": 134
    },
    "colab_type": "code",
    "id": "igZocFli-ddl",
    "outputId": "7200a038-da85-4206-8f67-ab7c0b906289",
    "scrolled": true
   },
   "outputs": [
    {
     "name": "stdout",
     "output_type": "stream",
     "text": [
      "Mảng a ban đầu: \n",
      " [ 9  1  1  8  4  7  3  7  1 10]\n",
      "Số phần tử trong mảng a:  10\n",
      "Mảng a đã sắp xếp: \n",
      " [ 1  1  1  3  4  7  7  8  9 10]\n",
      "Giá trị trung bình mean: 5.1\n",
      "Giá trị trung vị median: 5.5\n"
     ]
    }
   ],
   "source": [
    "#median(): Giá trị trung vị trong một tập hợp các phần tử.\n",
    "a=diem_2a[:,9]\n",
    "\n",
    "print('Mảng a ban đầu: \\n', a)\n",
    "print('Số phần tử trong mảng a: ', a.size)\n",
    "print('Mảng a đã sắp xếp: \\n',np.sort(a,))\n",
    "print('Giá trị trung bình mean:', np.mean(a))  \n",
    "print('Giá trị trung vị median:', np.median(a))"
   ]
  },
  {
   "cell_type": "code",
   "execution_count": null,
   "metadata": {},
   "outputs": [],
   "source": []
  },
  {
   "cell_type": "code",
   "execution_count": 5,
   "metadata": {
    "colab": {
     "base_uri": "https://localhost:8080/",
     "height": 202
    },
    "colab_type": "code",
    "id": "aZviHD9fBFOz",
    "outputId": "b7076f3b-60a8-4709-be12-de6ce393b078"
   },
   "outputs": [
    {
     "name": "stdout",
     "output_type": "stream",
     "text": [
      "Môn  0 : Điểm xuất hiện nhiều nhất:  [1]  số lần:  [6]\n",
      "Môn  1 : Điểm xuất hiện nhiều nhất:  [1]  số lần:  [6]\n",
      "Môn  2 : Điểm xuất hiện nhiều nhất:  [9]  số lần:  [8]\n",
      "Môn  3 : Điểm xuất hiện nhiều nhất:  [6]  số lần:  [5]\n",
      "Môn  4 : Điểm xuất hiện nhiều nhất:  [4]  số lần:  [6]\n",
      "Môn  5 : Điểm xuất hiện nhiều nhất:  [5]  số lần:  [5]\n",
      "Môn  6 : Điểm xuất hiện nhiều nhất:  [9]  số lần:  [8]\n",
      "Môn  7 : Điểm xuất hiện nhiều nhất:  [8]  số lần:  [15]\n",
      "Môn  8 : Điểm xuất hiện nhiều nhất:  [8]  số lần:  [7]\n",
      "Môn  9 : Điểm xuất hiện nhiều nhất:  [8]  số lần:  [10]\n",
      "<class 'scipy.stats.stats.ModeResult'>\n"
     ]
    }
   ],
   "source": [
    "#C) Mode: là giá trị xuất hiện nhiều nhất trong tập hợp. \n",
    "#Trong trường hợp không có giá trị nào được lặp lại thì không có Mode.\n",
    "#Liệt kê điểm xuất hiện nhiều nhất theo từng môn học\n",
    "from scipy import stats as sp #sử dụng thư viện scipy để dùng hàm mode\n",
    "\n",
    "for i in range(0,diem_2a.shape[0]):\n",
    "    a = sp.mode(diem_2a[i,:])\n",
    "    print('Môn ', i,': Điểm xuất hiện nhiều nhất: ', a[0],\n",
    "        ' số lần: ', a[1])\n",
    "print(type(a))"
   ]
  },
  {
   "cell_type": "code",
   "execution_count": 5,
   "metadata": {
    "colab": {},
    "colab_type": "code",
    "id": "YbE-5b0zIQGt"
   },
   "outputs": [
    {
     "name": "stdout",
     "output_type": "stream",
     "text": [
      "Độ chênh điểm của học sinh  0  :  8\n",
      "Độ chênh điểm của học sinh  1  :  7\n",
      "Độ chênh điểm của học sinh  2  :  8\n",
      "Độ chênh điểm của học sinh  3  :  3\n",
      "Độ chênh điểm của học sinh  4  :  7\n",
      "Độ chênh điểm của học sinh  5  :  9\n",
      "Độ chênh điểm của học sinh  6  :  10\n",
      "Độ chênh điểm của học sinh  7  :  7\n",
      "Độ chênh điểm của học sinh  8  :  6\n",
      "Độ chênh điểm của học sinh  9  :  9\n",
      "Độ chênh điểm của học sinh  10  :  7\n",
      "Độ chênh điểm của học sinh  11  :  9\n",
      "Độ chênh điểm của học sinh  12  :  8\n",
      "Độ chênh điểm của học sinh  13  :  9\n",
      "Độ chênh điểm của học sinh  14  :  7\n",
      "Độ chênh điểm của học sinh  15  :  5\n",
      "Độ chênh điểm của học sinh  16  :  8\n",
      "Độ chênh điểm của học sinh  17  :  10\n",
      "Độ chênh điểm của học sinh  18  :  8\n",
      "Độ chênh điểm của học sinh  19  :  10\n",
      "Độ chênh điểm của học sinh  20  :  9\n",
      "Độ chênh điểm của học sinh  21  :  8\n",
      "Độ chênh điểm của học sinh  22  :  7\n",
      "Độ chênh điểm của học sinh  23  :  7\n",
      "Độ chênh điểm của học sinh  24  :  6\n",
      "Độ chênh điểm của học sinh  25  :  10\n",
      "Độ chênh điểm của học sinh  26  :  8\n",
      "Độ chênh điểm của học sinh  27  :  8\n",
      "Độ chênh điểm của học sinh  28  :  8\n",
      "Độ chênh điểm của học sinh  29  :  8\n"
     ]
    }
   ],
   "source": [
    "#D) Range: là sự khác biệt, khoảng cách giữa phần tử dưới và phần tử trên, \n",
    "#giữa giá trị nhỏ nhất (Min) với giá trị lớn nhất (Max) trong tập hợp.\n",
    "#Xác định độ chênh điểm max - min của từng học sinh\n",
    "\n",
    "for i in range(0,diem_2a.shape[1]):\n",
    "    print('Độ chênh điểm của học sinh ', i,' : ',\n",
    "        diem_2a[:,i].max()-diem_2a[:,i].min())"
   ]
  },
  {
   "cell_type": "markdown",
   "metadata": {},
   "source": [
    "**Độ lệch chuẩn (standard deviation): Độ lệch tiêu chuẩn (standard deviation) là đại lượng thường được sử dụng để phản ánh mức độ phân tán của một biến số xung quanh số bình quân.**\n",
    "* Nếu độ lệch chuẩn bằng 0, suy ra các giá trị quan sát cũng chính là giá trị trung bình. Nói cách khác là không có sự biến thiên.\n",
    "* Nếu độ lệch chuẩn càng lớn, suy ra  sự biến thiên xung quanh giá trị trung bình càng lớn.\n",
    "\n",
    "<img src='pic\\std.png'>\n",
    "\n",
    "<img src='pic\\std1.png'>"
   ]
  },
  {
   "cell_type": "code",
   "execution_count": 6,
   "metadata": {},
   "outputs": [
    {
     "name": "stdout",
     "output_type": "stream",
     "text": [
      "Phần tử của mảng a: [10  1  1  9 12  1  9 12 10]\n",
      "Giá trị trung bình: 7.222222222222222\n",
      "Độ lệch chuẩn: 4.516089207311461\n",
      "--------------------------------------------\n",
      "Phần tử của mảng b: [7 7 8 7 8 7 7 7 7]\n",
      "Giá trị trung bình: 7.222222222222222\n",
      "Độ lệch chuẩn: 0.41573970964154905\n"
     ]
    }
   ],
   "source": [
    "#E) Std: Tính độ lệch chuẩn\n",
    "a = np.array([10,1,1,9,12,1,9,12,10])\n",
    "print('Phần tử của mảng a:',a)\n",
    "print('Giá trị trung bình:',a.mean())\n",
    "print('Độ lệch chuẩn:',a.std())\n",
    "\n",
    "print('--------------------------------------------')\n",
    "b = np.array([7,7,8,7,8,7,7,7,7])\n",
    "print('Phần tử của mảng b:',b)\n",
    "print('Giá trị trung bình:',b.mean())\n",
    "print('Độ lệch chuẩn:',b.std())"
   ]
  },
  {
   "cell_type": "code",
   "execution_count": 6,
   "metadata": {
    "colab": {
     "base_uri": "https://localhost:8080/",
     "height": 521
    },
    "colab_type": "code",
    "id": "nuAUyO_ZVJSH",
    "outputId": "fc98ead3-315f-4cac-a034-09182727574d"
   },
   "outputs": [
    {
     "name": "stdout",
     "output_type": "stream",
     "text": [
      "Độ lệch chuẩn điểm của từng học sinh  0  :  2.638181191654584\n",
      "Độ lệch chuẩn điểm của từng học sinh  1  :  2.569046515733026\n",
      "Độ lệch chuẩn điểm của từng học sinh  2  :  2.758622844826744\n",
      "Độ lệch chuẩn điểm của từng học sinh  3  :  1.1135528725660042\n",
      "Độ lệch chuẩn điểm của từng học sinh  4  :  2.2715633383201093\n",
      "Độ lệch chuẩn điểm của từng học sinh  5  :  2.56124969497314\n",
      "Độ lệch chuẩn điểm của từng học sinh  6  :  3.2310988842807027\n",
      "Độ lệch chuẩn điểm của từng học sinh  7  :  2.4979991993593593\n",
      "Độ lệch chuẩn điểm của từng học sinh  8  :  1.9723082923316018\n",
      "Độ lệch chuẩn điểm của từng học sinh  9  :  3.3301651610693423\n",
      "Độ lệch chuẩn điểm của từng học sinh  10  :  2.4\n",
      "Độ lệch chuẩn điểm của từng học sinh  11  :  3.072458299147443\n",
      "Độ lệch chuẩn điểm của từng học sinh  12  :  2.7730849247724096\n",
      "Độ lệch chuẩn điểm của từng học sinh  13  :  3.014962686336267\n",
      "Độ lệch chuẩn điểm của từng học sinh  14  :  2.23606797749979\n",
      "Độ lệch chuẩn điểm của từng học sinh  15  :  1.7578395831246945\n",
      "Độ lệch chuẩn điểm của từng học sinh  16  :  2.8213471959331766\n",
      "Độ lệch chuẩn điểm của từng học sinh  17  :  2.981610303175115\n",
      "Độ lệch chuẩn điểm của từng học sinh  18  :  2.685144316419511\n",
      "Độ lệch chuẩn điểm của từng học sinh  19  :  3.352610922848042\n",
      "Độ lệch chuẩn điểm của từng học sinh  20  :  3.1953090617340916\n",
      "Độ lệch chuẩn điểm của từng học sinh  21  :  2.118962010041709\n",
      "Độ lệch chuẩn điểm của từng học sinh  22  :  2.4576411454889016\n",
      "Độ lệch chuẩn điểm của từng học sinh  23  :  2.282542442102666\n",
      "Độ lệch chuẩn điểm của từng học sinh  24  :  2.0591260281974\n",
      "Độ lệch chuẩn điểm của từng học sinh  25  :  2.6\n",
      "Độ lệch chuẩn điểm của từng học sinh  26  :  2.247220505424423\n",
      "Độ lệch chuẩn điểm của từng học sinh  27  :  3.006659275674582\n",
      "Độ lệch chuẩn điểm của từng học sinh  28  :  3.2496153618543846\n",
      "Độ lệch chuẩn điểm của từng học sinh  29  :  2.934280150224242\n"
     ]
    }
   ],
   "source": [
    "#E) Std: độ lệch chuẩn\n",
    "#Tính độ lệch chuẩn điểm thi của từng học sinh\n",
    "hs_std = np.std(diem_2a,axis=0)\n",
    "for i in range(0,diem_2a.shape[1]):\n",
    "  print('Độ lệch chuẩn điểm của từng học sinh ', i,' : ', hs_std[i])"
   ]
  },
  {
   "cell_type": "code",
   "execution_count": 7,
   "metadata": {},
   "outputs": [
    {
     "data": {
      "text/plain": [
       "3.352610922848042"
      ]
     },
     "execution_count": 7,
     "metadata": {},
     "output_type": "execute_result"
    }
   ],
   "source": [
    "# Độ lệch chuẩn của điểm theo từng Học sinh\n",
    "# 1) Độ lệch chuẩn lớn nhất của điểm thi theo học sinh\n",
    "diem_2a.std(axis=0).max()"
   ]
  },
  {
   "cell_type": "code",
   "execution_count": 18,
   "metadata": {},
   "outputs": [
    {
     "name": "stdout",
     "output_type": "stream",
     "text": [
      "[ 5  1  0 10  4  7  1  8  1  7]\n"
     ]
    }
   ],
   "source": [
    "# Điểm của học sinh này\n",
    "print(diem_2a[:,19])\n",
    "# hs_19 = diem_2a[:,19].mean()\n",
    "\n",
    "# print('Diem tb cua hs thu 19: ', hs_19)\n",
    "# print('Đô chênh lệch điểm so vs điểm TB cua hs thu 19: ', diem_2a[:,19].std())\n"
   ]
  },
  {
   "cell_type": "code",
   "execution_count": 15,
   "metadata": {},
   "outputs": [
    {
     "data": {
      "text/plain": [
       "1.1135528725660042"
      ]
     },
     "execution_count": 15,
     "metadata": {},
     "output_type": "execute_result"
    }
   ],
   "source": [
    "# 2) Độ lệch chuẩn nhỏ nhất của điểm thi theo học sinh\n",
    "diem_2a.std(axis=0).min()"
   ]
  },
  {
   "cell_type": "code",
   "execution_count": 22,
   "metadata": {},
   "outputs": [
    {
     "data": {
      "text/plain": [
       "array([ 7, 10,  9,  8,  7, 10, 10,  8,  9,  8], dtype=int8)"
      ]
     },
     "execution_count": 22,
     "metadata": {},
     "output_type": "execute_result"
    }
   ],
   "source": [
    "# Điểm của học sinh này\n",
    "diem_2a[:,3]"
   ]
  },
  {
   "cell_type": "markdown",
   "metadata": {},
   "source": [
    "# Bài tập 19:\n",
    "---\n",
    "\n"
   ]
  },
  {
   "cell_type": "code",
   "execution_count": null,
   "metadata": {},
   "outputs": [],
   "source": []
  },
  {
   "cell_type": "code",
   "execution_count": null,
   "metadata": {},
   "outputs": [],
   "source": []
  },
  {
   "cell_type": "markdown",
   "metadata": {
    "colab": {},
    "colab_type": "code",
    "id": "mZjltyhGt0-l"
   },
   "source": [
    "### 4.3) Hệ số tương quan | corrcoef\n",
    "---\n",
    "\n",
    "Hệ số tương quan đo lường mức độ quan hệ tuyến tính giữa hai biến.\n",
    "* Hệ số tương quan không có đơn vị\n",
    "* Hệ số tương quan nằm trong khoảng [-1,1]\n",
    "<img src='Pic\\corr.png' width='400px'>\n",
    "<img src='Pic\\corr1.png' width='400px'>"
   ]
  },
  {
   "cell_type": "code",
   "execution_count": 11,
   "metadata": {
    "colab": {
     "base_uri": "https://localhost:8080/",
     "height": 84
    },
    "colab_type": "code",
    "id": "AzbLh8h1dDn7",
    "outputId": "e8263aac-7bd0-4114-d2a8-ab9386f6a67c"
   },
   "outputs": [
    {
     "name": "stdout",
     "output_type": "stream",
     "text": [
      "[[ 4  7  1  2  8  0  3  8  6]\n",
      " [ 7  9  3  4  9  0  5 10  8]]\n",
      "<class 'numpy.ndarray'>\n",
      "Hệ số tương quan: \n",
      " [[1.         0.96995403]\n",
      " [0.96995403 1.        ]]\n"
     ]
    }
   ],
   "source": [
    "import numpy as np\n",
    "#corrcoef: Hệ số tương quan\n",
    "\n",
    "#Thời gian dành cho học bài\n",
    "a_giohoc = np.array([4,7,1,2,8,0,3,8,6])\n",
    "\n",
    "#Điểm thi nhận được:\n",
    "b_diem   = np.array([7,9,3,4,9,0,5,10,8])\n",
    "\n",
    "print(np.asarray((a_giohoc,b_diem)))\n",
    "\n",
    "#Tính hệ số tương quan\n",
    "co = np.corrcoef(a_giohoc,b_diem)\n",
    "print(type(co))\n",
    "print('Hệ số tương quan: \\n', co)"
   ]
  },
  {
   "cell_type": "code",
   "execution_count": 24,
   "metadata": {
    "colab": {
     "base_uri": "https://localhost:8080/",
     "height": 297
    },
    "colab_type": "code",
    "id": "2M0_uFNSg7wa",
    "outputId": "3ce8e3f7-c30a-40d4-d5b7-2b92c26a89a8"
   },
   "outputs": [
    {
     "data": {
      "image/png": "[encoded data removed]",
      "text/plain": [
       "<Figure size 432x288 with 1 Axes>"
      ]
     },
     "metadata": {
      "needs_background": "light"
     },
     "output_type": "display_data"
    }
   ],
   "source": [
    "#Vẽ đồ thị mối quan hệ giữa thời gian học và điểm nhận được\n",
    "\n",
    "import matplotlib.pyplot as plt\n",
    "fig, ax = plt.subplots()\n",
    "ax.scatter(a_giohoc, b_diem)\n",
    "\n",
    "ax.set_xlabel('Giờ học bài (tuần)', fontsize=10)\n",
    "ax.set_ylabel('Điểm môn học', fontsize=10)\n",
    "ax.set_title('BIỂU ĐỒ THỂ HIỆN MỐI TƯƠNG QUAN GIỮA GIỜ HỌC BÀI VÀ ĐIỂM THI')\n",
    "\n",
    "ax.grid(True)\n",
    "#fig.tight_layout()\n",
    "\n",
    "plt.show()"
   ]
  },
  {
   "cell_type": "code",
   "execution_count": 49,
   "metadata": {
    "colab": {
     "base_uri": "https://localhost:8080/",
     "height": 67
    },
    "colab_type": "code",
    "id": "rQxsOLWSeJfn",
    "outputId": "f7d12246-8a86-4a58-9c54-4ed4d9719fc4"
   },
   "outputs": [
    {
     "name": "stdout",
     "output_type": "stream",
     "text": [
      "[[ 4  7  1  2  8  0  3  8  6]\n",
      " [ 7  9  3  4  9  0  5 10  8]\n",
      " [ 1  2  8  7  3  9  6  4  2]]\n",
      "<class 'numpy.ndarray'>\n",
      "[[ 1.          0.96995403 -0.78943742]\n",
      " [ 0.96995403  1.         -0.85749293]\n",
      " [-0.78943742 -0.85749293  1.        ]]\n"
     ]
    }
   ],
   "source": [
    "#Hệ số tương quan của Matrix\n",
    "import numpy as np\n",
    "a_hoc = np.array([[4,7,1,2,8,0,3,8,6],\n",
    "                 [7,9,3,4,9,0,5,10,8],\n",
    "                 [1,2,8,7,3,9,6,4,2]])\n",
    "\n",
    "#Tính hệ số tương quan theo từng hàng(rowvar=True| default)\n",
    "co = np.corrcoef(a_hoc,rowvar= True)\n",
    "print(a_hoc)\n",
    "print(type(co))\n",
    "print(co)\n",
    "\n"
   ]
  },
  {
   "cell_type": "code",
   "execution_count": 23,
   "metadata": {},
   "outputs": [
    {
     "name": "stdout",
     "output_type": "stream",
     "text": [
      "<class 'numpy.ndarray'>\n",
      "[[ 1.         -0.42562847]\n",
      " [-0.42562847  1.        ]]\n",
      "[[4 3 5 8 0 1 4]\n",
      " [1 2 6 4 8 6 2]]\n"
     ]
    },
    {
     "data": {
      "image/png": "[encoded data removed]",
      "text/plain": [
       "<Figure size 432x288 with 1 Axes>"
      ]
     },
     "metadata": {
      "needs_background": "light"
     },
     "output_type": "display_data"
    }
   ],
   "source": [
    "mang_1 =[4,3,5,8,0,1,4]\n",
    "mang_2 =[1,2,6,4,8,6,2]\n",
    "\n",
    "both_arr = np.asarray((mang_1,mang_2))\n",
    "\n",
    "he_tuongquan = np.corrcoef(both_arr)\n",
    "print(type(he_tuongquan))\n",
    "print(he_tuongquan)\n",
    "print(both_arr)\n",
    "import matplotlib.pyplot as plt\n",
    "fig, ax = plt.subplots()\n",
    "ax.scatter(mang_1, mang_2)\n",
    "\n",
    "ax.set_xlabel('Giờ học bài (tuần)', fontsize=10)\n",
    "ax.set_ylabel('Điểm môn học', fontsize=10)\n",
    "ax.set_title('BIỂU ĐỒ THỂ HIỆN MỐI TƯƠNG QUAN GIỮA GIỜ HỌC BÀI VÀ ĐIỂM THI')\n",
    "\n",
    "ax.grid(True)\n",
    "#fig.tight_layout()\n",
    "\n",
    "plt.show()"
   ]
  },
  {
   "cell_type": "markdown",
   "metadata": {},
   "source": [
    "## Example:\n",
    "---\n",
    "**Ex 1: Xác định hệ số tương quan giữa diện tích (1)  và giá bán nhà theo bảng số liệu:**\n",
    "<img src = 'Pic\\sl1.png' width='350px'>\n"
   ]
  },
  {
   "cell_type": "code",
   "execution_count": null,
   "metadata": {},
   "outputs": [],
   "source": []
  },
  {
   "cell_type": "code",
   "execution_count": 41,
   "metadata": {},
   "outputs": [
    {
     "name": "stdout",
     "output_type": "stream",
     "text": [
      "[[1.         0.97846012]\n",
      " [0.97846012 1.        ]]\n"
     ]
    },
    {
     "data": {
      "image/png": "[encoded data removed]",
      "text/plain": [
       "<Figure size 432x288 with 1 Axes>"
      ]
     },
     "metadata": {
      "needs_background": "light"
     },
     "output_type": "display_data"
    }
   ],
   "source": [
    "#Hệ số tương quan giữa Diện tích và giá nhà\n",
    "\n",
    "stats_home = np.array([[1460, 2108, 1743, 1499, 1864, 2391, 1977, 1610, 1530, 1759, 1821,2216],\n",
    "                      [288.7, 309.3, 301.4, 291.1, 302.4, 314.9, 305.4, 297, 292.4, 298.2 ,304.3, 311.7]])\n",
    "\n",
    "corref = np.corrcoef(stats_home)\n",
    "print(corref)\n",
    "# print(stats_home)\n",
    "\n",
    "import matplotlib.pyplot as plt\n",
    "fig, ax = plt.subplots()\n",
    "ax.scatter(stats_home[0],stats_home[1])\n",
    "\n",
    "ax.set_xlabel('X (Square Feet)', fontsize=10)\n",
    "ax.set_ylabel('Y (Prices)', fontsize=10)\n",
    "ax.set_title('BIỂU ĐỒ THỂ HIỆN MỐI TƯƠNG QUAN GIỮA DIỆN TÍCH PHÒNG VÀ GIÁ CẢ')\n",
    "\n",
    "ax.grid(True)\n",
    "#fig.tight_layout()\n",
    "\n",
    "plt.show()"
   ]
  },
  {
   "cell_type": "markdown",
   "metadata": {},
   "source": [
    "**Ex 2: Xác định hệ số tương quan giữa Khoảng cách từ trung tâm thành phố (2) và giá bán nhà theo bảng số liệu:**\n",
    "<img src = 'Pic\\sl2.png' width='350px'>"
   ]
  },
  {
   "cell_type": "code",
   "execution_count": 44,
   "metadata": {},
   "outputs": [
    {
     "name": "stdout",
     "output_type": "stream",
     "text": [
      "[[ 1.         -0.69873006]\n",
      " [-0.69873006  1.        ]]\n"
     ]
    },
    {
     "data": {
      "image/png": "[encoded data removed]",
      "text/plain": [
       "<Figure size 432x288 with 1 Axes>"
      ]
     },
     "metadata": {
      "needs_background": "light"
     },
     "output_type": "display_data"
    }
   ],
   "source": [
    "#Hệ số tương quan giữa khoảng cách và giá nhà\n",
    "stats_home = np.array([[2.8, 0.8, 1.0, 0.6, 1.5, 2.0, 3.4, 1.2, 3.6, 1.7],\n",
    "                      [214, 376, 280, 362, 200, 190, 236, 244, 128, 165]])\n",
    "\n",
    "corref = np.corrcoef(stats_home)\n",
    "print(corref)\n",
    "# print(stats_home)\n",
    "\n",
    "import matplotlib.pyplot as plt\n",
    "fig, ax = plt.subplots()\n",
    "ax.scatter(stats_home[0],stats_home[1])\n",
    "\n",
    "ax.set_xlabel('Khoảng cách', fontsize=10)\n",
    "ax.set_ylabel('Giá cả', fontsize=10)\n",
    "ax.set_title('BIỂU ĐỒ THỂ HIỆN MỐI TƯƠNG QUAN GIỮA KHOẢNG CÁCH NHÀ VÀ GIÁ CẢ')\n",
    "\n",
    "ax.grid(True)\n",
    "#fig.tight_layout()\n",
    "\n",
    "plt.show()"
   ]
  },
  {
   "cell_type": "markdown",
   "metadata": {},
   "source": [
    "# Bài tập 20:\n",
    "---"
   ]
  },
  {
   "cell_type": "code",
   "execution_count": null,
   "metadata": {},
   "outputs": [],
   "source": []
  },
  {
   "cell_type": "code",
   "execution_count": null,
   "metadata": {},
   "outputs": [],
   "source": []
  },
  {
   "cell_type": "markdown",
   "metadata": {},
   "source": [
    "# Bài tập 21:\n",
    "---"
   ]
  },
  {
   "cell_type": "code",
   "execution_count": null,
   "metadata": {},
   "outputs": [],
   "source": []
  }
 ],
 "metadata": {
  "colab": {
   "collapsed_sections": [],
   "name": "Chuong_4_package_Numpy.ipynb",
   "provenance": []
  },
  "kernelspec": {
   "display_name": "Python 3",
   "language": "python",
   "name": "python3"
  },
  "language_info": {
   "codemirror_mode": {
    "name": "ipython",
    "version": 3
   },
   "file_extension": ".py",
   "mimetype": "text/x-python",
   "name": "python",
   "nbconvert_exporter": "python",
   "pygments_lexer": "ipython3",
   "version": "3.8.8"
  }
 },
 "nbformat": 4,
 "nbformat_minor": 1
}
