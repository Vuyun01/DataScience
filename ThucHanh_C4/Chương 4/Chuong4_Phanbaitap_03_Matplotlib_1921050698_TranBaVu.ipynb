{
 "cells": [
  {
   "cell_type": "markdown",
   "metadata": {},
   "source": [
    "\n",
    "# CHƯƠNG 4: THƯ VIỆN MATPLOTLIB - PHẦN BÀI TẬP\n",
    "---\n",
    "\n",
    "1. Họ tên học viên: Trần Bá Vũ\n",
    "2. Email: vu12401it@gmail.com\n",
    "3. SĐT:0377342405\n",
    "\n",
    "*Lưu ý: Học viên xem thêm mô tả chi tiết các bài tập trong slide*"
   ]
  },
  {
   "cell_type": "markdown",
   "metadata": {},
   "source": [
    "## Bài tập 27: Làm việc với Matplotlib\n",
    "Sử dụng kết quả thống kê được ở Bài tập 20 về nhiệt độ max, min, mean của 6 thành phố:\n",
    "\n",
    "Yêu cầu:\n",
    "1. Vẽ biểu đồ dạng đường biểu diễn nhiệt độ Max của 6 thành phố\n",
    "2. Vẽ biểu đồ dạng cột biểu diễn nhiệt độ Mean của 6 thành phố\n",
    "4.  Vẽ biểu đồ dạng điểm biểu diễn nhiệt độ Min của 6 thành phố\n",
    "\n",
    "*(Thiết lập các tham số để có được kết quả như hình minh họa trong slide)*\n"
   ]
  },
  {
   "cell_type": "code",
   "execution_count": 26,
   "metadata": {},
   "outputs": [
    {
     "data": {
      "text/html": [
       "<div>\n",
       "<style scoped>\n",
       "    .dataframe tbody tr th:only-of-type {\n",
       "        vertical-align: middle;\n",
       "    }\n",
       "\n",
       "    .dataframe tbody tr th {\n",
       "        vertical-align: top;\n",
       "    }\n",
       "\n",
       "    .dataframe thead th {\n",
       "        text-align: right;\n",
       "    }\n",
       "</style>\n",
       "<table border=\"1\" class=\"dataframe\">\n",
       "  <thead>\n",
       "    <tr style=\"text-align: right;\">\n",
       "      <th></th>\n",
       "      <th>Ha Noi</th>\n",
       "      <th>Vinh</th>\n",
       "      <th>Da Nang</th>\n",
       "      <th>Nha Trang</th>\n",
       "      <th>Tp.HCM</th>\n",
       "      <th>Ca Mau</th>\n",
       "      <th>General</th>\n",
       "    </tr>\n",
       "  </thead>\n",
       "  <tbody>\n",
       "    <tr>\n",
       "      <th>Max</th>\n",
       "      <td>33.45</td>\n",
       "      <td>32.57</td>\n",
       "      <td>29.88</td>\n",
       "      <td>28.68</td>\n",
       "      <td>31.06</td>\n",
       "      <td>31.37</td>\n",
       "      <td>33.45</td>\n",
       "    </tr>\n",
       "    <tr>\n",
       "      <th>Mean</th>\n",
       "      <td>27.71</td>\n",
       "      <td>26.72</td>\n",
       "      <td>25.52</td>\n",
       "      <td>26.17</td>\n",
       "      <td>26.16</td>\n",
       "      <td>26.73</td>\n",
       "      <td>26.50</td>\n",
       "    </tr>\n",
       "    <tr>\n",
       "      <th>Min</th>\n",
       "      <td>21.68</td>\n",
       "      <td>22.60</td>\n",
       "      <td>20.93</td>\n",
       "      <td>24.50</td>\n",
       "      <td>23.22</td>\n",
       "      <td>23.99</td>\n",
       "      <td>20.93</td>\n",
       "    </tr>\n",
       "  </tbody>\n",
       "</table>\n",
       "</div>"
      ],
      "text/plain": [
       "      Ha Noi   Vinh  Da Nang  Nha Trang  Tp.HCM  Ca Mau  General\n",
       "Max    33.45  32.57    29.88      28.68   31.06   31.37    33.45\n",
       "Mean   27.71  26.72    25.52      26.17   26.16   26.73    26.50\n",
       "Min    21.68  22.60    20.93      24.50   23.22   23.99    20.93"
      ]
     },
     "execution_count": 26,
     "metadata": {},
     "output_type": "execute_result"
    }
   ],
   "source": [
    "#{Học viên viết code ở đây}\n",
    "import pandas as pd\n",
    "import matplotlib.pyplot as plt\n",
    "\n",
    "dict_name = {0:'Ha Noi',\n",
    "            1:'Vinh',\n",
    "            2:'Da Nang',\n",
    "            3:'Nha Trang',\n",
    "            4:'Tp.HCM',\n",
    "            5:'Ca Mau',\n",
    "            6:'General'}\n",
    "\n",
    "data_temp = pd.read_csv('Thongke.txt',\n",
    "                        sep ='\\t',\n",
    "                        header = None)\n",
    "df_temp = data_temp.rename(columns = dict_name, index = {0:'Max',1:'Mean', 2:'Min'})\n",
    "\n",
    "\n",
    "\n",
    "df_temp\n",
    "\n"
   ]
  },
  {
   "cell_type": "code",
   "execution_count": 27,
   "metadata": {},
   "outputs": [
    {
     "data": {
      "text/html": [
       "<div>\n",
       "<style scoped>\n",
       "    .dataframe tbody tr th:only-of-type {\n",
       "        vertical-align: middle;\n",
       "    }\n",
       "\n",
       "    .dataframe tbody tr th {\n",
       "        vertical-align: top;\n",
       "    }\n",
       "\n",
       "    .dataframe thead th {\n",
       "        text-align: right;\n",
       "    }\n",
       "</style>\n",
       "<table border=\"1\" class=\"dataframe\">\n",
       "  <thead>\n",
       "    <tr style=\"text-align: right;\">\n",
       "      <th></th>\n",
       "      <th>Ha Noi</th>\n",
       "      <th>Vinh</th>\n",
       "      <th>Da Nang</th>\n",
       "      <th>Nha Trang</th>\n",
       "      <th>Tp.HCM</th>\n",
       "      <th>Ca Mau</th>\n",
       "    </tr>\n",
       "  </thead>\n",
       "  <tbody>\n",
       "    <tr>\n",
       "      <th>Max</th>\n",
       "      <td>33.45</td>\n",
       "      <td>32.57</td>\n",
       "      <td>29.88</td>\n",
       "      <td>28.68</td>\n",
       "      <td>31.06</td>\n",
       "      <td>31.37</td>\n",
       "    </tr>\n",
       "    <tr>\n",
       "      <th>Mean</th>\n",
       "      <td>27.71</td>\n",
       "      <td>26.72</td>\n",
       "      <td>25.52</td>\n",
       "      <td>26.17</td>\n",
       "      <td>26.16</td>\n",
       "      <td>26.73</td>\n",
       "    </tr>\n",
       "    <tr>\n",
       "      <th>Min</th>\n",
       "      <td>21.68</td>\n",
       "      <td>22.60</td>\n",
       "      <td>20.93</td>\n",
       "      <td>24.50</td>\n",
       "      <td>23.22</td>\n",
       "      <td>23.99</td>\n",
       "    </tr>\n",
       "  </tbody>\n",
       "</table>\n",
       "</div>"
      ],
      "text/plain": [
       "      Ha Noi   Vinh  Da Nang  Nha Trang  Tp.HCM  Ca Mau\n",
       "Max    33.45  32.57    29.88      28.68   31.06   31.37\n",
       "Mean   27.71  26.72    25.52      26.17   26.16   26.73\n",
       "Min    21.68  22.60    20.93      24.50   23.22   23.99"
      ]
     },
     "execution_count": 27,
     "metadata": {},
     "output_type": "execute_result"
    }
   ],
   "source": [
    "#Tao moi data frame\n",
    "df_new_temp = df_temp.iloc[:,:6]\n",
    "df_new_temp"
   ]
  },
  {
   "cell_type": "code",
   "execution_count": 46,
   "metadata": {},
   "outputs": [
    {
     "data": {
      "image/png": "[encoded data removed]",
      "text/plain": [
       "<Figure size 720x360 with 1 Axes>"
      ]
     },
     "metadata": {
      "needs_background": "light"
     },
     "output_type": "display_data"
    }
   ],
   "source": [
    "#1: Vẽ biểu đồ dạng đường biểu diễn nhiệt độ Max của 6 thành phố\n",
    "\n",
    "plt.plot(df_new_temp.columns,                  \n",
    "         df_new_temp.iloc[0,:6],              \n",
    "         'r*--',\n",
    "         label='ToC - Max',\n",
    "         markersize = 10)\n",
    "\n",
    "plt.ylabel('Nhiệt độ')\n",
    "plt.title('Biểu Đồ Thể hiện nhiệt độ Max của 6 thành phố')\n",
    "plt.legend();\n",
    "\n",
    "plt.grid(True)\n",
    "plt.show();\n",
    "\n",
    "\n",
    "\n",
    "# data_temp.columns"
   ]
  },
  {
   "cell_type": "code",
   "execution_count": 47,
   "metadata": {},
   "outputs": [
    {
     "data": {
      "image/png": "[encoded data removed]",
      "text/plain": [
       "<Figure size 720x360 with 1 Axes>"
      ]
     },
     "metadata": {
      "needs_background": "light"
     },
     "output_type": "display_data"
    }
   ],
   "source": [
    "#2: Vẽ biểu đồ dạng cột biểu diễn nhiệt độ Mean của 6 thành phố\n",
    "plt.bar(df_new_temp.columns,                  \n",
    "         df_new_temp.iloc[1,:6],              \n",
    "         color ='black')\n",
    "\n",
    "plt.ylabel('Nhiệt độ')\n",
    "plt.title('Biểu Đồ Thể hiện nhiệt độ Mean của 6 thành phố')\n",
    "plt.grid(True)"
   ]
  },
  {
   "cell_type": "code",
   "execution_count": 57,
   "metadata": {},
   "outputs": [
    {
     "data": {
      "image/png": "[encoded data removed]",
      "text/plain": [
       "<Figure size 720x360 with 1 Axes>"
      ]
     },
     "metadata": {
      "needs_background": "light"
     },
     "output_type": "display_data"
    }
   ],
   "source": [
    "#3: Vẽ biểu đồ dạng điểm biểu diễn nhiệt độ Min của 6 thành phố\n",
    "plt.plot(df_new_temp.columns,                  \n",
    "         df_new_temp.iloc[2,:6],              \n",
    "         color = 'lightblue',\n",
    "         linestyle = 'None',\n",
    "         marker = 'o',\n",
    "         markersize = 20)\n",
    "\n",
    "plt.ylabel('Nhiệt độ')\n",
    "plt.title('Biểu Đồ Thể hiện nhiệt độ Min của 6 thành phố')\n",
    "plt.grid(True)\n",
    "plt.show();"
   ]
  },
  {
   "cell_type": "code",
   "execution_count": null,
   "metadata": {},
   "outputs": [],
   "source": []
  },
  {
   "cell_type": "code",
   "execution_count": null,
   "metadata": {},
   "outputs": [],
   "source": []
  }
 ],
 "metadata": {
  "kernelspec": {
   "display_name": "Python 3",
   "language": "python",
   "name": "python3"
  },
  "language_info": {
   "codemirror_mode": {
    "name": "ipython",
    "version": 3
   },
   "file_extension": ".py",
   "mimetype": "text/x-python",
   "name": "python",
   "nbconvert_exporter": "python",
   "pygments_lexer": "ipython3",
   "version": "3.8.8"
  }
 },
 "nbformat": 4,
 "nbformat_minor": 2
}
